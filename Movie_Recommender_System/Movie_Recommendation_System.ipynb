{
  "nbformat": 4,
  "nbformat_minor": 0,
  "metadata": {
    "colab": {
      "provenance": [],
      "gpuType": "T4"
    },
    "kernelspec": {
      "name": "python3",
      "display_name": "Python 3"
    },
    "language_info": {
      "name": "python"
    },
    "accelerator": "GPU"
  },
  "cells": [
    {
      "cell_type": "code",
      "source": [
        "import tmdbsimple as tmdb\n",
        "\n",
        "tmdb.API_KEY = '{api_key}'\n",
        "\n",
        "def movie_meta_data(movie_id):\n",
        "    movie = tmdb.Movies(movie_id)\n",
        "    response = movie.info()\n",
        "\n",
        "    # Construct the complete poster URL\n",
        "    base_url = 'https://image.tmdb.org/t/p/w500'\n",
        "    poster_path = response['poster_path']\n",
        "    movie_poster = f\"{base_url}{poster_path}\"\n",
        "\n",
        "    title = response['title']\n",
        "    summary = response['overview']\n",
        "\n",
        "    genres = response['genres']\n",
        "    genre_names = [genre['name'] for genre in genres]  # Extract genre names\n",
        "    genre_text = \", \".join(genre_names)\n",
        "\n",
        "    trailers = movie.videos()  # Get available videos\n",
        "    youtube_trailer_key = trailers['results'][0]['key']  # Assuming the first result is a YouTube trailer\n",
        "    youtube_trailer_url = f\"https://www.youtube.com/watch?v={youtube_trailer_key}\"\n",
        "\n",
        "    # Fetching movie rating\n",
        "    rating = response['vote_average']\n",
        "\n",
        "    return [title, summary, movie_poster, youtube_trailer_url, genre_text, rating]\n",
        "\n",
        "\n",
        "def director_meta_data(movie_id):\n",
        "  tmdb.API_KEY = 'b4f4e5073f49c9bba30dd68659314a41'\n",
        "  movie = tmdb.Movies(movie_id)\n",
        "\n",
        "  # Get movie credits\n",
        "  credits = movie.credits()\n",
        "\n",
        "  # Extract director name and their TMDb ID\n",
        "  director_name = credits['crew'][0]['name']\n",
        "  director_id = credits['crew'][0]['id']\n",
        "\n",
        "  # Get director details (including profile image path)\n",
        "  director_details = tmdb.People(director_id).info()  # Use People instead of Persons\n",
        "  director_profile_path = director_details['profile_path']\n",
        "\n",
        "  # Construct director's image URL\n",
        "  director_url = f\"https://image.tmdb.org/t/p/w500{director_profile_path}\"\n",
        "\n",
        "  return [director_name, director_url]\n",
        "\n",
        "\n",
        "\n",
        "def cast_meta_data(movie_id):\n",
        "  tmdb.API_KEY = 'b4f4e5073f49c9bba30dd68659314a41'  # Replace with your actual API key\n",
        "\n",
        "  movie = tmdb.Movies(movie_id)\n",
        "\n",
        "  # Get movie credits\n",
        "  credits = movie.credits()\n",
        "\n",
        "  # Get top 5 cast members with images\n",
        "  cast = credits['cast'][:5]  # Get the first 5 cast members\n",
        "  top_cast = []\n",
        "  for person in cast:\n",
        "      profile_path = person['profile_path']  # Get profile image path\n",
        "      profile_url = f\"https://image.tmdb.org/t/p/w500{profile_path}\"  # Construct full URL\n",
        "      top_cast.append({\n",
        "          'name': person['name'],\n",
        "          'character': person['character'],\n",
        "          'profile_url': profile_url\n",
        "      })\n",
        "  return top_cast\n"
      ],
      "metadata": {
        "id": "HxY-9Qh0lnZe"
      },
      "execution_count": null,
      "outputs": []
    },
    {
      "cell_type": "code",
      "source": [
        "movie_meta_data('tt14174940')"
      ],
      "metadata": {
        "colab": {
          "base_uri": "https://localhost:8080/"
        },
        "id": "sG2HwWLV1dAG",
        "outputId": "fbc8eda5-6079-4f94-ed0e-438cbcac9d1f"
      },
      "execution_count": null,
      "outputs": [
        {
          "output_type": "execute_result",
          "data": {
            "text/plain": [
              "['Interceptor',\n",
              " 'A U.S. Army Captain uses her years of tactical training to save humanity from sixteen nuclear missiles launched at the U.S. as a violent attack threatens her remote missile interceptor station.',\n",
              " 'https://image.tmdb.org/t/p/w500/cpWUtkcgRKeauhTyVMjYHxAutp4.jpg',\n",
              " 'https://www.youtube.com/watch?v=4_fNeiD0Uwk',\n",
              " 'Action, Thriller, Adventure']"
            ]
          },
          "metadata": {},
          "execution_count": 148
        }
      ]
    },
    {
      "cell_type": "code",
      "execution_count": 1,
      "metadata": {
        "colab": {
          "base_uri": "https://localhost:8080/"
        },
        "id": "QCfgacdcZs0C",
        "outputId": "2cfe5808-e1b5-427a-be25-16eef2a843c1"
      },
      "outputs": [
        {
          "output_type": "stream",
          "name": "stdout",
          "text": [
            "Requirement already satisfied: kaggle in /usr/local/lib/python3.10/dist-packages (1.5.16)\n",
            "Requirement already satisfied: six>=1.10 in /usr/local/lib/python3.10/dist-packages (from kaggle) (1.16.0)\n",
            "Requirement already satisfied: certifi in /usr/local/lib/python3.10/dist-packages (from kaggle) (2023.11.17)\n",
            "Requirement already satisfied: python-dateutil in /usr/local/lib/python3.10/dist-packages (from kaggle) (2.8.2)\n",
            "Requirement already satisfied: requests in /usr/local/lib/python3.10/dist-packages (from kaggle) (2.31.0)\n",
            "Requirement already satisfied: tqdm in /usr/local/lib/python3.10/dist-packages (from kaggle) (4.66.1)\n",
            "Requirement already satisfied: python-slugify in /usr/local/lib/python3.10/dist-packages (from kaggle) (8.0.1)\n",
            "Requirement already satisfied: urllib3 in /usr/local/lib/python3.10/dist-packages (from kaggle) (2.0.7)\n",
            "Requirement already satisfied: bleach in /usr/local/lib/python3.10/dist-packages (from kaggle) (6.1.0)\n",
            "Requirement already satisfied: webencodings in /usr/local/lib/python3.10/dist-packages (from bleach->kaggle) (0.5.1)\n",
            "Requirement already satisfied: text-unidecode>=1.3 in /usr/local/lib/python3.10/dist-packages (from python-slugify->kaggle) (1.3)\n",
            "Requirement already satisfied: charset-normalizer<4,>=2 in /usr/local/lib/python3.10/dist-packages (from requests->kaggle) (3.3.2)\n",
            "Requirement already satisfied: idna<4,>=2.5 in /usr/local/lib/python3.10/dist-packages (from requests->kaggle) (3.6)\n"
          ]
        }
      ],
      "source": [
        "! pip install kaggle"
      ]
    },
    {
      "cell_type": "code",
      "source": [
        "import os\n",
        "\n",
        "# Move the uploaded API key to the correct directory\n",
        "os.makedirs(\"/root/.kaggle\", exist_ok=True)\n",
        "os.rename(\"kaggle.json\", \"/root/.kaggle/kaggle.json\")\n",
        "\n",
        "# Set file permissions for the API key\n",
        "os.chmod(\"/root/.kaggle/kaggle.json\",600)"
      ],
      "metadata": {
        "id": "k_DhxkmbbRNk"
      },
      "execution_count": 3,
      "outputs": []
    },
    {
      "cell_type": "code",
      "source": [
        "!kaggle datasets download -d  utsh0dey/25k-movie-dataset\n",
        "!unzip /content/25k-movie-dataset.zip"
      ],
      "metadata": {
        "colab": {
          "base_uri": "https://localhost:8080/"
        },
        "id": "crsA6q2Ybvp9",
        "outputId": "da4ae15c-5652-4734-e9c3-69a741acb689"
      },
      "execution_count": 4,
      "outputs": [
        {
          "output_type": "stream",
          "name": "stdout",
          "text": [
            "Downloading 25k-movie-dataset.zip to /content\n",
            "\r  0% 0.00/4.67M [00:00<?, ?B/s]\n",
            "\r100% 4.67M/4.67M [00:00<00:00, 51.3MB/s]\n",
            "Archive:  /content/25k-movie-dataset.zip\n",
            "  inflating: 25k IMDb movie Dataset.csv  \n"
          ]
        }
      ]
    },
    {
      "cell_type": "code",
      "source": [
        "# importing dataset\n",
        "import pandas as pd\n",
        "import numpy as np\n",
        "import matplotlib.pyplot as plt\n",
        "import seaborn as sns"
      ],
      "metadata": {
        "id": "br7Smj4kj8RX"
      },
      "execution_count": 218,
      "outputs": []
    },
    {
      "cell_type": "code",
      "source": [
        "df=pd.read_csv('/content/25k IMDb movie Dataset.csv')"
      ],
      "metadata": {
        "id": "04ebZAXHocoK"
      },
      "execution_count": 308,
      "outputs": []
    },
    {
      "cell_type": "code",
      "source": [
        "df.head(4)"
      ],
      "metadata": {
        "colab": {
          "base_uri": "https://localhost:8080/",
          "height": 542
        },
        "id": "Vl2RGrZbr6S-",
        "outputId": "a1878530-b0d8-4316-d345-96a92839070f"
      },
      "execution_count": 309,
      "outputs": [
        {
          "output_type": "execute_result",
          "data": {
            "text/plain": [
              "               movie title                  Run Time Rating User Rating  \\\n",
              "0        Top Gun: Maverick  $170,000,000 (estimated)    8.6        187K   \n",
              "1  Jurassic World Dominion        2 hours 27 minutes      6         56K   \n",
              "2                  Top Gun   $15,000,000 (estimated)    6.9        380K   \n",
              "3                Lightyear               $71,101,257    5.2         32K   \n",
              "\n",
              "                                Generes  \\\n",
              "0                   ['Action', 'Drama']   \n",
              "1     ['Action', 'Adventure', 'Sci-Fi']   \n",
              "2                   ['Action', 'Drama']   \n",
              "3  ['Animation', 'Action', 'Adventure']   \n",
              "\n",
              "                                            Overview  \\\n",
              "0  After more than thirty years of service as one...   \n",
              "1  Four years after the destruction of Isla Nubla...   \n",
              "2  As students at the United States Navy's elite ...   \n",
              "3  While spending years attempting to return home...   \n",
              "\n",
              "                                        Plot Kyeword         Director  \\\n",
              "0  ['fighter jet', 'sequel', 'u.s. navy', 'fighte...  Joseph Kosinski   \n",
              "1  ['dinosaur', 'jurassic park', 'tyrannosaurus r...  Colin Trevorrow   \n",
              "2  ['pilot', 'male camaraderie', 'u.s. navy', 'gr...       Tony Scott   \n",
              "3  ['galaxy', 'spaceship', 'robot', 'rocket', 'sp...    Angus MacLane   \n",
              "\n",
              "                                         Top 5 Casts            Writer   year  \\\n",
              "0  ['Jack Epps Jr.', 'Peter Craig', 'Tom Cruise',...          Jim Cash  -2022   \n",
              "1  ['Colin Trevorrow', 'Derek Connolly', 'Chris P...  Emily Carmichael  -2022   \n",
              "2  ['Jack Epps Jr.', 'Ehud Yonay', 'Tom Cruise', ...          Jim Cash  -1986   \n",
              "3  ['Jason Headley', 'Matthew Aldrich', 'Chris Ev...     Angus MacLane  -2022   \n",
              "\n",
              "                 path  \n",
              "0   /title/tt1745960/  \n",
              "1   /title/tt8041270/  \n",
              "2   /title/tt0092099/  \n",
              "3  /title/tt10298810/  "
            ],
            "text/html": [
              "\n",
              "  <div id=\"df-fab83760-68a2-4a97-9787-3b08ee2ad431\" class=\"colab-df-container\">\n",
              "    <div>\n",
              "<style scoped>\n",
              "    .dataframe tbody tr th:only-of-type {\n",
              "        vertical-align: middle;\n",
              "    }\n",
              "\n",
              "    .dataframe tbody tr th {\n",
              "        vertical-align: top;\n",
              "    }\n",
              "\n",
              "    .dataframe thead th {\n",
              "        text-align: right;\n",
              "    }\n",
              "</style>\n",
              "<table border=\"1\" class=\"dataframe\">\n",
              "  <thead>\n",
              "    <tr style=\"text-align: right;\">\n",
              "      <th></th>\n",
              "      <th>movie title</th>\n",
              "      <th>Run Time</th>\n",
              "      <th>Rating</th>\n",
              "      <th>User Rating</th>\n",
              "      <th>Generes</th>\n",
              "      <th>Overview</th>\n",
              "      <th>Plot Kyeword</th>\n",
              "      <th>Director</th>\n",
              "      <th>Top 5 Casts</th>\n",
              "      <th>Writer</th>\n",
              "      <th>year</th>\n",
              "      <th>path</th>\n",
              "    </tr>\n",
              "  </thead>\n",
              "  <tbody>\n",
              "    <tr>\n",
              "      <th>0</th>\n",
              "      <td>Top Gun: Maverick</td>\n",
              "      <td>$170,000,000 (estimated)</td>\n",
              "      <td>8.6</td>\n",
              "      <td>187K</td>\n",
              "      <td>['Action', 'Drama']</td>\n",
              "      <td>After more than thirty years of service as one...</td>\n",
              "      <td>['fighter jet', 'sequel', 'u.s. navy', 'fighte...</td>\n",
              "      <td>Joseph Kosinski</td>\n",
              "      <td>['Jack Epps Jr.', 'Peter Craig', 'Tom Cruise',...</td>\n",
              "      <td>Jim Cash</td>\n",
              "      <td>-2022</td>\n",
              "      <td>/title/tt1745960/</td>\n",
              "    </tr>\n",
              "    <tr>\n",
              "      <th>1</th>\n",
              "      <td>Jurassic World Dominion</td>\n",
              "      <td>2 hours 27 minutes</td>\n",
              "      <td>6</td>\n",
              "      <td>56K</td>\n",
              "      <td>['Action', 'Adventure', 'Sci-Fi']</td>\n",
              "      <td>Four years after the destruction of Isla Nubla...</td>\n",
              "      <td>['dinosaur', 'jurassic park', 'tyrannosaurus r...</td>\n",
              "      <td>Colin Trevorrow</td>\n",
              "      <td>['Colin Trevorrow', 'Derek Connolly', 'Chris P...</td>\n",
              "      <td>Emily Carmichael</td>\n",
              "      <td>-2022</td>\n",
              "      <td>/title/tt8041270/</td>\n",
              "    </tr>\n",
              "    <tr>\n",
              "      <th>2</th>\n",
              "      <td>Top Gun</td>\n",
              "      <td>$15,000,000 (estimated)</td>\n",
              "      <td>6.9</td>\n",
              "      <td>380K</td>\n",
              "      <td>['Action', 'Drama']</td>\n",
              "      <td>As students at the United States Navy's elite ...</td>\n",
              "      <td>['pilot', 'male camaraderie', 'u.s. navy', 'gr...</td>\n",
              "      <td>Tony Scott</td>\n",
              "      <td>['Jack Epps Jr.', 'Ehud Yonay', 'Tom Cruise', ...</td>\n",
              "      <td>Jim Cash</td>\n",
              "      <td>-1986</td>\n",
              "      <td>/title/tt0092099/</td>\n",
              "    </tr>\n",
              "    <tr>\n",
              "      <th>3</th>\n",
              "      <td>Lightyear</td>\n",
              "      <td>$71,101,257</td>\n",
              "      <td>5.2</td>\n",
              "      <td>32K</td>\n",
              "      <td>['Animation', 'Action', 'Adventure']</td>\n",
              "      <td>While spending years attempting to return home...</td>\n",
              "      <td>['galaxy', 'spaceship', 'robot', 'rocket', 'sp...</td>\n",
              "      <td>Angus MacLane</td>\n",
              "      <td>['Jason Headley', 'Matthew Aldrich', 'Chris Ev...</td>\n",
              "      <td>Angus MacLane</td>\n",
              "      <td>-2022</td>\n",
              "      <td>/title/tt10298810/</td>\n",
              "    </tr>\n",
              "  </tbody>\n",
              "</table>\n",
              "</div>\n",
              "    <div class=\"colab-df-buttons\">\n",
              "\n",
              "  <div class=\"colab-df-container\">\n",
              "    <button class=\"colab-df-convert\" onclick=\"convertToInteractive('df-fab83760-68a2-4a97-9787-3b08ee2ad431')\"\n",
              "            title=\"Convert this dataframe to an interactive table.\"\n",
              "            style=\"display:none;\">\n",
              "\n",
              "  <svg xmlns=\"http://www.w3.org/2000/svg\" height=\"24px\" viewBox=\"0 -960 960 960\">\n",
              "    <path d=\"M120-120v-720h720v720H120Zm60-500h600v-160H180v160Zm220 220h160v-160H400v160Zm0 220h160v-160H400v160ZM180-400h160v-160H180v160Zm440 0h160v-160H620v160ZM180-180h160v-160H180v160Zm440 0h160v-160H620v160Z\"/>\n",
              "  </svg>\n",
              "    </button>\n",
              "\n",
              "  <style>\n",
              "    .colab-df-container {\n",
              "      display:flex;\n",
              "      gap: 12px;\n",
              "    }\n",
              "\n",
              "    .colab-df-convert {\n",
              "      background-color: #E8F0FE;\n",
              "      border: none;\n",
              "      border-radius: 50%;\n",
              "      cursor: pointer;\n",
              "      display: none;\n",
              "      fill: #1967D2;\n",
              "      height: 32px;\n",
              "      padding: 0 0 0 0;\n",
              "      width: 32px;\n",
              "    }\n",
              "\n",
              "    .colab-df-convert:hover {\n",
              "      background-color: #E2EBFA;\n",
              "      box-shadow: 0px 1px 2px rgba(60, 64, 67, 0.3), 0px 1px 3px 1px rgba(60, 64, 67, 0.15);\n",
              "      fill: #174EA6;\n",
              "    }\n",
              "\n",
              "    .colab-df-buttons div {\n",
              "      margin-bottom: 4px;\n",
              "    }\n",
              "\n",
              "    [theme=dark] .colab-df-convert {\n",
              "      background-color: #3B4455;\n",
              "      fill: #D2E3FC;\n",
              "    }\n",
              "\n",
              "    [theme=dark] .colab-df-convert:hover {\n",
              "      background-color: #434B5C;\n",
              "      box-shadow: 0px 1px 3px 1px rgba(0, 0, 0, 0.15);\n",
              "      filter: drop-shadow(0px 1px 2px rgba(0, 0, 0, 0.3));\n",
              "      fill: #FFFFFF;\n",
              "    }\n",
              "  </style>\n",
              "\n",
              "    <script>\n",
              "      const buttonEl =\n",
              "        document.querySelector('#df-fab83760-68a2-4a97-9787-3b08ee2ad431 button.colab-df-convert');\n",
              "      buttonEl.style.display =\n",
              "        google.colab.kernel.accessAllowed ? 'block' : 'none';\n",
              "\n",
              "      async function convertToInteractive(key) {\n",
              "        const element = document.querySelector('#df-fab83760-68a2-4a97-9787-3b08ee2ad431');\n",
              "        const dataTable =\n",
              "          await google.colab.kernel.invokeFunction('convertToInteractive',\n",
              "                                                    [key], {});\n",
              "        if (!dataTable) return;\n",
              "\n",
              "        const docLinkHtml = 'Like what you see? Visit the ' +\n",
              "          '<a target=\"_blank\" href=https://colab.research.google.com/notebooks/data_table.ipynb>data table notebook</a>'\n",
              "          + ' to learn more about interactive tables.';\n",
              "        element.innerHTML = '';\n",
              "        dataTable['output_type'] = 'display_data';\n",
              "        await google.colab.output.renderOutput(dataTable, element);\n",
              "        const docLink = document.createElement('div');\n",
              "        docLink.innerHTML = docLinkHtml;\n",
              "        element.appendChild(docLink);\n",
              "      }\n",
              "    </script>\n",
              "  </div>\n",
              "\n",
              "\n",
              "<div id=\"df-1ea658f8-0326-49b4-9a77-2ba792687328\">\n",
              "  <button class=\"colab-df-quickchart\" onclick=\"quickchart('df-1ea658f8-0326-49b4-9a77-2ba792687328')\"\n",
              "            title=\"Suggest charts\"\n",
              "            style=\"display:none;\">\n",
              "\n",
              "<svg xmlns=\"http://www.w3.org/2000/svg\" height=\"24px\"viewBox=\"0 0 24 24\"\n",
              "     width=\"24px\">\n",
              "    <g>\n",
              "        <path d=\"M19 3H5c-1.1 0-2 .9-2 2v14c0 1.1.9 2 2 2h14c1.1 0 2-.9 2-2V5c0-1.1-.9-2-2-2zM9 17H7v-7h2v7zm4 0h-2V7h2v10zm4 0h-2v-4h2v4z\"/>\n",
              "    </g>\n",
              "</svg>\n",
              "  </button>\n",
              "\n",
              "<style>\n",
              "  .colab-df-quickchart {\n",
              "      --bg-color: #E8F0FE;\n",
              "      --fill-color: #1967D2;\n",
              "      --hover-bg-color: #E2EBFA;\n",
              "      --hover-fill-color: #174EA6;\n",
              "      --disabled-fill-color: #AAA;\n",
              "      --disabled-bg-color: #DDD;\n",
              "  }\n",
              "\n",
              "  [theme=dark] .colab-df-quickchart {\n",
              "      --bg-color: #3B4455;\n",
              "      --fill-color: #D2E3FC;\n",
              "      --hover-bg-color: #434B5C;\n",
              "      --hover-fill-color: #FFFFFF;\n",
              "      --disabled-bg-color: #3B4455;\n",
              "      --disabled-fill-color: #666;\n",
              "  }\n",
              "\n",
              "  .colab-df-quickchart {\n",
              "    background-color: var(--bg-color);\n",
              "    border: none;\n",
              "    border-radius: 50%;\n",
              "    cursor: pointer;\n",
              "    display: none;\n",
              "    fill: var(--fill-color);\n",
              "    height: 32px;\n",
              "    padding: 0;\n",
              "    width: 32px;\n",
              "  }\n",
              "\n",
              "  .colab-df-quickchart:hover {\n",
              "    background-color: var(--hover-bg-color);\n",
              "    box-shadow: 0 1px 2px rgba(60, 64, 67, 0.3), 0 1px 3px 1px rgba(60, 64, 67, 0.15);\n",
              "    fill: var(--button-hover-fill-color);\n",
              "  }\n",
              "\n",
              "  .colab-df-quickchart-complete:disabled,\n",
              "  .colab-df-quickchart-complete:disabled:hover {\n",
              "    background-color: var(--disabled-bg-color);\n",
              "    fill: var(--disabled-fill-color);\n",
              "    box-shadow: none;\n",
              "  }\n",
              "\n",
              "  .colab-df-spinner {\n",
              "    border: 2px solid var(--fill-color);\n",
              "    border-color: transparent;\n",
              "    border-bottom-color: var(--fill-color);\n",
              "    animation:\n",
              "      spin 1s steps(1) infinite;\n",
              "  }\n",
              "\n",
              "  @keyframes spin {\n",
              "    0% {\n",
              "      border-color: transparent;\n",
              "      border-bottom-color: var(--fill-color);\n",
              "      border-left-color: var(--fill-color);\n",
              "    }\n",
              "    20% {\n",
              "      border-color: transparent;\n",
              "      border-left-color: var(--fill-color);\n",
              "      border-top-color: var(--fill-color);\n",
              "    }\n",
              "    30% {\n",
              "      border-color: transparent;\n",
              "      border-left-color: var(--fill-color);\n",
              "      border-top-color: var(--fill-color);\n",
              "      border-right-color: var(--fill-color);\n",
              "    }\n",
              "    40% {\n",
              "      border-color: transparent;\n",
              "      border-right-color: var(--fill-color);\n",
              "      border-top-color: var(--fill-color);\n",
              "    }\n",
              "    60% {\n",
              "      border-color: transparent;\n",
              "      border-right-color: var(--fill-color);\n",
              "    }\n",
              "    80% {\n",
              "      border-color: transparent;\n",
              "      border-right-color: var(--fill-color);\n",
              "      border-bottom-color: var(--fill-color);\n",
              "    }\n",
              "    90% {\n",
              "      border-color: transparent;\n",
              "      border-bottom-color: var(--fill-color);\n",
              "    }\n",
              "  }\n",
              "</style>\n",
              "\n",
              "  <script>\n",
              "    async function quickchart(key) {\n",
              "      const quickchartButtonEl =\n",
              "        document.querySelector('#' + key + ' button');\n",
              "      quickchartButtonEl.disabled = true;  // To prevent multiple clicks.\n",
              "      quickchartButtonEl.classList.add('colab-df-spinner');\n",
              "      try {\n",
              "        const charts = await google.colab.kernel.invokeFunction(\n",
              "            'suggestCharts', [key], {});\n",
              "      } catch (error) {\n",
              "        console.error('Error during call to suggestCharts:', error);\n",
              "      }\n",
              "      quickchartButtonEl.classList.remove('colab-df-spinner');\n",
              "      quickchartButtonEl.classList.add('colab-df-quickchart-complete');\n",
              "    }\n",
              "    (() => {\n",
              "      let quickchartButtonEl =\n",
              "        document.querySelector('#df-1ea658f8-0326-49b4-9a77-2ba792687328 button');\n",
              "      quickchartButtonEl.style.display =\n",
              "        google.colab.kernel.accessAllowed ? 'block' : 'none';\n",
              "    })();\n",
              "  </script>\n",
              "</div>\n",
              "\n",
              "    </div>\n",
              "  </div>\n"
            ]
          },
          "metadata": {},
          "execution_count": 309
        }
      ]
    },
    {
      "cell_type": "code",
      "source": [
        "df.info()"
      ],
      "metadata": {
        "colab": {
          "base_uri": "https://localhost:8080/"
        },
        "id": "uUqiBjTgr9AV",
        "outputId": "e8f4b8d2-ef5d-412e-d5ab-d4fb2df1b7c9"
      },
      "execution_count": 310,
      "outputs": [
        {
          "output_type": "stream",
          "name": "stdout",
          "text": [
            "<class 'pandas.core.frame.DataFrame'>\n",
            "RangeIndex: 24402 entries, 0 to 24401\n",
            "Data columns (total 12 columns):\n",
            " #   Column        Non-Null Count  Dtype \n",
            "---  ------        --------------  ----- \n",
            " 0   movie title   24402 non-null  object\n",
            " 1   Run Time      24402 non-null  object\n",
            " 2   Rating        24402 non-null  object\n",
            " 3   User Rating   24402 non-null  object\n",
            " 4   Generes       24402 non-null  object\n",
            " 5   Overview      24158 non-null  object\n",
            " 6   Plot Kyeword  24402 non-null  object\n",
            " 7   Director      24402 non-null  object\n",
            " 8   Top 5 Casts   24402 non-null  object\n",
            " 9   Writer        24402 non-null  object\n",
            " 10  year          23624 non-null  object\n",
            " 11  path          24402 non-null  object\n",
            "dtypes: object(12)\n",
            "memory usage: 2.2+ MB\n"
          ]
        }
      ]
    },
    {
      "cell_type": "code",
      "source": [
        "df.isnull().sum()"
      ],
      "metadata": {
        "colab": {
          "base_uri": "https://localhost:8080/"
        },
        "id": "xOoePCkDss_j",
        "outputId": "b568e3d2-cab4-4c19-b628-1fbc445cfb3a"
      },
      "execution_count": 222,
      "outputs": [
        {
          "output_type": "execute_result",
          "data": {
            "text/plain": [
              "movie title       0\n",
              "Run Time          0\n",
              "Rating            0\n",
              "User Rating       0\n",
              "Generes           0\n",
              "Overview        244\n",
              "Plot Kyeword      0\n",
              "Director          0\n",
              "Top 5 Casts       0\n",
              "Writer            0\n",
              "year            778\n",
              "path              0\n",
              "dtype: int64"
            ]
          },
          "metadata": {},
          "execution_count": 222
        }
      ]
    },
    {
      "cell_type": "code",
      "source": [
        "# Droping Columns with no ratings\n",
        "index=df[df['Rating']=='no-rating'].index\n",
        "df.drop(index,axis=0,inplace=True)"
      ],
      "metadata": {
        "id": "i2TQ5JzPm1ey"
      },
      "execution_count": 223,
      "outputs": []
    },
    {
      "cell_type": "code",
      "source": [
        "# Assuming df is your DataFrame\n",
        "df['year'] = df['year'].apply(lambda x: str(x).replace('-', '') if pd.notnull(x) and '-' in str(x) else x)\n"
      ],
      "metadata": {
        "id": "Dx8t42-hnKUS"
      },
      "execution_count": 224,
      "outputs": []
    },
    {
      "cell_type": "code",
      "source": [
        "df['year'] = df['year'].apply(lambda x: str(x).replace('(I)', '') if pd.notnull(x) and '(I)' in str(x) else x)"
      ],
      "metadata": {
        "id": "kqyHqx5Zp8YW"
      },
      "execution_count": 225,
      "outputs": []
    },
    {
      "cell_type": "code",
      "source": [
        "df['year'] = df['year'].apply(lambda x: str(x).replace('(', '') if pd.notnull(x) and '(' in str(x) else x)"
      ],
      "metadata": {
        "id": "5kEah7ryqRQ6"
      },
      "execution_count": 226,
      "outputs": []
    },
    {
      "cell_type": "code",
      "source": [
        "df['year'] = df['year'].apply(lambda x: str(x).replace(')', '') if pd.notnull(x) and ')' in str(x) else x)"
      ],
      "metadata": {
        "id": "MYCXKcGdqY9s"
      },
      "execution_count": 227,
      "outputs": []
    },
    {
      "cell_type": "code",
      "source": [
        "df['year'] = df['year'].apply(lambda x: str(x).replace('I', '') if pd.notnull(x) and 'I' in str(x) else x)\n"
      ],
      "metadata": {
        "id": "kVYVb1Ihpw3e"
      },
      "execution_count": 228,
      "outputs": []
    },
    {
      "cell_type": "code",
      "source": [
        "df['year'] = df['year'].apply(lambda x: str(x).replace('V', '') if pd.notnull(x) and 'V' in str(x) else x)\n"
      ],
      "metadata": {
        "id": "raUvlDOurE0a"
      },
      "execution_count": 229,
      "outputs": []
    },
    {
      "cell_type": "code",
      "source": [
        "df['year'] = pd.to_numeric(df['year'], errors='coerce').astype('Int64')\n"
      ],
      "metadata": {
        "id": "KxNOf07krU7t"
      },
      "execution_count": 230,
      "outputs": []
    },
    {
      "cell_type": "code",
      "source": [
        "df = df[df['year']>=2000]"
      ],
      "metadata": {
        "id": "926uA6yCnKQ6"
      },
      "execution_count": 231,
      "outputs": []
    },
    {
      "cell_type": "code",
      "source": [
        "df.drop(labels=['Run Time','year','Writer'],axis=1,inplace=True)"
      ],
      "metadata": {
        "id": "FQEJjnV6tIxC"
      },
      "execution_count": 232,
      "outputs": []
    },
    {
      "cell_type": "code",
      "source": [
        "df.dropna(inplace=True)"
      ],
      "metadata": {
        "id": "K4stVvUisyZ9"
      },
      "execution_count": 233,
      "outputs": []
    },
    {
      "cell_type": "code",
      "source": [
        "print(df['Overview'][0])\n",
        "print(df['Generes'][0])\n",
        "print(df['Plot Kyeword'][0])\n",
        "print(df['Director'][0])\n",
        "print(df['Top 5 Casts'][0])"
      ],
      "metadata": {
        "colab": {
          "base_uri": "https://localhost:8080/"
        },
        "id": "HuTtzSORs-fq",
        "outputId": "e331b636-d73f-43c9-a508-c4415c7a2641"
      },
      "execution_count": 234,
      "outputs": [
        {
          "output_type": "stream",
          "name": "stdout",
          "text": [
            "After more than thirty years of service as one of the Navy's top aviators, Pete Mitchell is where he belongs, pushing the envelope as a courageous test pilot and dodging the advancement in rank that would ground\n",
            "['Action', 'Drama']\n",
            "['fighter jet', 'sequel', 'u.s. navy', 'fighter aircraft', 'pilot', 'naval aviation', 'jet fighter', 'military pilot', 'aviation', 'aircraft']\n",
            "Joseph Kosinski\n",
            "['Jack Epps Jr.', 'Peter Craig', 'Tom Cruise', 'Jennifer Connelly', 'Miles Teller']\n"
          ]
        }
      ]
    },
    {
      "cell_type": "code",
      "source": [
        "import ast\n",
        "\n",
        "def convert_column_to_text(column_value):\n",
        "  try:\n",
        "    list_value = ast.literal_eval(column_value)\n",
        "  except (ValueError, SyntaxError):\n",
        "    return column_value\n",
        "\n",
        "  return \", \".join(list_value)"
      ],
      "metadata": {
        "id": "M1HJkn5Wxsvp"
      },
      "execution_count": 235,
      "outputs": []
    },
    {
      "cell_type": "code",
      "source": [
        "df['Generes'] = df['Generes'].apply(convert_column_to_text)\n",
        "df['Plot Kyeword'] = df['Plot Kyeword'].apply(convert_column_to_text)\n",
        "df['Director'] = df['Director'].apply(convert_column_to_text)\n",
        "df['Top 5 Casts'] = df['Top 5 Casts'].apply(convert_column_to_text)"
      ],
      "metadata": {
        "id": "zap-UdOxxtux"
      },
      "execution_count": 236,
      "outputs": []
    },
    {
      "cell_type": "code",
      "source": [
        "df['tags'] = df['Overview']+\". \"+df['Plot Kyeword']+\" \"+df['Generes']+\" \"+df['Director']+\" \"+df['Top 5 Casts']"
      ],
      "metadata": {
        "id": "gpVvCJL_yr6z"
      },
      "execution_count": 237,
      "outputs": []
    },
    {
      "cell_type": "code",
      "source": [
        "df = df[['movie title','Rating','User Rating','path','tags']]"
      ],
      "metadata": {
        "id": "PtjMX7-Yy6du"
      },
      "execution_count": 238,
      "outputs": []
    },
    {
      "cell_type": "code",
      "source": [
        "df['path']=df['path'].str.split('/').apply(lambda text:text[-2])"
      ],
      "metadata": {
        "id": "phGOv4uhzAYX"
      },
      "execution_count": 239,
      "outputs": []
    },
    {
      "cell_type": "code",
      "source": [
        "df.rename(columns={'path':'movie_id', 'movie title':'title'},inplace=True)"
      ],
      "metadata": {
        "id": "OppEyLJrzEEo"
      },
      "execution_count": 240,
      "outputs": []
    },
    {
      "cell_type": "code",
      "source": [
        "df.drop(columns=['Rating'],axis=1,inplace=True)"
      ],
      "metadata": {
        "id": "rrkMbAuw28NX"
      },
      "execution_count": 241,
      "outputs": []
    },
    {
      "cell_type": "code",
      "source": [
        "df"
      ],
      "metadata": {
        "colab": {
          "base_uri": "https://localhost:8080/",
          "height": 423
        },
        "id": "ivQSmtYS3Ufu",
        "outputId": "b259fa94-fe07-470d-fd5f-abeea2a21a37"
      },
      "execution_count": 242,
      "outputs": [
        {
          "output_type": "execute_result",
          "data": {
            "text/plain": [
              "                                   title User Rating    movie_id  \\\n",
              "0                      Top Gun: Maverick        187K   tt1745960   \n",
              "1                Jurassic World Dominion         56K   tt8041270   \n",
              "3                              Lightyear         32K  tt10298810   \n",
              "4                             Spiderhead         23K   tt9783600   \n",
              "5      Everything Everywhere All at Once        124K   tt6710474   \n",
              "...                                  ...         ...         ...   \n",
              "24390                      The Producers         43K   tt0395251   \n",
              "24391                            Screwed        9.1K   tt0156323   \n",
              "24392              Home Sweet Home Alone         16K  tt11012066   \n",
              "24393                      Balls of Fury         43K   tt0424823   \n",
              "24398                          Bitch Ass          52  tt13991504   \n",
              "\n",
              "                                                    tags  \n",
              "0      After more than thirty years of service as one...  \n",
              "1      Four years after the destruction of Isla Nubla...  \n",
              "3      While spending years attempting to return home...  \n",
              "4      In the near future, convicts are offered the c...  \n",
              "5      An aging Chinese immigrant is swept up in an i...  \n",
              "...                                                  ...  \n",
              "24390  After putting together another Broadway flop, ...  \n",
              "24391  A chauffeur kidnaps his rich boss's dog to hol...  \n",
              "24392  A married couple tries to steal back a valuabl...  \n",
              "24393  Down-and-out former professional ping-pong phe...  \n",
              "24398  A gang initiation goes wrong when a group of f...  \n",
              "\n",
              "[13252 rows x 4 columns]"
            ],
            "text/html": [
              "\n",
              "  <div id=\"df-ca92d0f4-c9d4-4a81-a462-810d93025b7c\" class=\"colab-df-container\">\n",
              "    <div>\n",
              "<style scoped>\n",
              "    .dataframe tbody tr th:only-of-type {\n",
              "        vertical-align: middle;\n",
              "    }\n",
              "\n",
              "    .dataframe tbody tr th {\n",
              "        vertical-align: top;\n",
              "    }\n",
              "\n",
              "    .dataframe thead th {\n",
              "        text-align: right;\n",
              "    }\n",
              "</style>\n",
              "<table border=\"1\" class=\"dataframe\">\n",
              "  <thead>\n",
              "    <tr style=\"text-align: right;\">\n",
              "      <th></th>\n",
              "      <th>title</th>\n",
              "      <th>User Rating</th>\n",
              "      <th>movie_id</th>\n",
              "      <th>tags</th>\n",
              "    </tr>\n",
              "  </thead>\n",
              "  <tbody>\n",
              "    <tr>\n",
              "      <th>0</th>\n",
              "      <td>Top Gun: Maverick</td>\n",
              "      <td>187K</td>\n",
              "      <td>tt1745960</td>\n",
              "      <td>After more than thirty years of service as one...</td>\n",
              "    </tr>\n",
              "    <tr>\n",
              "      <th>1</th>\n",
              "      <td>Jurassic World Dominion</td>\n",
              "      <td>56K</td>\n",
              "      <td>tt8041270</td>\n",
              "      <td>Four years after the destruction of Isla Nubla...</td>\n",
              "    </tr>\n",
              "    <tr>\n",
              "      <th>3</th>\n",
              "      <td>Lightyear</td>\n",
              "      <td>32K</td>\n",
              "      <td>tt10298810</td>\n",
              "      <td>While spending years attempting to return home...</td>\n",
              "    </tr>\n",
              "    <tr>\n",
              "      <th>4</th>\n",
              "      <td>Spiderhead</td>\n",
              "      <td>23K</td>\n",
              "      <td>tt9783600</td>\n",
              "      <td>In the near future, convicts are offered the c...</td>\n",
              "    </tr>\n",
              "    <tr>\n",
              "      <th>5</th>\n",
              "      <td>Everything Everywhere All at Once</td>\n",
              "      <td>124K</td>\n",
              "      <td>tt6710474</td>\n",
              "      <td>An aging Chinese immigrant is swept up in an i...</td>\n",
              "    </tr>\n",
              "    <tr>\n",
              "      <th>...</th>\n",
              "      <td>...</td>\n",
              "      <td>...</td>\n",
              "      <td>...</td>\n",
              "      <td>...</td>\n",
              "    </tr>\n",
              "    <tr>\n",
              "      <th>24390</th>\n",
              "      <td>The Producers</td>\n",
              "      <td>43K</td>\n",
              "      <td>tt0395251</td>\n",
              "      <td>After putting together another Broadway flop, ...</td>\n",
              "    </tr>\n",
              "    <tr>\n",
              "      <th>24391</th>\n",
              "      <td>Screwed</td>\n",
              "      <td>9.1K</td>\n",
              "      <td>tt0156323</td>\n",
              "      <td>A chauffeur kidnaps his rich boss's dog to hol...</td>\n",
              "    </tr>\n",
              "    <tr>\n",
              "      <th>24392</th>\n",
              "      <td>Home Sweet Home Alone</td>\n",
              "      <td>16K</td>\n",
              "      <td>tt11012066</td>\n",
              "      <td>A married couple tries to steal back a valuabl...</td>\n",
              "    </tr>\n",
              "    <tr>\n",
              "      <th>24393</th>\n",
              "      <td>Balls of Fury</td>\n",
              "      <td>43K</td>\n",
              "      <td>tt0424823</td>\n",
              "      <td>Down-and-out former professional ping-pong phe...</td>\n",
              "    </tr>\n",
              "    <tr>\n",
              "      <th>24398</th>\n",
              "      <td>Bitch Ass</td>\n",
              "      <td>52</td>\n",
              "      <td>tt13991504</td>\n",
              "      <td>A gang initiation goes wrong when a group of f...</td>\n",
              "    </tr>\n",
              "  </tbody>\n",
              "</table>\n",
              "<p>13252 rows × 4 columns</p>\n",
              "</div>\n",
              "    <div class=\"colab-df-buttons\">\n",
              "\n",
              "  <div class=\"colab-df-container\">\n",
              "    <button class=\"colab-df-convert\" onclick=\"convertToInteractive('df-ca92d0f4-c9d4-4a81-a462-810d93025b7c')\"\n",
              "            title=\"Convert this dataframe to an interactive table.\"\n",
              "            style=\"display:none;\">\n",
              "\n",
              "  <svg xmlns=\"http://www.w3.org/2000/svg\" height=\"24px\" viewBox=\"0 -960 960 960\">\n",
              "    <path d=\"M120-120v-720h720v720H120Zm60-500h600v-160H180v160Zm220 220h160v-160H400v160Zm0 220h160v-160H400v160ZM180-400h160v-160H180v160Zm440 0h160v-160H620v160ZM180-180h160v-160H180v160Zm440 0h160v-160H620v160Z\"/>\n",
              "  </svg>\n",
              "    </button>\n",
              "\n",
              "  <style>\n",
              "    .colab-df-container {\n",
              "      display:flex;\n",
              "      gap: 12px;\n",
              "    }\n",
              "\n",
              "    .colab-df-convert {\n",
              "      background-color: #E8F0FE;\n",
              "      border: none;\n",
              "      border-radius: 50%;\n",
              "      cursor: pointer;\n",
              "      display: none;\n",
              "      fill: #1967D2;\n",
              "      height: 32px;\n",
              "      padding: 0 0 0 0;\n",
              "      width: 32px;\n",
              "    }\n",
              "\n",
              "    .colab-df-convert:hover {\n",
              "      background-color: #E2EBFA;\n",
              "      box-shadow: 0px 1px 2px rgba(60, 64, 67, 0.3), 0px 1px 3px 1px rgba(60, 64, 67, 0.15);\n",
              "      fill: #174EA6;\n",
              "    }\n",
              "\n",
              "    .colab-df-buttons div {\n",
              "      margin-bottom: 4px;\n",
              "    }\n",
              "\n",
              "    [theme=dark] .colab-df-convert {\n",
              "      background-color: #3B4455;\n",
              "      fill: #D2E3FC;\n",
              "    }\n",
              "\n",
              "    [theme=dark] .colab-df-convert:hover {\n",
              "      background-color: #434B5C;\n",
              "      box-shadow: 0px 1px 3px 1px rgba(0, 0, 0, 0.15);\n",
              "      filter: drop-shadow(0px 1px 2px rgba(0, 0, 0, 0.3));\n",
              "      fill: #FFFFFF;\n",
              "    }\n",
              "  </style>\n",
              "\n",
              "    <script>\n",
              "      const buttonEl =\n",
              "        document.querySelector('#df-ca92d0f4-c9d4-4a81-a462-810d93025b7c button.colab-df-convert');\n",
              "      buttonEl.style.display =\n",
              "        google.colab.kernel.accessAllowed ? 'block' : 'none';\n",
              "\n",
              "      async function convertToInteractive(key) {\n",
              "        const element = document.querySelector('#df-ca92d0f4-c9d4-4a81-a462-810d93025b7c');\n",
              "        const dataTable =\n",
              "          await google.colab.kernel.invokeFunction('convertToInteractive',\n",
              "                                                    [key], {});\n",
              "        if (!dataTable) return;\n",
              "\n",
              "        const docLinkHtml = 'Like what you see? Visit the ' +\n",
              "          '<a target=\"_blank\" href=https://colab.research.google.com/notebooks/data_table.ipynb>data table notebook</a>'\n",
              "          + ' to learn more about interactive tables.';\n",
              "        element.innerHTML = '';\n",
              "        dataTable['output_type'] = 'display_data';\n",
              "        await google.colab.output.renderOutput(dataTable, element);\n",
              "        const docLink = document.createElement('div');\n",
              "        docLink.innerHTML = docLinkHtml;\n",
              "        element.appendChild(docLink);\n",
              "      }\n",
              "    </script>\n",
              "  </div>\n",
              "\n",
              "\n",
              "<div id=\"df-64295546-76ed-43e2-afb4-80f10fa65cac\">\n",
              "  <button class=\"colab-df-quickchart\" onclick=\"quickchart('df-64295546-76ed-43e2-afb4-80f10fa65cac')\"\n",
              "            title=\"Suggest charts\"\n",
              "            style=\"display:none;\">\n",
              "\n",
              "<svg xmlns=\"http://www.w3.org/2000/svg\" height=\"24px\"viewBox=\"0 0 24 24\"\n",
              "     width=\"24px\">\n",
              "    <g>\n",
              "        <path d=\"M19 3H5c-1.1 0-2 .9-2 2v14c0 1.1.9 2 2 2h14c1.1 0 2-.9 2-2V5c0-1.1-.9-2-2-2zM9 17H7v-7h2v7zm4 0h-2V7h2v10zm4 0h-2v-4h2v4z\"/>\n",
              "    </g>\n",
              "</svg>\n",
              "  </button>\n",
              "\n",
              "<style>\n",
              "  .colab-df-quickchart {\n",
              "      --bg-color: #E8F0FE;\n",
              "      --fill-color: #1967D2;\n",
              "      --hover-bg-color: #E2EBFA;\n",
              "      --hover-fill-color: #174EA6;\n",
              "      --disabled-fill-color: #AAA;\n",
              "      --disabled-bg-color: #DDD;\n",
              "  }\n",
              "\n",
              "  [theme=dark] .colab-df-quickchart {\n",
              "      --bg-color: #3B4455;\n",
              "      --fill-color: #D2E3FC;\n",
              "      --hover-bg-color: #434B5C;\n",
              "      --hover-fill-color: #FFFFFF;\n",
              "      --disabled-bg-color: #3B4455;\n",
              "      --disabled-fill-color: #666;\n",
              "  }\n",
              "\n",
              "  .colab-df-quickchart {\n",
              "    background-color: var(--bg-color);\n",
              "    border: none;\n",
              "    border-radius: 50%;\n",
              "    cursor: pointer;\n",
              "    display: none;\n",
              "    fill: var(--fill-color);\n",
              "    height: 32px;\n",
              "    padding: 0;\n",
              "    width: 32px;\n",
              "  }\n",
              "\n",
              "  .colab-df-quickchart:hover {\n",
              "    background-color: var(--hover-bg-color);\n",
              "    box-shadow: 0 1px 2px rgba(60, 64, 67, 0.3), 0 1px 3px 1px rgba(60, 64, 67, 0.15);\n",
              "    fill: var(--button-hover-fill-color);\n",
              "  }\n",
              "\n",
              "  .colab-df-quickchart-complete:disabled,\n",
              "  .colab-df-quickchart-complete:disabled:hover {\n",
              "    background-color: var(--disabled-bg-color);\n",
              "    fill: var(--disabled-fill-color);\n",
              "    box-shadow: none;\n",
              "  }\n",
              "\n",
              "  .colab-df-spinner {\n",
              "    border: 2px solid var(--fill-color);\n",
              "    border-color: transparent;\n",
              "    border-bottom-color: var(--fill-color);\n",
              "    animation:\n",
              "      spin 1s steps(1) infinite;\n",
              "  }\n",
              "\n",
              "  @keyframes spin {\n",
              "    0% {\n",
              "      border-color: transparent;\n",
              "      border-bottom-color: var(--fill-color);\n",
              "      border-left-color: var(--fill-color);\n",
              "    }\n",
              "    20% {\n",
              "      border-color: transparent;\n",
              "      border-left-color: var(--fill-color);\n",
              "      border-top-color: var(--fill-color);\n",
              "    }\n",
              "    30% {\n",
              "      border-color: transparent;\n",
              "      border-left-color: var(--fill-color);\n",
              "      border-top-color: var(--fill-color);\n",
              "      border-right-color: var(--fill-color);\n",
              "    }\n",
              "    40% {\n",
              "      border-color: transparent;\n",
              "      border-right-color: var(--fill-color);\n",
              "      border-top-color: var(--fill-color);\n",
              "    }\n",
              "    60% {\n",
              "      border-color: transparent;\n",
              "      border-right-color: var(--fill-color);\n",
              "    }\n",
              "    80% {\n",
              "      border-color: transparent;\n",
              "      border-right-color: var(--fill-color);\n",
              "      border-bottom-color: var(--fill-color);\n",
              "    }\n",
              "    90% {\n",
              "      border-color: transparent;\n",
              "      border-bottom-color: var(--fill-color);\n",
              "    }\n",
              "  }\n",
              "</style>\n",
              "\n",
              "  <script>\n",
              "    async function quickchart(key) {\n",
              "      const quickchartButtonEl =\n",
              "        document.querySelector('#' + key + ' button');\n",
              "      quickchartButtonEl.disabled = true;  // To prevent multiple clicks.\n",
              "      quickchartButtonEl.classList.add('colab-df-spinner');\n",
              "      try {\n",
              "        const charts = await google.colab.kernel.invokeFunction(\n",
              "            'suggestCharts', [key], {});\n",
              "      } catch (error) {\n",
              "        console.error('Error during call to suggestCharts:', error);\n",
              "      }\n",
              "      quickchartButtonEl.classList.remove('colab-df-spinner');\n",
              "      quickchartButtonEl.classList.add('colab-df-quickchart-complete');\n",
              "    }\n",
              "    (() => {\n",
              "      let quickchartButtonEl =\n",
              "        document.querySelector('#df-64295546-76ed-43e2-afb4-80f10fa65cac button');\n",
              "      quickchartButtonEl.style.display =\n",
              "        google.colab.kernel.accessAllowed ? 'block' : 'none';\n",
              "    })();\n",
              "  </script>\n",
              "</div>\n",
              "\n",
              "  <div id=\"id_956444ec-cbcf-4dc3-8b35-3abcffb5cc83\">\n",
              "    <style>\n",
              "      .colab-df-generate {\n",
              "        background-color: #E8F0FE;\n",
              "        border: none;\n",
              "        border-radius: 50%;\n",
              "        cursor: pointer;\n",
              "        display: none;\n",
              "        fill: #1967D2;\n",
              "        height: 32px;\n",
              "        padding: 0 0 0 0;\n",
              "        width: 32px;\n",
              "      }\n",
              "\n",
              "      .colab-df-generate:hover {\n",
              "        background-color: #E2EBFA;\n",
              "        box-shadow: 0px 1px 2px rgba(60, 64, 67, 0.3), 0px 1px 3px 1px rgba(60, 64, 67, 0.15);\n",
              "        fill: #174EA6;\n",
              "      }\n",
              "\n",
              "      [theme=dark] .colab-df-generate {\n",
              "        background-color: #3B4455;\n",
              "        fill: #D2E3FC;\n",
              "      }\n",
              "\n",
              "      [theme=dark] .colab-df-generate:hover {\n",
              "        background-color: #434B5C;\n",
              "        box-shadow: 0px 1px 3px 1px rgba(0, 0, 0, 0.15);\n",
              "        filter: drop-shadow(0px 1px 2px rgba(0, 0, 0, 0.3));\n",
              "        fill: #FFFFFF;\n",
              "      }\n",
              "    </style>\n",
              "    <button class=\"colab-df-generate\" onclick=\"generateWithVariable('df')\"\n",
              "            title=\"Generate code using this dataframe.\"\n",
              "            style=\"display:none;\">\n",
              "\n",
              "  <svg xmlns=\"http://www.w3.org/2000/svg\" height=\"24px\"viewBox=\"0 0 24 24\"\n",
              "       width=\"24px\">\n",
              "    <path d=\"M7,19H8.4L18.45,9,17,7.55,7,17.6ZM5,21V16.75L18.45,3.32a2,2,0,0,1,2.83,0l1.4,1.43a1.91,1.91,0,0,1,.58,1.4,1.91,1.91,0,0,1-.58,1.4L9.25,21ZM18.45,9,17,7.55Zm-12,3A5.31,5.31,0,0,0,4.9,8.1,5.31,5.31,0,0,0,1,6.5,5.31,5.31,0,0,0,4.9,4.9,5.31,5.31,0,0,0,6.5,1,5.31,5.31,0,0,0,8.1,4.9,5.31,5.31,0,0,0,12,6.5,5.46,5.46,0,0,0,6.5,12Z\"/>\n",
              "  </svg>\n",
              "    </button>\n",
              "    <script>\n",
              "      (() => {\n",
              "      const buttonEl =\n",
              "        document.querySelector('#id_956444ec-cbcf-4dc3-8b35-3abcffb5cc83 button.colab-df-generate');\n",
              "      buttonEl.style.display =\n",
              "        google.colab.kernel.accessAllowed ? 'block' : 'none';\n",
              "\n",
              "      buttonEl.onclick = () => {\n",
              "        google.colab.notebook.generateWithVariable('df');\n",
              "      }\n",
              "      })();\n",
              "    </script>\n",
              "  </div>\n",
              "\n",
              "    </div>\n",
              "  </div>\n"
            ]
          },
          "metadata": {},
          "execution_count": 242
        }
      ]
    },
    {
      "cell_type": "code",
      "source": [
        "df['User Rating'].unique()"
      ],
      "metadata": {
        "colab": {
          "base_uri": "https://localhost:8080/"
        },
        "id": "v7hpQ4z0tXzj",
        "outputId": "886e70c0-9ea6-46a7-d787-1fbfaf75d44c"
      },
      "execution_count": 243,
      "outputs": [
        {
          "output_type": "execute_result",
          "data": {
            "text/plain": [
              "array(['187K', '56K', '32K', ..., '785', '229', '954'], dtype=object)"
            ]
          },
          "metadata": {},
          "execution_count": 243
        }
      ]
    },
    {
      "cell_type": "code",
      "source": [
        "def convert_user_ratings(rating):\n",
        "    if 'k' in rating.lower():\n",
        "        return int(float(rating[:-1]) * 1000)\n",
        "    elif 'm' in rating.lower():\n",
        "        return int(float(rating[:-1]) * 1000000)\n",
        "    else:\n",
        "        return int(float(rating))\n"
      ],
      "metadata": {
        "id": "jEZNxED_t0Df"
      },
      "execution_count": 244,
      "outputs": []
    },
    {
      "cell_type": "code",
      "source": [
        "df['User Rating'] = df['User Rating'].apply(convert_user_ratings).astype('int')"
      ],
      "metadata": {
        "id": "R-KmmhNKtBhi"
      },
      "execution_count": 245,
      "outputs": []
    },
    {
      "cell_type": "code",
      "source": [
        "index = df[df['User Rating']<=100].index"
      ],
      "metadata": {
        "id": "Yc-hAXAiuGhI"
      },
      "execution_count": 246,
      "outputs": []
    },
    {
      "cell_type": "code",
      "source": [
        "df.drop(index,axis=0,inplace=True)"
      ],
      "metadata": {
        "id": "ezo7Wg3wuZqd"
      },
      "execution_count": 247,
      "outputs": []
    },
    {
      "cell_type": "code",
      "source": [
        "df[df['User Rating']<=2000]"
      ],
      "metadata": {
        "colab": {
          "base_uri": "https://localhost:8080/",
          "height": 423
        },
        "id": "Jkfdj_q2uGaO",
        "outputId": "2ab45776-7329-4886-ddd0-fd0800f9a415"
      },
      "execution_count": 248,
      "outputs": [
        {
          "output_type": "execute_result",
          "data": {
            "text/plain": [
              "                            title  User Rating    movie_id  \\\n",
              "7                     Interceptor          819  tt14174940   \n",
              "10         Thor: Love and Thunder          926  tt10648342   \n",
              "18                   Bullet Train         1300  tt12593682   \n",
              "29                           Prey          961  tt11866324   \n",
              "32                      Ambulance         1400   tt4998632   \n",
              "...                           ...          ...         ...   \n",
              "24363                  Down Under          944   tt4463120   \n",
              "24370                Lies We Tell          569   tt4423984   \n",
              "24371                   Psychosis         2000   tt1351784   \n",
              "24382                Easy Does It          221   tt4120762   \n",
              "24384  Deidra & Laney Rob a Train         1900   tt4144332   \n",
              "\n",
              "                                                    tags  \n",
              "7      When Special forces agent Matvey Sobolev survi...  \n",
              "10     Thor enlists the help of Valkyrie, Korg and ex...  \n",
              "18     Criminals plant a bomb on a high-speed train. ...  \n",
              "29     PREY tells the story of Nathan (BEAU TRAVAIL'S...  \n",
              "32     Two brothers commit a robbery out of desperati...  \n",
              "...                                                  ...  \n",
              "24363  A black comedy set during the aftermath of the...  \n",
              "24370  A trusted driver must deal with his dead boss'...  \n",
              "24371  A serial killer unleashes his blood lust at a ...  \n",
              "24382  Two best friends and their accidental hostage ...  \n",
              "24384  After their mother ends up in jail, two sister...  \n",
              "\n",
              "[4002 rows x 4 columns]"
            ],
            "text/html": [
              "\n",
              "  <div id=\"df-37b9264c-0811-4891-908c-be2be4541c86\" class=\"colab-df-container\">\n",
              "    <div>\n",
              "<style scoped>\n",
              "    .dataframe tbody tr th:only-of-type {\n",
              "        vertical-align: middle;\n",
              "    }\n",
              "\n",
              "    .dataframe tbody tr th {\n",
              "        vertical-align: top;\n",
              "    }\n",
              "\n",
              "    .dataframe thead th {\n",
              "        text-align: right;\n",
              "    }\n",
              "</style>\n",
              "<table border=\"1\" class=\"dataframe\">\n",
              "  <thead>\n",
              "    <tr style=\"text-align: right;\">\n",
              "      <th></th>\n",
              "      <th>title</th>\n",
              "      <th>User Rating</th>\n",
              "      <th>movie_id</th>\n",
              "      <th>tags</th>\n",
              "    </tr>\n",
              "  </thead>\n",
              "  <tbody>\n",
              "    <tr>\n",
              "      <th>7</th>\n",
              "      <td>Interceptor</td>\n",
              "      <td>819</td>\n",
              "      <td>tt14174940</td>\n",
              "      <td>When Special forces agent Matvey Sobolev survi...</td>\n",
              "    </tr>\n",
              "    <tr>\n",
              "      <th>10</th>\n",
              "      <td>Thor: Love and Thunder</td>\n",
              "      <td>926</td>\n",
              "      <td>tt10648342</td>\n",
              "      <td>Thor enlists the help of Valkyrie, Korg and ex...</td>\n",
              "    </tr>\n",
              "    <tr>\n",
              "      <th>18</th>\n",
              "      <td>Bullet Train</td>\n",
              "      <td>1300</td>\n",
              "      <td>tt12593682</td>\n",
              "      <td>Criminals plant a bomb on a high-speed train. ...</td>\n",
              "    </tr>\n",
              "    <tr>\n",
              "      <th>29</th>\n",
              "      <td>Prey</td>\n",
              "      <td>961</td>\n",
              "      <td>tt11866324</td>\n",
              "      <td>PREY tells the story of Nathan (BEAU TRAVAIL'S...</td>\n",
              "    </tr>\n",
              "    <tr>\n",
              "      <th>32</th>\n",
              "      <td>Ambulance</td>\n",
              "      <td>1400</td>\n",
              "      <td>tt4998632</td>\n",
              "      <td>Two brothers commit a robbery out of desperati...</td>\n",
              "    </tr>\n",
              "    <tr>\n",
              "      <th>...</th>\n",
              "      <td>...</td>\n",
              "      <td>...</td>\n",
              "      <td>...</td>\n",
              "      <td>...</td>\n",
              "    </tr>\n",
              "    <tr>\n",
              "      <th>24363</th>\n",
              "      <td>Down Under</td>\n",
              "      <td>944</td>\n",
              "      <td>tt4463120</td>\n",
              "      <td>A black comedy set during the aftermath of the...</td>\n",
              "    </tr>\n",
              "    <tr>\n",
              "      <th>24370</th>\n",
              "      <td>Lies We Tell</td>\n",
              "      <td>569</td>\n",
              "      <td>tt4423984</td>\n",
              "      <td>A trusted driver must deal with his dead boss'...</td>\n",
              "    </tr>\n",
              "    <tr>\n",
              "      <th>24371</th>\n",
              "      <td>Psychosis</td>\n",
              "      <td>2000</td>\n",
              "      <td>tt1351784</td>\n",
              "      <td>A serial killer unleashes his blood lust at a ...</td>\n",
              "    </tr>\n",
              "    <tr>\n",
              "      <th>24382</th>\n",
              "      <td>Easy Does It</td>\n",
              "      <td>221</td>\n",
              "      <td>tt4120762</td>\n",
              "      <td>Two best friends and their accidental hostage ...</td>\n",
              "    </tr>\n",
              "    <tr>\n",
              "      <th>24384</th>\n",
              "      <td>Deidra &amp; Laney Rob a Train</td>\n",
              "      <td>1900</td>\n",
              "      <td>tt4144332</td>\n",
              "      <td>After their mother ends up in jail, two sister...</td>\n",
              "    </tr>\n",
              "  </tbody>\n",
              "</table>\n",
              "<p>4002 rows × 4 columns</p>\n",
              "</div>\n",
              "    <div class=\"colab-df-buttons\">\n",
              "\n",
              "  <div class=\"colab-df-container\">\n",
              "    <button class=\"colab-df-convert\" onclick=\"convertToInteractive('df-37b9264c-0811-4891-908c-be2be4541c86')\"\n",
              "            title=\"Convert this dataframe to an interactive table.\"\n",
              "            style=\"display:none;\">\n",
              "\n",
              "  <svg xmlns=\"http://www.w3.org/2000/svg\" height=\"24px\" viewBox=\"0 -960 960 960\">\n",
              "    <path d=\"M120-120v-720h720v720H120Zm60-500h600v-160H180v160Zm220 220h160v-160H400v160Zm0 220h160v-160H400v160ZM180-400h160v-160H180v160Zm440 0h160v-160H620v160ZM180-180h160v-160H180v160Zm440 0h160v-160H620v160Z\"/>\n",
              "  </svg>\n",
              "    </button>\n",
              "\n",
              "  <style>\n",
              "    .colab-df-container {\n",
              "      display:flex;\n",
              "      gap: 12px;\n",
              "    }\n",
              "\n",
              "    .colab-df-convert {\n",
              "      background-color: #E8F0FE;\n",
              "      border: none;\n",
              "      border-radius: 50%;\n",
              "      cursor: pointer;\n",
              "      display: none;\n",
              "      fill: #1967D2;\n",
              "      height: 32px;\n",
              "      padding: 0 0 0 0;\n",
              "      width: 32px;\n",
              "    }\n",
              "\n",
              "    .colab-df-convert:hover {\n",
              "      background-color: #E2EBFA;\n",
              "      box-shadow: 0px 1px 2px rgba(60, 64, 67, 0.3), 0px 1px 3px 1px rgba(60, 64, 67, 0.15);\n",
              "      fill: #174EA6;\n",
              "    }\n",
              "\n",
              "    .colab-df-buttons div {\n",
              "      margin-bottom: 4px;\n",
              "    }\n",
              "\n",
              "    [theme=dark] .colab-df-convert {\n",
              "      background-color: #3B4455;\n",
              "      fill: #D2E3FC;\n",
              "    }\n",
              "\n",
              "    [theme=dark] .colab-df-convert:hover {\n",
              "      background-color: #434B5C;\n",
              "      box-shadow: 0px 1px 3px 1px rgba(0, 0, 0, 0.15);\n",
              "      filter: drop-shadow(0px 1px 2px rgba(0, 0, 0, 0.3));\n",
              "      fill: #FFFFFF;\n",
              "    }\n",
              "  </style>\n",
              "\n",
              "    <script>\n",
              "      const buttonEl =\n",
              "        document.querySelector('#df-37b9264c-0811-4891-908c-be2be4541c86 button.colab-df-convert');\n",
              "      buttonEl.style.display =\n",
              "        google.colab.kernel.accessAllowed ? 'block' : 'none';\n",
              "\n",
              "      async function convertToInteractive(key) {\n",
              "        const element = document.querySelector('#df-37b9264c-0811-4891-908c-be2be4541c86');\n",
              "        const dataTable =\n",
              "          await google.colab.kernel.invokeFunction('convertToInteractive',\n",
              "                                                    [key], {});\n",
              "        if (!dataTable) return;\n",
              "\n",
              "        const docLinkHtml = 'Like what you see? Visit the ' +\n",
              "          '<a target=\"_blank\" href=https://colab.research.google.com/notebooks/data_table.ipynb>data table notebook</a>'\n",
              "          + ' to learn more about interactive tables.';\n",
              "        element.innerHTML = '';\n",
              "        dataTable['output_type'] = 'display_data';\n",
              "        await google.colab.output.renderOutput(dataTable, element);\n",
              "        const docLink = document.createElement('div');\n",
              "        docLink.innerHTML = docLinkHtml;\n",
              "        element.appendChild(docLink);\n",
              "      }\n",
              "    </script>\n",
              "  </div>\n",
              "\n",
              "\n",
              "<div id=\"df-238138ba-bed3-4685-b3c9-d00cde8f6f2f\">\n",
              "  <button class=\"colab-df-quickchart\" onclick=\"quickchart('df-238138ba-bed3-4685-b3c9-d00cde8f6f2f')\"\n",
              "            title=\"Suggest charts\"\n",
              "            style=\"display:none;\">\n",
              "\n",
              "<svg xmlns=\"http://www.w3.org/2000/svg\" height=\"24px\"viewBox=\"0 0 24 24\"\n",
              "     width=\"24px\">\n",
              "    <g>\n",
              "        <path d=\"M19 3H5c-1.1 0-2 .9-2 2v14c0 1.1.9 2 2 2h14c1.1 0 2-.9 2-2V5c0-1.1-.9-2-2-2zM9 17H7v-7h2v7zm4 0h-2V7h2v10zm4 0h-2v-4h2v4z\"/>\n",
              "    </g>\n",
              "</svg>\n",
              "  </button>\n",
              "\n",
              "<style>\n",
              "  .colab-df-quickchart {\n",
              "      --bg-color: #E8F0FE;\n",
              "      --fill-color: #1967D2;\n",
              "      --hover-bg-color: #E2EBFA;\n",
              "      --hover-fill-color: #174EA6;\n",
              "      --disabled-fill-color: #AAA;\n",
              "      --disabled-bg-color: #DDD;\n",
              "  }\n",
              "\n",
              "  [theme=dark] .colab-df-quickchart {\n",
              "      --bg-color: #3B4455;\n",
              "      --fill-color: #D2E3FC;\n",
              "      --hover-bg-color: #434B5C;\n",
              "      --hover-fill-color: #FFFFFF;\n",
              "      --disabled-bg-color: #3B4455;\n",
              "      --disabled-fill-color: #666;\n",
              "  }\n",
              "\n",
              "  .colab-df-quickchart {\n",
              "    background-color: var(--bg-color);\n",
              "    border: none;\n",
              "    border-radius: 50%;\n",
              "    cursor: pointer;\n",
              "    display: none;\n",
              "    fill: var(--fill-color);\n",
              "    height: 32px;\n",
              "    padding: 0;\n",
              "    width: 32px;\n",
              "  }\n",
              "\n",
              "  .colab-df-quickchart:hover {\n",
              "    background-color: var(--hover-bg-color);\n",
              "    box-shadow: 0 1px 2px rgba(60, 64, 67, 0.3), 0 1px 3px 1px rgba(60, 64, 67, 0.15);\n",
              "    fill: var(--button-hover-fill-color);\n",
              "  }\n",
              "\n",
              "  .colab-df-quickchart-complete:disabled,\n",
              "  .colab-df-quickchart-complete:disabled:hover {\n",
              "    background-color: var(--disabled-bg-color);\n",
              "    fill: var(--disabled-fill-color);\n",
              "    box-shadow: none;\n",
              "  }\n",
              "\n",
              "  .colab-df-spinner {\n",
              "    border: 2px solid var(--fill-color);\n",
              "    border-color: transparent;\n",
              "    border-bottom-color: var(--fill-color);\n",
              "    animation:\n",
              "      spin 1s steps(1) infinite;\n",
              "  }\n",
              "\n",
              "  @keyframes spin {\n",
              "    0% {\n",
              "      border-color: transparent;\n",
              "      border-bottom-color: var(--fill-color);\n",
              "      border-left-color: var(--fill-color);\n",
              "    }\n",
              "    20% {\n",
              "      border-color: transparent;\n",
              "      border-left-color: var(--fill-color);\n",
              "      border-top-color: var(--fill-color);\n",
              "    }\n",
              "    30% {\n",
              "      border-color: transparent;\n",
              "      border-left-color: var(--fill-color);\n",
              "      border-top-color: var(--fill-color);\n",
              "      border-right-color: var(--fill-color);\n",
              "    }\n",
              "    40% {\n",
              "      border-color: transparent;\n",
              "      border-right-color: var(--fill-color);\n",
              "      border-top-color: var(--fill-color);\n",
              "    }\n",
              "    60% {\n",
              "      border-color: transparent;\n",
              "      border-right-color: var(--fill-color);\n",
              "    }\n",
              "    80% {\n",
              "      border-color: transparent;\n",
              "      border-right-color: var(--fill-color);\n",
              "      border-bottom-color: var(--fill-color);\n",
              "    }\n",
              "    90% {\n",
              "      border-color: transparent;\n",
              "      border-bottom-color: var(--fill-color);\n",
              "    }\n",
              "  }\n",
              "</style>\n",
              "\n",
              "  <script>\n",
              "    async function quickchart(key) {\n",
              "      const quickchartButtonEl =\n",
              "        document.querySelector('#' + key + ' button');\n",
              "      quickchartButtonEl.disabled = true;  // To prevent multiple clicks.\n",
              "      quickchartButtonEl.classList.add('colab-df-spinner');\n",
              "      try {\n",
              "        const charts = await google.colab.kernel.invokeFunction(\n",
              "            'suggestCharts', [key], {});\n",
              "      } catch (error) {\n",
              "        console.error('Error during call to suggestCharts:', error);\n",
              "      }\n",
              "      quickchartButtonEl.classList.remove('colab-df-spinner');\n",
              "      quickchartButtonEl.classList.add('colab-df-quickchart-complete');\n",
              "    }\n",
              "    (() => {\n",
              "      let quickchartButtonEl =\n",
              "        document.querySelector('#df-238138ba-bed3-4685-b3c9-d00cde8f6f2f button');\n",
              "      quickchartButtonEl.style.display =\n",
              "        google.colab.kernel.accessAllowed ? 'block' : 'none';\n",
              "    })();\n",
              "  </script>\n",
              "</div>\n",
              "\n",
              "    </div>\n",
              "  </div>\n"
            ]
          },
          "metadata": {},
          "execution_count": 248
        }
      ]
    },
    {
      "cell_type": "code",
      "source": [
        "df"
      ],
      "metadata": {
        "colab": {
          "base_uri": "https://localhost:8080/",
          "height": 423
        },
        "id": "bjOZqZY9uGRU",
        "outputId": "c86f8c13-16ef-4fd1-aa8f-82fa61502284"
      },
      "execution_count": 249,
      "outputs": [
        {
          "output_type": "execute_result",
          "data": {
            "text/plain": [
              "                                   title  User Rating    movie_id  \\\n",
              "0                      Top Gun: Maverick       187000   tt1745960   \n",
              "1                Jurassic World Dominion        56000   tt8041270   \n",
              "3                              Lightyear        32000  tt10298810   \n",
              "4                             Spiderhead        23000   tt9783600   \n",
              "5      Everything Everywhere All at Once       124000   tt6710474   \n",
              "...                                  ...          ...         ...   \n",
              "24384         Deidra & Laney Rob a Train         1900   tt4144332   \n",
              "24390                      The Producers        43000   tt0395251   \n",
              "24391                            Screwed         9100   tt0156323   \n",
              "24392              Home Sweet Home Alone        16000  tt11012066   \n",
              "24393                      Balls of Fury        43000   tt0424823   \n",
              "\n",
              "                                                    tags  \n",
              "0      After more than thirty years of service as one...  \n",
              "1      Four years after the destruction of Isla Nubla...  \n",
              "3      While spending years attempting to return home...  \n",
              "4      In the near future, convicts are offered the c...  \n",
              "5      An aging Chinese immigrant is swept up in an i...  \n",
              "...                                                  ...  \n",
              "24384  After their mother ends up in jail, two sister...  \n",
              "24390  After putting together another Broadway flop, ...  \n",
              "24391  A chauffeur kidnaps his rich boss's dog to hol...  \n",
              "24392  A married couple tries to steal back a valuabl...  \n",
              "24393  Down-and-out former professional ping-pong phe...  \n",
              "\n",
              "[12562 rows x 4 columns]"
            ],
            "text/html": [
              "\n",
              "  <div id=\"df-9169dbf5-a665-4932-8a7f-2ee1b039468c\" class=\"colab-df-container\">\n",
              "    <div>\n",
              "<style scoped>\n",
              "    .dataframe tbody tr th:only-of-type {\n",
              "        vertical-align: middle;\n",
              "    }\n",
              "\n",
              "    .dataframe tbody tr th {\n",
              "        vertical-align: top;\n",
              "    }\n",
              "\n",
              "    .dataframe thead th {\n",
              "        text-align: right;\n",
              "    }\n",
              "</style>\n",
              "<table border=\"1\" class=\"dataframe\">\n",
              "  <thead>\n",
              "    <tr style=\"text-align: right;\">\n",
              "      <th></th>\n",
              "      <th>title</th>\n",
              "      <th>User Rating</th>\n",
              "      <th>movie_id</th>\n",
              "      <th>tags</th>\n",
              "    </tr>\n",
              "  </thead>\n",
              "  <tbody>\n",
              "    <tr>\n",
              "      <th>0</th>\n",
              "      <td>Top Gun: Maverick</td>\n",
              "      <td>187000</td>\n",
              "      <td>tt1745960</td>\n",
              "      <td>After more than thirty years of service as one...</td>\n",
              "    </tr>\n",
              "    <tr>\n",
              "      <th>1</th>\n",
              "      <td>Jurassic World Dominion</td>\n",
              "      <td>56000</td>\n",
              "      <td>tt8041270</td>\n",
              "      <td>Four years after the destruction of Isla Nubla...</td>\n",
              "    </tr>\n",
              "    <tr>\n",
              "      <th>3</th>\n",
              "      <td>Lightyear</td>\n",
              "      <td>32000</td>\n",
              "      <td>tt10298810</td>\n",
              "      <td>While spending years attempting to return home...</td>\n",
              "    </tr>\n",
              "    <tr>\n",
              "      <th>4</th>\n",
              "      <td>Spiderhead</td>\n",
              "      <td>23000</td>\n",
              "      <td>tt9783600</td>\n",
              "      <td>In the near future, convicts are offered the c...</td>\n",
              "    </tr>\n",
              "    <tr>\n",
              "      <th>5</th>\n",
              "      <td>Everything Everywhere All at Once</td>\n",
              "      <td>124000</td>\n",
              "      <td>tt6710474</td>\n",
              "      <td>An aging Chinese immigrant is swept up in an i...</td>\n",
              "    </tr>\n",
              "    <tr>\n",
              "      <th>...</th>\n",
              "      <td>...</td>\n",
              "      <td>...</td>\n",
              "      <td>...</td>\n",
              "      <td>...</td>\n",
              "    </tr>\n",
              "    <tr>\n",
              "      <th>24384</th>\n",
              "      <td>Deidra &amp; Laney Rob a Train</td>\n",
              "      <td>1900</td>\n",
              "      <td>tt4144332</td>\n",
              "      <td>After their mother ends up in jail, two sister...</td>\n",
              "    </tr>\n",
              "    <tr>\n",
              "      <th>24390</th>\n",
              "      <td>The Producers</td>\n",
              "      <td>43000</td>\n",
              "      <td>tt0395251</td>\n",
              "      <td>After putting together another Broadway flop, ...</td>\n",
              "    </tr>\n",
              "    <tr>\n",
              "      <th>24391</th>\n",
              "      <td>Screwed</td>\n",
              "      <td>9100</td>\n",
              "      <td>tt0156323</td>\n",
              "      <td>A chauffeur kidnaps his rich boss's dog to hol...</td>\n",
              "    </tr>\n",
              "    <tr>\n",
              "      <th>24392</th>\n",
              "      <td>Home Sweet Home Alone</td>\n",
              "      <td>16000</td>\n",
              "      <td>tt11012066</td>\n",
              "      <td>A married couple tries to steal back a valuabl...</td>\n",
              "    </tr>\n",
              "    <tr>\n",
              "      <th>24393</th>\n",
              "      <td>Balls of Fury</td>\n",
              "      <td>43000</td>\n",
              "      <td>tt0424823</td>\n",
              "      <td>Down-and-out former professional ping-pong phe...</td>\n",
              "    </tr>\n",
              "  </tbody>\n",
              "</table>\n",
              "<p>12562 rows × 4 columns</p>\n",
              "</div>\n",
              "    <div class=\"colab-df-buttons\">\n",
              "\n",
              "  <div class=\"colab-df-container\">\n",
              "    <button class=\"colab-df-convert\" onclick=\"convertToInteractive('df-9169dbf5-a665-4932-8a7f-2ee1b039468c')\"\n",
              "            title=\"Convert this dataframe to an interactive table.\"\n",
              "            style=\"display:none;\">\n",
              "\n",
              "  <svg xmlns=\"http://www.w3.org/2000/svg\" height=\"24px\" viewBox=\"0 -960 960 960\">\n",
              "    <path d=\"M120-120v-720h720v720H120Zm60-500h600v-160H180v160Zm220 220h160v-160H400v160Zm0 220h160v-160H400v160ZM180-400h160v-160H180v160Zm440 0h160v-160H620v160ZM180-180h160v-160H180v160Zm440 0h160v-160H620v160Z\"/>\n",
              "  </svg>\n",
              "    </button>\n",
              "\n",
              "  <style>\n",
              "    .colab-df-container {\n",
              "      display:flex;\n",
              "      gap: 12px;\n",
              "    }\n",
              "\n",
              "    .colab-df-convert {\n",
              "      background-color: #E8F0FE;\n",
              "      border: none;\n",
              "      border-radius: 50%;\n",
              "      cursor: pointer;\n",
              "      display: none;\n",
              "      fill: #1967D2;\n",
              "      height: 32px;\n",
              "      padding: 0 0 0 0;\n",
              "      width: 32px;\n",
              "    }\n",
              "\n",
              "    .colab-df-convert:hover {\n",
              "      background-color: #E2EBFA;\n",
              "      box-shadow: 0px 1px 2px rgba(60, 64, 67, 0.3), 0px 1px 3px 1px rgba(60, 64, 67, 0.15);\n",
              "      fill: #174EA6;\n",
              "    }\n",
              "\n",
              "    .colab-df-buttons div {\n",
              "      margin-bottom: 4px;\n",
              "    }\n",
              "\n",
              "    [theme=dark] .colab-df-convert {\n",
              "      background-color: #3B4455;\n",
              "      fill: #D2E3FC;\n",
              "    }\n",
              "\n",
              "    [theme=dark] .colab-df-convert:hover {\n",
              "      background-color: #434B5C;\n",
              "      box-shadow: 0px 1px 3px 1px rgba(0, 0, 0, 0.15);\n",
              "      filter: drop-shadow(0px 1px 2px rgba(0, 0, 0, 0.3));\n",
              "      fill: #FFFFFF;\n",
              "    }\n",
              "  </style>\n",
              "\n",
              "    <script>\n",
              "      const buttonEl =\n",
              "        document.querySelector('#df-9169dbf5-a665-4932-8a7f-2ee1b039468c button.colab-df-convert');\n",
              "      buttonEl.style.display =\n",
              "        google.colab.kernel.accessAllowed ? 'block' : 'none';\n",
              "\n",
              "      async function convertToInteractive(key) {\n",
              "        const element = document.querySelector('#df-9169dbf5-a665-4932-8a7f-2ee1b039468c');\n",
              "        const dataTable =\n",
              "          await google.colab.kernel.invokeFunction('convertToInteractive',\n",
              "                                                    [key], {});\n",
              "        if (!dataTable) return;\n",
              "\n",
              "        const docLinkHtml = 'Like what you see? Visit the ' +\n",
              "          '<a target=\"_blank\" href=https://colab.research.google.com/notebooks/data_table.ipynb>data table notebook</a>'\n",
              "          + ' to learn more about interactive tables.';\n",
              "        element.innerHTML = '';\n",
              "        dataTable['output_type'] = 'display_data';\n",
              "        await google.colab.output.renderOutput(dataTable, element);\n",
              "        const docLink = document.createElement('div');\n",
              "        docLink.innerHTML = docLinkHtml;\n",
              "        element.appendChild(docLink);\n",
              "      }\n",
              "    </script>\n",
              "  </div>\n",
              "\n",
              "\n",
              "<div id=\"df-a8eb3c67-7952-47d5-84bb-27243846c92f\">\n",
              "  <button class=\"colab-df-quickchart\" onclick=\"quickchart('df-a8eb3c67-7952-47d5-84bb-27243846c92f')\"\n",
              "            title=\"Suggest charts\"\n",
              "            style=\"display:none;\">\n",
              "\n",
              "<svg xmlns=\"http://www.w3.org/2000/svg\" height=\"24px\"viewBox=\"0 0 24 24\"\n",
              "     width=\"24px\">\n",
              "    <g>\n",
              "        <path d=\"M19 3H5c-1.1 0-2 .9-2 2v14c0 1.1.9 2 2 2h14c1.1 0 2-.9 2-2V5c0-1.1-.9-2-2-2zM9 17H7v-7h2v7zm4 0h-2V7h2v10zm4 0h-2v-4h2v4z\"/>\n",
              "    </g>\n",
              "</svg>\n",
              "  </button>\n",
              "\n",
              "<style>\n",
              "  .colab-df-quickchart {\n",
              "      --bg-color: #E8F0FE;\n",
              "      --fill-color: #1967D2;\n",
              "      --hover-bg-color: #E2EBFA;\n",
              "      --hover-fill-color: #174EA6;\n",
              "      --disabled-fill-color: #AAA;\n",
              "      --disabled-bg-color: #DDD;\n",
              "  }\n",
              "\n",
              "  [theme=dark] .colab-df-quickchart {\n",
              "      --bg-color: #3B4455;\n",
              "      --fill-color: #D2E3FC;\n",
              "      --hover-bg-color: #434B5C;\n",
              "      --hover-fill-color: #FFFFFF;\n",
              "      --disabled-bg-color: #3B4455;\n",
              "      --disabled-fill-color: #666;\n",
              "  }\n",
              "\n",
              "  .colab-df-quickchart {\n",
              "    background-color: var(--bg-color);\n",
              "    border: none;\n",
              "    border-radius: 50%;\n",
              "    cursor: pointer;\n",
              "    display: none;\n",
              "    fill: var(--fill-color);\n",
              "    height: 32px;\n",
              "    padding: 0;\n",
              "    width: 32px;\n",
              "  }\n",
              "\n",
              "  .colab-df-quickchart:hover {\n",
              "    background-color: var(--hover-bg-color);\n",
              "    box-shadow: 0 1px 2px rgba(60, 64, 67, 0.3), 0 1px 3px 1px rgba(60, 64, 67, 0.15);\n",
              "    fill: var(--button-hover-fill-color);\n",
              "  }\n",
              "\n",
              "  .colab-df-quickchart-complete:disabled,\n",
              "  .colab-df-quickchart-complete:disabled:hover {\n",
              "    background-color: var(--disabled-bg-color);\n",
              "    fill: var(--disabled-fill-color);\n",
              "    box-shadow: none;\n",
              "  }\n",
              "\n",
              "  .colab-df-spinner {\n",
              "    border: 2px solid var(--fill-color);\n",
              "    border-color: transparent;\n",
              "    border-bottom-color: var(--fill-color);\n",
              "    animation:\n",
              "      spin 1s steps(1) infinite;\n",
              "  }\n",
              "\n",
              "  @keyframes spin {\n",
              "    0% {\n",
              "      border-color: transparent;\n",
              "      border-bottom-color: var(--fill-color);\n",
              "      border-left-color: var(--fill-color);\n",
              "    }\n",
              "    20% {\n",
              "      border-color: transparent;\n",
              "      border-left-color: var(--fill-color);\n",
              "      border-top-color: var(--fill-color);\n",
              "    }\n",
              "    30% {\n",
              "      border-color: transparent;\n",
              "      border-left-color: var(--fill-color);\n",
              "      border-top-color: var(--fill-color);\n",
              "      border-right-color: var(--fill-color);\n",
              "    }\n",
              "    40% {\n",
              "      border-color: transparent;\n",
              "      border-right-color: var(--fill-color);\n",
              "      border-top-color: var(--fill-color);\n",
              "    }\n",
              "    60% {\n",
              "      border-color: transparent;\n",
              "      border-right-color: var(--fill-color);\n",
              "    }\n",
              "    80% {\n",
              "      border-color: transparent;\n",
              "      border-right-color: var(--fill-color);\n",
              "      border-bottom-color: var(--fill-color);\n",
              "    }\n",
              "    90% {\n",
              "      border-color: transparent;\n",
              "      border-bottom-color: var(--fill-color);\n",
              "    }\n",
              "  }\n",
              "</style>\n",
              "\n",
              "  <script>\n",
              "    async function quickchart(key) {\n",
              "      const quickchartButtonEl =\n",
              "        document.querySelector('#' + key + ' button');\n",
              "      quickchartButtonEl.disabled = true;  // To prevent multiple clicks.\n",
              "      quickchartButtonEl.classList.add('colab-df-spinner');\n",
              "      try {\n",
              "        const charts = await google.colab.kernel.invokeFunction(\n",
              "            'suggestCharts', [key], {});\n",
              "      } catch (error) {\n",
              "        console.error('Error during call to suggestCharts:', error);\n",
              "      }\n",
              "      quickchartButtonEl.classList.remove('colab-df-spinner');\n",
              "      quickchartButtonEl.classList.add('colab-df-quickchart-complete');\n",
              "    }\n",
              "    (() => {\n",
              "      let quickchartButtonEl =\n",
              "        document.querySelector('#df-a8eb3c67-7952-47d5-84bb-27243846c92f button');\n",
              "      quickchartButtonEl.style.display =\n",
              "        google.colab.kernel.accessAllowed ? 'block' : 'none';\n",
              "    })();\n",
              "  </script>\n",
              "</div>\n",
              "\n",
              "  <div id=\"id_cfbc9f17-3ab4-4535-b82a-c198d73645d7\">\n",
              "    <style>\n",
              "      .colab-df-generate {\n",
              "        background-color: #E8F0FE;\n",
              "        border: none;\n",
              "        border-radius: 50%;\n",
              "        cursor: pointer;\n",
              "        display: none;\n",
              "        fill: #1967D2;\n",
              "        height: 32px;\n",
              "        padding: 0 0 0 0;\n",
              "        width: 32px;\n",
              "      }\n",
              "\n",
              "      .colab-df-generate:hover {\n",
              "        background-color: #E2EBFA;\n",
              "        box-shadow: 0px 1px 2px rgba(60, 64, 67, 0.3), 0px 1px 3px 1px rgba(60, 64, 67, 0.15);\n",
              "        fill: #174EA6;\n",
              "      }\n",
              "\n",
              "      [theme=dark] .colab-df-generate {\n",
              "        background-color: #3B4455;\n",
              "        fill: #D2E3FC;\n",
              "      }\n",
              "\n",
              "      [theme=dark] .colab-df-generate:hover {\n",
              "        background-color: #434B5C;\n",
              "        box-shadow: 0px 1px 3px 1px rgba(0, 0, 0, 0.15);\n",
              "        filter: drop-shadow(0px 1px 2px rgba(0, 0, 0, 0.3));\n",
              "        fill: #FFFFFF;\n",
              "      }\n",
              "    </style>\n",
              "    <button class=\"colab-df-generate\" onclick=\"generateWithVariable('df')\"\n",
              "            title=\"Generate code using this dataframe.\"\n",
              "            style=\"display:none;\">\n",
              "\n",
              "  <svg xmlns=\"http://www.w3.org/2000/svg\" height=\"24px\"viewBox=\"0 0 24 24\"\n",
              "       width=\"24px\">\n",
              "    <path d=\"M7,19H8.4L18.45,9,17,7.55,7,17.6ZM5,21V16.75L18.45,3.32a2,2,0,0,1,2.83,0l1.4,1.43a1.91,1.91,0,0,1,.58,1.4,1.91,1.91,0,0,1-.58,1.4L9.25,21ZM18.45,9,17,7.55Zm-12,3A5.31,5.31,0,0,0,4.9,8.1,5.31,5.31,0,0,0,1,6.5,5.31,5.31,0,0,0,4.9,4.9,5.31,5.31,0,0,0,6.5,1,5.31,5.31,0,0,0,8.1,4.9,5.31,5.31,0,0,0,12,6.5,5.46,5.46,0,0,0,6.5,12Z\"/>\n",
              "  </svg>\n",
              "    </button>\n",
              "    <script>\n",
              "      (() => {\n",
              "      const buttonEl =\n",
              "        document.querySelector('#id_cfbc9f17-3ab4-4535-b82a-c198d73645d7 button.colab-df-generate');\n",
              "      buttonEl.style.display =\n",
              "        google.colab.kernel.accessAllowed ? 'block' : 'none';\n",
              "\n",
              "      buttonEl.onclick = () => {\n",
              "        google.colab.notebook.generateWithVariable('df');\n",
              "      }\n",
              "      })();\n",
              "    </script>\n",
              "  </div>\n",
              "\n",
              "    </div>\n",
              "  </div>\n"
            ]
          },
          "metadata": {},
          "execution_count": 249
        }
      ]
    },
    {
      "cell_type": "markdown",
      "source": [
        "## Feature Extraction"
      ],
      "metadata": {
        "id": "27la8H5f6l3N"
      }
    },
    {
      "cell_type": "code",
      "source": [
        "# lowercasing\n",
        "df['tags'] = df['tags'].apply(lambda text: str.lower(text))"
      ],
      "metadata": {
        "id": "4gV4Feg-6Fsm"
      },
      "execution_count": 250,
      "outputs": []
    },
    {
      "cell_type": "code",
      "source": [
        "import nltk\n",
        "from nltk.stem import PorterStemmer"
      ],
      "metadata": {
        "id": "ftixJOJA6YQC"
      },
      "execution_count": 251,
      "outputs": []
    },
    {
      "cell_type": "code",
      "source": [
        "ps = PorterStemmer()"
      ],
      "metadata": {
        "id": "q7R4SkfQ8L73"
      },
      "execution_count": 252,
      "outputs": []
    },
    {
      "cell_type": "code",
      "source": [
        "def stems(text):\n",
        "  T = [ps.stem(i) for i in text.split()]\n",
        "  return \" \".join(T)"
      ],
      "metadata": {
        "id": "sDmVgGQ98N8I"
      },
      "execution_count": 253,
      "outputs": []
    },
    {
      "cell_type": "code",
      "source": [
        "df['tags'] = df['tags'].apply(stems)"
      ],
      "metadata": {
        "id": "DUIVVT8F8gzj"
      },
      "execution_count": 254,
      "outputs": []
    },
    {
      "cell_type": "code",
      "source": [
        "df['tags'][0]"
      ],
      "metadata": {
        "colab": {
          "base_uri": "https://localhost:8080/",
          "height": 88
        },
        "id": "MWISRFzI8kQc",
        "outputId": "bdcfc219-8a81-45cb-df6e-9bb1125fff11"
      },
      "execution_count": 255,
      "outputs": [
        {
          "output_type": "execute_result",
          "data": {
            "text/plain": [
              "\"after more than thirti year of servic as one of the navy' top aviators, pete mitchel is where he belongs, push the envelop as a courag test pilot and dodg the advanc in rank that would ground. fighter jet, sequel, u.s. navy, fighter aircraft, pilot, naval aviation, jet fighter, militari pilot, aviation, aircraft action, drama joseph kosinski jack epp jr., peter craig, tom cruise, jennif connelly, mile teller\""
            ],
            "application/vnd.google.colaboratory.intrinsic+json": {
              "type": "string"
            }
          },
          "metadata": {},
          "execution_count": 255
        }
      ]
    },
    {
      "cell_type": "code",
      "source": [
        "# df.to_csv('25K_movies_preprocessed.csv', index=False)\n",
        "\n",
        "import pandas as pd\n",
        "df=pd.read_csv('/content/25K_movies_preprocessed.csv')"
      ],
      "metadata": {
        "id": "a8at8weu839E"
      },
      "execution_count": 256,
      "outputs": []
    },
    {
      "cell_type": "markdown",
      "source": [
        "### Bag of Words"
      ],
      "metadata": {
        "id": "-q4_rUjOP6oV"
      }
    },
    {
      "cell_type": "code",
      "source": [
        "import string"
      ],
      "metadata": {
        "id": "vgCPv7kXvCSJ"
      },
      "execution_count": 171,
      "outputs": []
    },
    {
      "cell_type": "code",
      "source": [
        "# Apply the function to the 'tags' column\n",
        "def remove_punctuation(text):\n",
        "    return text.translate(str.maketrans('', '', string.punctuation))\n",
        "\n",
        "# Apply the function to the 'tags' column\n",
        "df['tags'] = df['tags'].apply(remove_punctuation)"
      ],
      "metadata": {
        "id": "6Wjzx76wxWPO"
      },
      "execution_count": 174,
      "outputs": []
    },
    {
      "cell_type": "code",
      "source": [
        "from sklearn.feature_extraction.text import CountVectorizer\n",
        "cv = CountVectorizer(max_features=5000,stop_words='english')"
      ],
      "metadata": {
        "id": "73GEmM7N9IiZ"
      },
      "execution_count": 257,
      "outputs": []
    },
    {
      "cell_type": "code",
      "source": [
        "vector = cv.fit_transform(df['tags']).toarray()"
      ],
      "metadata": {
        "id": "tk7Ir8_o9rVJ"
      },
      "execution_count": 258,
      "outputs": []
    },
    {
      "cell_type": "code",
      "source": [
        "vector.shape"
      ],
      "metadata": {
        "colab": {
          "base_uri": "https://localhost:8080/"
        },
        "id": "Jtoj8y-w92NW",
        "outputId": "457a867f-e8c7-4a1d-fbe8-b523adb67d99"
      },
      "execution_count": 259,
      "outputs": [
        {
          "output_type": "execute_result",
          "data": {
            "text/plain": [
              "(12562, 5000)"
            ]
          },
          "metadata": {},
          "execution_count": 259
        }
      ]
    },
    {
      "cell_type": "code",
      "source": [
        "from scipy.sparse import csr_matrix\n",
        "\n",
        "# Assuming vector is a sparse matrix\n",
        "sparse_vector = csr_matrix(vector)"
      ],
      "metadata": {
        "id": "sTsoPqiui7A8"
      },
      "execution_count": 260,
      "outputs": []
    },
    {
      "cell_type": "code",
      "source": [
        "from sklearn.metrics.pairwise import cosine_similarity"
      ],
      "metadata": {
        "id": "AqnO5RJf97bk"
      },
      "execution_count": 261,
      "outputs": []
    },
    {
      "cell_type": "code",
      "source": [
        "similarity = cosine_similarity(vector)"
      ],
      "metadata": {
        "id": "MeYMz4lV-Dq6"
      },
      "execution_count": 262,
      "outputs": []
    },
    {
      "cell_type": "code",
      "source": [
        "type(similarity)"
      ],
      "metadata": {
        "colab": {
          "base_uri": "https://localhost:8080/"
        },
        "id": "d-v0pARoSjvU",
        "outputId": "1d73ef9b-e6ae-4c75-bc8d-f3722a7f48c3"
      },
      "execution_count": 263,
      "outputs": [
        {
          "output_type": "execute_result",
          "data": {
            "text/plain": [
              "numpy.ndarray"
            ]
          },
          "metadata": {},
          "execution_count": 263
        }
      ]
    },
    {
      "cell_type": "code",
      "source": [
        "similarity.dtype"
      ],
      "metadata": {
        "colab": {
          "base_uri": "https://localhost:8080/"
        },
        "id": "IvX223m-TLEm",
        "outputId": "51e01086-7371-4724-febb-5695d3b7b340"
      },
      "execution_count": 264,
      "outputs": [
        {
          "output_type": "execute_result",
          "data": {
            "text/plain": [
              "dtype('float64')"
            ]
          },
          "metadata": {},
          "execution_count": 264
        }
      ]
    },
    {
      "cell_type": "code",
      "source": [
        "movies_similarity= similarity.astype('float32')\n",
        "# movies_similarity=similarity"
      ],
      "metadata": {
        "id": "ETQfnLBfTseY"
      },
      "execution_count": 265,
      "outputs": []
    },
    {
      "cell_type": "code",
      "source": [
        "movies_similarity.shape"
      ],
      "metadata": {
        "colab": {
          "base_uri": "https://localhost:8080/"
        },
        "id": "XwHWVkNX-JlH",
        "outputId": "81193f0e-bc51-4549-d1c4-67528a53c5c9"
      },
      "execution_count": 266,
      "outputs": [
        {
          "output_type": "execute_result",
          "data": {
            "text/plain": [
              "(12562, 12562)"
            ]
          },
          "metadata": {},
          "execution_count": 266
        }
      ]
    },
    {
      "cell_type": "code",
      "source": [
        "movies_similarity[0]"
      ],
      "metadata": {
        "colab": {
          "base_uri": "https://localhost:8080/"
        },
        "id": "pmcLWpTi1DVx",
        "outputId": "80320a2f-9c91-4580-94ed-4acbef8f11e8"
      },
      "execution_count": 285,
      "outputs": [
        {
          "output_type": "execute_result",
          "data": {
            "text/plain": [
              "array([1.        , 0.05241424, 0.06497221, ..., 0.        , 0.02575131,\n",
              "       0.        ], dtype=float32)"
            ]
          },
          "metadata": {},
          "execution_count": 285
        }
      ]
    },
    {
      "cell_type": "code",
      "source": [
        "def recommend(movie):\n",
        "  index = df[df['title']==movie].index[0]\n",
        "  distances = sorted(list(enumerate(movies_similarity[index])),reverse=True, key=lambda x:x[1])\n",
        "  for i in distances[1:6]:\n",
        "    print(df.iloc[i[0]].title, df.iloc[i[0]].movie_id)\n"
      ],
      "metadata": {
        "id": "8gXWN_ox_QK9"
      },
      "execution_count": 267,
      "outputs": []
    },
    {
      "cell_type": "code",
      "source": [
        "recommend('Top Gun: Maverick')"
      ],
      "metadata": {
        "colab": {
          "base_uri": "https://localhost:8080/"
        },
        "id": "P2XRxfdj_wni",
        "outputId": "442cf0a5-710b-47df-9e2a-a7cff728a949"
      },
      "execution_count": 268,
      "outputs": [
        {
          "output_type": "stream",
          "name": "stdout",
          "text": [
            "Captain Nova tt14915608\n",
            "Burning Blue tt1811307\n",
            "Flyboys tt0454824\n",
            "Behind Enemy Lines tt0159273\n",
            "Greyhound Attack tt9685652\n"
          ]
        }
      ]
    },
    {
      "cell_type": "code",
      "source": [
        "recommend('Top Gun: Maverick')"
      ],
      "metadata": {
        "colab": {
          "base_uri": "https://localhost:8080/"
        },
        "id": "2-VPaxk6yLNP",
        "outputId": "0d5eab9d-809e-4b6b-9cbf-81fc68596c76"
      },
      "execution_count": 187,
      "outputs": [
        {
          "output_type": "stream",
          "name": "stdout",
          "text": [
            "Captain Nova tt14915608\n",
            "Behind Enemy Lines tt0159273\n",
            "Burning Blue tt1811307\n",
            "Flyboys tt0454824\n",
            "Greyhound Attack tt9685652\n"
          ]
        }
      ]
    },
    {
      "cell_type": "code",
      "source": [
        "recommend('Thor')"
      ],
      "metadata": {
        "colab": {
          "base_uri": "https://localhost:8080/"
        },
        "id": "_0u3KmGiI0K2",
        "outputId": "e6a97a69-3e21-474a-d017-faa71b6d1eb7"
      },
      "execution_count": 170,
      "outputs": [
        {
          "output_type": "stream",
          "name": "stdout",
          "text": [
            "Mission: Impossible III tt0317919\n",
            "Inferno tt3062096\n",
            "Hatchet II tt1270835\n",
            "Predestination tt2397535\n",
            "Avengers: Endgame tt4154796\n"
          ]
        }
      ]
    },
    {
      "cell_type": "code",
      "source": [
        "recommend('Spartan')"
      ],
      "metadata": {
        "colab": {
          "base_uri": "https://localhost:8080/"
        },
        "id": "xLOzolO0yNw3",
        "outputId": "b841b53f-6145-4be2-967d-bf0d5a71c05b"
      },
      "execution_count": 278,
      "outputs": [
        {
          "output_type": "stream",
          "name": "stdout",
          "text": [
            "I Flip You Off for Four Hours tt13168272\n",
            "Bullitt County tt6140148\n",
            "The Rangers: Bloodstone tt8631432\n",
            "Daughter of the Wolf tt7615052\n",
            "Wet Hot American Summer tt0243655\n"
          ]
        }
      ]
    },
    {
      "cell_type": "code",
      "source": [
        "recommend('The Dark Knight')"
      ],
      "metadata": {
        "colab": {
          "base_uri": "https://localhost:8080/"
        },
        "id": "s2jf8r8S0ynw",
        "outputId": "f90f92da-f948-4549-d51a-eba338242fe0"
      },
      "execution_count": 282,
      "outputs": [
        {
          "output_type": "stream",
          "name": "stdout",
          "text": [
            "Batman Begins tt0372784\n",
            "The Dark Knight Rises tt1345836\n",
            "The Prestige tt0482571\n",
            "Inception tt1375666\n",
            "Interstellar tt0816692\n"
          ]
        }
      ]
    },
    {
      "cell_type": "code",
      "source": [
        "import pickle\n",
        "pickle.dump(df,open('movie_list1.pkl','wb'))\n",
        "pickle.dump(movies_similarity,open('new_movie_similarity_with_5000.pkl','wb'))"
      ],
      "metadata": {
        "id": "PC3rHPZb_y3a"
      },
      "execution_count": 307,
      "outputs": []
    },
    {
      "cell_type": "code",
      "source": [
        "from google.colab import files"
      ],
      "metadata": {
        "id": "r1JWVOOAJJzQ"
      },
      "execution_count": null,
      "outputs": []
    },
    {
      "cell_type": "code",
      "source": [
        "files.download('/content/new_movie_similarity.pkl')"
      ],
      "metadata": {
        "colab": {
          "base_uri": "https://localhost:8080/",
          "height": 34
        },
        "id": "D4pTmZomMwgj",
        "outputId": "9ece6d40-cf2c-48a0-a271-5f20d2166521"
      },
      "execution_count": null,
      "outputs": [
        {
          "output_type": "display_data",
          "data": {
            "text/plain": [
              "<IPython.core.display.Javascript object>"
            ],
            "application/javascript": [
              "\n",
              "    async function download(id, filename, size) {\n",
              "      if (!google.colab.kernel.accessAllowed) {\n",
              "        return;\n",
              "      }\n",
              "      const div = document.createElement('div');\n",
              "      const label = document.createElement('label');\n",
              "      label.textContent = `Downloading \"${filename}\": `;\n",
              "      div.appendChild(label);\n",
              "      const progress = document.createElement('progress');\n",
              "      progress.max = size;\n",
              "      div.appendChild(progress);\n",
              "      document.body.appendChild(div);\n",
              "\n",
              "      const buffers = [];\n",
              "      let downloaded = 0;\n",
              "\n",
              "      const channel = await google.colab.kernel.comms.open(id);\n",
              "      // Send a message to notify the kernel that we're ready.\n",
              "      channel.send({})\n",
              "\n",
              "      for await (const message of channel.messages) {\n",
              "        // Send a message to notify the kernel that we're ready.\n",
              "        channel.send({})\n",
              "        if (message.buffers) {\n",
              "          for (const buffer of message.buffers) {\n",
              "            buffers.push(buffer);\n",
              "            downloaded += buffer.byteLength;\n",
              "            progress.value = downloaded;\n",
              "          }\n",
              "        }\n",
              "      }\n",
              "      const blob = new Blob(buffers, {type: 'application/binary'});\n",
              "      const a = document.createElement('a');\n",
              "      a.href = window.URL.createObjectURL(blob);\n",
              "      a.download = filename;\n",
              "      div.appendChild(a);\n",
              "      a.click();\n",
              "      div.remove();\n",
              "    }\n",
              "  "
            ]
          },
          "metadata": {}
        },
        {
          "output_type": "display_data",
          "data": {
            "text/plain": [
              "<IPython.core.display.Javascript object>"
            ],
            "application/javascript": [
              "download(\"download_60ce2271-61e2-45c9-9c20-b1dc2fb8d795\", \"new_movie_similarity.pkl\", 2334436019)"
            ]
          },
          "metadata": {}
        }
      ]
    },
    {
      "cell_type": "code",
      "source": [
        "import pandas as pd\n",
        "from sklearn.feature_extraction.text import TfidfVectorizer\n",
        "from sklearn.metrics.pairwise import linear_kernel\n",
        "\n",
        "\n",
        "# Initialize the TfidfVectorizer\n",
        "tfidf_vectorizer = TfidfVectorizer(stop_words='english')\n",
        "\n",
        "# Fit and transform the 'tags' column\n",
        "tfidf_matrix = tfidf_vectorizer.fit_transform(df['tags'].fillna(''))\n",
        "\n",
        "# Compute the cosine similarity between movies\n",
        "cosine_similarity = linear_kernel(tfidf_matrix, tfidf_matrix)\n",
        "\n",
        "\n",
        "# Function to get movie recommendations based on TF-IDF\n",
        "def recommend_movies(movie_title, cosine_sim=cosine_similarity, df=df):\n",
        "    # Get the index of the movie\n",
        "    movie_index = df[df['title'] == movie_title].index[0]\n",
        "\n",
        "    # Get the pairwise similarity scores with other movies\n",
        "    similarity_scores = list(enumerate(cosine_sim[movie_index]))\n",
        "\n",
        "    # Sort the movies based on similarity scores\n",
        "    similarity_scores = sorted(similarity_scores, key=lambda x: x[1], reverse=True)\n",
        "\n",
        "    # Get the top 5 recommended movies\n",
        "    recommended_movies = [(df.iloc[i[0]].title, df.iloc[i[0]].tags) for i in similarity_scores[1:6]]\n",
        "\n",
        "    return recommended_movies\n"
      ],
      "metadata": {
        "colab": {
          "base_uri": "https://localhost:8080/"
        },
        "id": "eo-csxUJwhY6",
        "outputId": "5bbbab87-c987-46a5-ead2-0fcab21ea41d"
      },
      "execution_count": 288,
      "outputs": [
        {
          "output_type": "stream",
          "name": "stdout",
          "text": [
            "Top 5 recommended movies for 'Iron Man':\n",
            "('Iron Man 2', \"with the world now awar of hi ident as iron man, toni stark must contend with both hi declin health and a veng mad man with tie to hi father' legacy.. superhero, billionaire, power suit, base on comic book, marvel comics, sequel, base on comic, toni stark character, 2010s, 2000 action, adventure, sci-fi jon favreau stan lee, don heck, robert downey jr., mickey rourke, gwyneth paltrow\")\n",
            "('Spider-Man: Homecoming', 'peter parker balanc hi life as an ordinari high school student in queen with hi superhero alter-ego spider-man, and find himself on the trail of a new menac prowl the sky of new york city.. marvel cinemat universe, superhero, reboot, base on comic book, marvel comics, avengers, mentor, teenag superhero, blockbuster, base on comic action, adventure, sci-fi jon watt john franci daley, jon watts, tom holland, michael keaton, robert downey jr.')\n",
            "('Captain America: Civil War', \"polit involv in the avengers' affair caus a rift between captain america and iron man.. marvel cinemat universe, base on comic book, superhero, siberia, friendship between men, charact name in title, romania, base on comic, accountability, new york citi action, adventure, sci-fi anthoni russo christoph markus, stephen mcfeely, joe simon, chri evans, robert downey jr.\")\n",
            "('Avengers: Age of Ultron', \"when toni stark and bruce banner tri to jump-start a dormant peacekeep program call ultron, thing go horribl wrong and it' up to earth' mightiest hero to stop the villain ultron from enact hi terribl plan.. superhero, marvel cinemat universe, artifici intelligence, hallucination, superhero team, base on comic book, robot, final battle, megalomaniac, scienc run amok action, adventure, sci-fi joss whedon stan lee, jack kirby, robert downey jr., chri evans, mark ruffalo\")\n",
            "('Avengers: Infinity War', 'the aveng and their alli must be will to sacrific all in an attempt to defeat the power thano befor hi blitz of devast and ruin put an end to the universe.. death of recur character, supervillain, superhero, ensembl cast, marvel cinemat universe, marvel comics, wakanda, infin stone, good versu evil, fli superhero action, adventure, sci-fi anthoni russo christoph markus, stephen mcfeely, stan lee, robert downey jr., chri hemsworth')\n"
          ]
        }
      ]
    },
    {
      "cell_type": "code",
      "source": [
        "# Example: Get recommendations for a movie\n",
        "movie_title = 'The Lord of the Rings: The Fellowship of the Ring'\n",
        "recommendations = recommend_movies(movie_title)\n",
        "print(f\"Top 5 recommended movies for '{movie_title}':\")\n",
        "for rec in recommendations:\n",
        "    print(rec)"
      ],
      "metadata": {
        "colab": {
          "base_uri": "https://localhost:8080/"
        },
        "id": "lqzoDhPa1lyM",
        "outputId": "3584f419-9658-4168-952e-e2c98e14832a"
      },
      "execution_count": 306,
      "outputs": [
        {
          "output_type": "stream",
          "name": "stdout",
          "text": [
            "Top 5 recommended movies for 'The Lord of the Rings: The Fellowship of the Ring':\n",
            "('The Lord of the Rings: The Return of the King', \"gandalf and aragorn lead the world of men against sauron' armi to draw hi gaze from frodo and sam as they approach mount doom with the one ring.. epic, orc, hobbit, ring, middl earth, battle, quest, journey, wizard, good versu evil action, adventure, drama peter jackson fran walsh, philippa boyens, elijah wood, viggo mortensen, ian mckellen\")\n",
            "('The Lord of the Rings: The Two Towers', \"while frodo and sam edg closer to mordor with the help of the shifti gollum, the divid fellowship make a stand against sauron' new ally, saruman, and hi hord of isengard.. middl earth, hobbit, epic, wizard, mission, orc, evil wizard, tower, presum dead, lord of the ring action, adventure, drama peter jackson fran walsh, philippa boyens, elijah wood, ian mckellen, viggo mortensen\")\n",
            "('The Hobbit: The Battle of the Five Armies', 'bilbo and compani are forc to engag in a war against an array of combat and keep the lone mountain from fall into the hand of a rise darkness.. middl earth, army, epic, hobbit, epic battle, elf, orc, ruins, love, honor adventure, fantasi peter jackson philippa boyens, peter jackson, ian mckellen, martin freeman, richard armitag')\n",
            "('The Hobbit: An Unexpected Journey', 'a reluct hobbit, bilbo baggins, set out to the lone mountain with a spirit group of dwarv to reclaim their mountain home, and the gold within it from the dragon smaug.. wizard, hobbit, dragon, orc, sword and sorcery, eagle, elf, lord of the rings, epic, mountain adventure, fantasi peter jackson philippa boyens, peter jackson, martin freeman, ian mckellen, richard armitag')\n",
            "('The Hobbit: The Desolation of Smaug', 'the dwarves, along with bilbo baggin and gandalf the grey, continu their quest to reclaim erebor, their homeland, from smaug. bilbo baggin is in possess of a mysteri and magic ring.. lord of the rings, middl earth, sequel, epic, sequel to prequel, dragon, giant spider, hobbit, fli dragon, wing dragon adventure, fantasi peter jackson philippa boyens, peter jackson, ian mckellen, martin freeman, richard armitag')\n"
          ]
        }
      ]
    },
    {
      "cell_type": "code",
      "source": [],
      "metadata": {
        "id": "nbVO2eSc2CUC"
      },
      "execution_count": null,
      "outputs": []
    }
  ]
}
