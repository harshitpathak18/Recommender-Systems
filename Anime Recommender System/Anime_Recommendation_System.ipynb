{
  "cells": [
    {
      "cell_type": "code",
      "execution_count": null,
      "metadata": {
        "id": "HxY-9Qh0lnZe"
      },
      "outputs": [],
      "source": [
        "import tmdbsimple as tmdb\n",
        "\n",
        "tmdb.API_KEY = 'b4f4e5073f49c9bba30dd68659314a41'\n",
        "\n",
        "def movie_meta_data(movie_id):\n",
        "    movie = tmdb.Movies(movie_id)\n",
        "    response = movie.info()\n",
        "\n",
        "    # Construct the complete poster URL\n",
        "    base_url = 'https://image.tmdb.org/t/p/w500'\n",
        "    poster_path = response['poster_path']\n",
        "    movie_poster = f\"{base_url}{poster_path}\"\n",
        "\n",
        "    title = response['title']\n",
        "    summary = response['overview']\n",
        "\n",
        "    genres = response['genres']\n",
        "    genre_names = [genre['name'] for genre in genres]  # Extract genre names\n",
        "    genre_text = \", \".join(genre_names)\n",
        "\n",
        "    trailers = movie.videos()  # Get available videos\n",
        "    youtube_trailer_key = trailers['results'][0]['key']  # Assuming the first result is a YouTube trailer\n",
        "    youtube_trailer_url = f\"https://www.youtube.com/watch?v={youtube_trailer_key}\"\n",
        "\n",
        "    # Fetching movie rating\n",
        "    rating = response['vote_average']\n",
        "\n",
        "    return [title, summary, movie_poster, youtube_trailer_url, genre_text, rating]\n",
        "\n",
        "\n",
        "def director_meta_data(movie_id):\n",
        "  tmdb.API_KEY = 'b4f4e5073f49c9bba30dd68659314a41'\n",
        "  movie = tmdb.Movies(movie_id)\n",
        "\n",
        "  # Get movie credits\n",
        "  credits = movie.credits()\n",
        "\n",
        "  # Extract director name and their TMDb ID\n",
        "  director_name = credits['crew'][0]['name']\n",
        "  director_id = credits['crew'][0]['id']\n",
        "\n",
        "  # Get director details (including profile image path)\n",
        "  director_details = tmdb.People(director_id).info()  # Use People instead of Persons\n",
        "  director_profile_path = director_details['profile_path']\n",
        "\n",
        "  # Construct director's image URL\n",
        "  director_url = f\"https://image.tmdb.org/t/p/w500{director_profile_path}\"\n",
        "\n",
        "  return [director_name, director_url]\n",
        "\n",
        "\n",
        "\n",
        "def cast_meta_data(movie_id):\n",
        "  tmdb.API_KEY = 'b4f4e5073f49c9bba30dd68659314a41'  # Replace with your actual API key\n",
        "\n",
        "  movie = tmdb.Movies(movie_id)\n",
        "\n",
        "  # Get movie credits\n",
        "  credits = movie.credits()\n",
        "\n",
        "  # Get top 5 cast members with images\n",
        "  cast = credits['cast'][:5]  # Get the first 5 cast members\n",
        "  top_cast = []\n",
        "  for person in cast:\n",
        "      profile_path = person['profile_path']  # Get profile image path\n",
        "      profile_url = f\"https://image.tmdb.org/t/p/w500{profile_path}\"  # Construct full URL\n",
        "      top_cast.append({\n",
        "          'name': person['name'],\n",
        "          'character': person['character'],\n",
        "          'profile_url': profile_url\n",
        "      })\n",
        "  return top_cast\n"
      ]
    },
    {
      "cell_type": "code",
      "execution_count": null,
      "metadata": {
        "colab": {
          "base_uri": "https://localhost:8080/"
        },
        "id": "sG2HwWLV1dAG",
        "outputId": "fbc8eda5-6079-4f94-ed0e-438cbcac9d1f"
      },
      "outputs": [
        {
          "data": {
            "text/plain": [
              "['Interceptor',\n",
              " 'A U.S. Army Captain uses her years of tactical training to save humanity from sixteen nuclear missiles launched at the U.S. as a violent attack threatens her remote missile interceptor station.',\n",
              " 'https://image.tmdb.org/t/p/w500/cpWUtkcgRKeauhTyVMjYHxAutp4.jpg',\n",
              " 'https://www.youtube.com/watch?v=4_fNeiD0Uwk',\n",
              " 'Action, Thriller, Adventure']"
            ]
          },
          "execution_count": 148,
          "metadata": {},
          "output_type": "execute_result"
        }
      ],
      "source": [
        "movie_meta_data('tt14174940')"
      ]
    },
    {
      "cell_type": "code",
      "execution_count": null,
      "metadata": {
        "colab": {
          "base_uri": "https://localhost:8080/"
        },
        "id": "QCfgacdcZs0C",
        "outputId": "ca7aea3c-e9ec-4830-e701-db81b70f546d"
      },
      "outputs": [
        {
          "output_type": "stream",
          "name": "stdout",
          "text": [
            "Requirement already satisfied: kaggle in /usr/local/lib/python3.10/dist-packages (1.5.16)\n",
            "Requirement already satisfied: six>=1.10 in /usr/local/lib/python3.10/dist-packages (from kaggle) (1.16.0)\n",
            "Requirement already satisfied: certifi in /usr/local/lib/python3.10/dist-packages (from kaggle) (2023.11.17)\n",
            "Requirement already satisfied: python-dateutil in /usr/local/lib/python3.10/dist-packages (from kaggle) (2.8.2)\n",
            "Requirement already satisfied: requests in /usr/local/lib/python3.10/dist-packages (from kaggle) (2.31.0)\n",
            "Requirement already satisfied: tqdm in /usr/local/lib/python3.10/dist-packages (from kaggle) (4.66.1)\n",
            "Requirement already satisfied: python-slugify in /usr/local/lib/python3.10/dist-packages (from kaggle) (8.0.1)\n",
            "Requirement already satisfied: urllib3 in /usr/local/lib/python3.10/dist-packages (from kaggle) (2.0.7)\n",
            "Requirement already satisfied: bleach in /usr/local/lib/python3.10/dist-packages (from kaggle) (6.1.0)\n",
            "Requirement already satisfied: webencodings in /usr/local/lib/python3.10/dist-packages (from bleach->kaggle) (0.5.1)\n",
            "Requirement already satisfied: text-unidecode>=1.3 in /usr/local/lib/python3.10/dist-packages (from python-slugify->kaggle) (1.3)\n",
            "Requirement already satisfied: charset-normalizer<4,>=2 in /usr/local/lib/python3.10/dist-packages (from requests->kaggle) (3.3.2)\n",
            "Requirement already satisfied: idna<4,>=2.5 in /usr/local/lib/python3.10/dist-packages (from requests->kaggle) (3.6)\n"
          ]
        }
      ],
      "source": [
        "! pip install kaggle"
      ]
    },
    {
      "cell_type": "code",
      "execution_count": null,
      "metadata": {
        "id": "k_DhxkmbbRNk"
      },
      "outputs": [],
      "source": [
        "import os\n",
        "\n",
        "# Move the uploaded API key to the correct directory\n",
        "os.makedirs(\"/root/.kaggle\", exist_ok=True)\n",
        "os.rename(\"kaggle.json\", \"/root/.kaggle/kaggle.json\")\n",
        "\n",
        "# Set file permissions for the API key\n",
        "os.chmod(\"/root/.kaggle/kaggle.json\",600)"
      ]
    },
    {
      "cell_type": "code",
      "execution_count": null,
      "metadata": {
        "colab": {
          "base_uri": "https://localhost:8080/"
        },
        "id": "crsA6q2Ybvp9",
        "outputId": "75b4c74d-afb8-41f5-b67c-21f50c332ba8"
      },
      "outputs": [
        {
          "output_type": "stream",
          "name": "stdout",
          "text": [
            "Downloading anime-recommendation-database-2020.zip to /content\n",
            " 99% 657M/661M [00:25<00:00, 32.2MB/s]\n",
            "100% 661M/661M [00:25<00:00, 27.5MB/s]\n"
          ]
        }
      ],
      "source": [
        "!kaggle datasets download -d  hernan4444/anime-recommendation-database-2020"
      ]
    },
    {
      "cell_type": "code",
      "source": [
        "!unzip /content/anime-recommendation-database-2020.zip"
      ],
      "metadata": {
        "colab": {
          "base_uri": "https://localhost:8080/"
        },
        "id": "wgr3Amir3qS9",
        "outputId": "fbdd5aa8-05e2-4381-8272-49ba5e1f3804"
      },
      "execution_count": null,
      "outputs": [
        {
          "output_type": "stream",
          "name": "stdout",
          "text": [
            "Archive:  /content/anime-recommendation-database-2020.zip\n",
            "  inflating: anime.csv               \n",
            "  inflating: anime_with_synopsis.csv  \n",
            "  inflating: animelist.csv           \n",
            "  inflating: html folder/html/1/details.html  \n",
            "  inflating: html folder/html/1/pictures.html  \n",
            "  inflating: html folder/html/1/recomendations.html  \n",
            "  inflating: html folder/html/1/reviews_1.html  \n",
            "  inflating: html folder/html/1/reviews_10.html  \n",
            "  inflating: html folder/html/1/reviews_11.html  \n",
            "  inflating: html folder/html/1/reviews_12.html  \n",
            "  inflating: html folder/html/1/reviews_13.html  \n",
            "  inflating: html folder/html/1/reviews_14.html  \n",
            "  inflating: html folder/html/1/reviews_15.html  \n",
            "  inflating: html folder/html/1/reviews_16.html  \n",
            "  inflating: html folder/html/1/reviews_17.html  \n",
            "  inflating: html folder/html/1/reviews_18.html  \n",
            "  inflating: html folder/html/1/reviews_19.html  \n",
            "  inflating: html folder/html/1/reviews_2.html  \n",
            "  inflating: html folder/html/1/reviews_20.html  \n",
            "  inflating: html folder/html/1/reviews_21.html  \n",
            "  inflating: html folder/html/1/reviews_22.html  \n",
            "  inflating: html folder/html/1/reviews_3.html  \n",
            "  inflating: html folder/html/1/reviews_4.html  \n",
            "  inflating: html folder/html/1/reviews_5.html  \n",
            "  inflating: html folder/html/1/reviews_6.html  \n",
            "  inflating: html folder/html/1/reviews_7.html  \n",
            "  inflating: html folder/html/1/reviews_8.html  \n",
            "  inflating: html folder/html/1/reviews_9.html  \n",
            "  inflating: html folder/html/1/staff.html  \n",
            "  inflating: html folder/html/1/stats.html  \n",
            "  inflating: html folder/html/5/details.html  \n",
            "  inflating: html folder/html/5/pictures.html  \n",
            "  inflating: html folder/html/5/recomendations.html  \n",
            "  inflating: html folder/html/5/reviews_1.html  \n",
            "  inflating: html folder/html/5/reviews_2.html  \n",
            "  inflating: html folder/html/5/reviews_3.html  \n",
            "  inflating: html folder/html/5/staff.html  \n",
            "  inflating: html folder/html/5/stats.html  \n",
            "  inflating: html folder/instructions.txt  \n",
            "  inflating: rating_complete.csv     \n",
            "  inflating: watching_status.csv     \n"
          ]
        }
      ]
    },
    {
      "cell_type": "code",
      "execution_count": 11,
      "metadata": {
        "id": "br7Smj4kj8RX"
      },
      "outputs": [],
      "source": [
        "# importing dataset\n",
        "import pandas as pd\n",
        "import numpy as np\n",
        "import matplotlib.pyplot as plt\n",
        "import seaborn as sns"
      ]
    },
    {
      "cell_type": "code",
      "execution_count": 68,
      "metadata": {
        "id": "04ebZAXHocoK"
      },
      "outputs": [],
      "source": [
        "df=pd.read_csv('/content/anime-dataset-2023.csv')"
      ]
    },
    {
      "cell_type": "code",
      "source": [
        "df = df[['Name','English name','Score','Genres','Synopsis','Image URL']]"
      ],
      "metadata": {
        "id": "Qi2AFCMA4pZ3"
      },
      "execution_count": 69,
      "outputs": []
    },
    {
      "cell_type": "code",
      "execution_count": 70,
      "metadata": {
        "colab": {
          "base_uri": "https://localhost:8080/",
          "height": 400
        },
        "id": "Vl2RGrZbr6S-",
        "outputId": "7d98599e-7613-4c53-f5dd-acd3b95cbfa9"
      },
      "outputs": [
        {
          "output_type": "execute_result",
          "data": {
            "text/plain": [
              "                              Name             English name Score  \\\n",
              "0                     Cowboy Bebop             Cowboy Bebop  8.75   \n",
              "1  Cowboy Bebop: Tengoku no Tobira  Cowboy Bebop: The Movie  8.38   \n",
              "2                           Trigun                   Trigun  8.22   \n",
              "3               Witch Hunter Robin       Witch Hunter Robin  7.25   \n",
              "\n",
              "                                 Genres  \\\n",
              "0         Action, Award Winning, Sci-Fi   \n",
              "1                        Action, Sci-Fi   \n",
              "2             Action, Adventure, Sci-Fi   \n",
              "3  Action, Drama, Mystery, Supernatural   \n",
              "\n",
              "                                            Synopsis  \\\n",
              "0  Crime is timeless. By the year 2071, humanity ...   \n",
              "1  Another day, another bounty—such is the life o...   \n",
              "2  Vash the Stampede is the man with a $$60,000,0...   \n",
              "3  Robin Sena is a powerful craft user drafted in...   \n",
              "\n",
              "                                           Image URL  \n",
              "0  https://cdn.myanimelist.net/images/anime/4/196...  \n",
              "1  https://cdn.myanimelist.net/images/anime/1439/...  \n",
              "2  https://cdn.myanimelist.net/images/anime/7/203...  \n",
              "3  https://cdn.myanimelist.net/images/anime/10/19...  "
            ],
            "text/html": [
              "\n",
              "  <div id=\"df-beaefbb4-2628-49fa-a260-154afb7f1a5e\" class=\"colab-df-container\">\n",
              "    <div>\n",
              "<style scoped>\n",
              "    .dataframe tbody tr th:only-of-type {\n",
              "        vertical-align: middle;\n",
              "    }\n",
              "\n",
              "    .dataframe tbody tr th {\n",
              "        vertical-align: top;\n",
              "    }\n",
              "\n",
              "    .dataframe thead th {\n",
              "        text-align: right;\n",
              "    }\n",
              "</style>\n",
              "<table border=\"1\" class=\"dataframe\">\n",
              "  <thead>\n",
              "    <tr style=\"text-align: right;\">\n",
              "      <th></th>\n",
              "      <th>Name</th>\n",
              "      <th>English name</th>\n",
              "      <th>Score</th>\n",
              "      <th>Genres</th>\n",
              "      <th>Synopsis</th>\n",
              "      <th>Image URL</th>\n",
              "    </tr>\n",
              "  </thead>\n",
              "  <tbody>\n",
              "    <tr>\n",
              "      <th>0</th>\n",
              "      <td>Cowboy Bebop</td>\n",
              "      <td>Cowboy Bebop</td>\n",
              "      <td>8.75</td>\n",
              "      <td>Action, Award Winning, Sci-Fi</td>\n",
              "      <td>Crime is timeless. By the year 2071, humanity ...</td>\n",
              "      <td>https://cdn.myanimelist.net/images/anime/4/196...</td>\n",
              "    </tr>\n",
              "    <tr>\n",
              "      <th>1</th>\n",
              "      <td>Cowboy Bebop: Tengoku no Tobira</td>\n",
              "      <td>Cowboy Bebop: The Movie</td>\n",
              "      <td>8.38</td>\n",
              "      <td>Action, Sci-Fi</td>\n",
              "      <td>Another day, another bounty—such is the life o...</td>\n",
              "      <td>https://cdn.myanimelist.net/images/anime/1439/...</td>\n",
              "    </tr>\n",
              "    <tr>\n",
              "      <th>2</th>\n",
              "      <td>Trigun</td>\n",
              "      <td>Trigun</td>\n",
              "      <td>8.22</td>\n",
              "      <td>Action, Adventure, Sci-Fi</td>\n",
              "      <td>Vash the Stampede is the man with a $$60,000,0...</td>\n",
              "      <td>https://cdn.myanimelist.net/images/anime/7/203...</td>\n",
              "    </tr>\n",
              "    <tr>\n",
              "      <th>3</th>\n",
              "      <td>Witch Hunter Robin</td>\n",
              "      <td>Witch Hunter Robin</td>\n",
              "      <td>7.25</td>\n",
              "      <td>Action, Drama, Mystery, Supernatural</td>\n",
              "      <td>Robin Sena is a powerful craft user drafted in...</td>\n",
              "      <td>https://cdn.myanimelist.net/images/anime/10/19...</td>\n",
              "    </tr>\n",
              "  </tbody>\n",
              "</table>\n",
              "</div>\n",
              "    <div class=\"colab-df-buttons\">\n",
              "\n",
              "  <div class=\"colab-df-container\">\n",
              "    <button class=\"colab-df-convert\" onclick=\"convertToInteractive('df-beaefbb4-2628-49fa-a260-154afb7f1a5e')\"\n",
              "            title=\"Convert this dataframe to an interactive table.\"\n",
              "            style=\"display:none;\">\n",
              "\n",
              "  <svg xmlns=\"http://www.w3.org/2000/svg\" height=\"24px\" viewBox=\"0 -960 960 960\">\n",
              "    <path d=\"M120-120v-720h720v720H120Zm60-500h600v-160H180v160Zm220 220h160v-160H400v160Zm0 220h160v-160H400v160ZM180-400h160v-160H180v160Zm440 0h160v-160H620v160ZM180-180h160v-160H180v160Zm440 0h160v-160H620v160Z\"/>\n",
              "  </svg>\n",
              "    </button>\n",
              "\n",
              "  <style>\n",
              "    .colab-df-container {\n",
              "      display:flex;\n",
              "      gap: 12px;\n",
              "    }\n",
              "\n",
              "    .colab-df-convert {\n",
              "      background-color: #E8F0FE;\n",
              "      border: none;\n",
              "      border-radius: 50%;\n",
              "      cursor: pointer;\n",
              "      display: none;\n",
              "      fill: #1967D2;\n",
              "      height: 32px;\n",
              "      padding: 0 0 0 0;\n",
              "      width: 32px;\n",
              "    }\n",
              "\n",
              "    .colab-df-convert:hover {\n",
              "      background-color: #E2EBFA;\n",
              "      box-shadow: 0px 1px 2px rgba(60, 64, 67, 0.3), 0px 1px 3px 1px rgba(60, 64, 67, 0.15);\n",
              "      fill: #174EA6;\n",
              "    }\n",
              "\n",
              "    .colab-df-buttons div {\n",
              "      margin-bottom: 4px;\n",
              "    }\n",
              "\n",
              "    [theme=dark] .colab-df-convert {\n",
              "      background-color: #3B4455;\n",
              "      fill: #D2E3FC;\n",
              "    }\n",
              "\n",
              "    [theme=dark] .colab-df-convert:hover {\n",
              "      background-color: #434B5C;\n",
              "      box-shadow: 0px 1px 3px 1px rgba(0, 0, 0, 0.15);\n",
              "      filter: drop-shadow(0px 1px 2px rgba(0, 0, 0, 0.3));\n",
              "      fill: #FFFFFF;\n",
              "    }\n",
              "  </style>\n",
              "\n",
              "    <script>\n",
              "      const buttonEl =\n",
              "        document.querySelector('#df-beaefbb4-2628-49fa-a260-154afb7f1a5e button.colab-df-convert');\n",
              "      buttonEl.style.display =\n",
              "        google.colab.kernel.accessAllowed ? 'block' : 'none';\n",
              "\n",
              "      async function convertToInteractive(key) {\n",
              "        const element = document.querySelector('#df-beaefbb4-2628-49fa-a260-154afb7f1a5e');\n",
              "        const dataTable =\n",
              "          await google.colab.kernel.invokeFunction('convertToInteractive',\n",
              "                                                    [key], {});\n",
              "        if (!dataTable) return;\n",
              "\n",
              "        const docLinkHtml = 'Like what you see? Visit the ' +\n",
              "          '<a target=\"_blank\" href=https://colab.research.google.com/notebooks/data_table.ipynb>data table notebook</a>'\n",
              "          + ' to learn more about interactive tables.';\n",
              "        element.innerHTML = '';\n",
              "        dataTable['output_type'] = 'display_data';\n",
              "        await google.colab.output.renderOutput(dataTable, element);\n",
              "        const docLink = document.createElement('div');\n",
              "        docLink.innerHTML = docLinkHtml;\n",
              "        element.appendChild(docLink);\n",
              "      }\n",
              "    </script>\n",
              "  </div>\n",
              "\n",
              "\n",
              "<div id=\"df-54a5eb30-f985-4a09-8507-bfcbaa1eb75e\">\n",
              "  <button class=\"colab-df-quickchart\" onclick=\"quickchart('df-54a5eb30-f985-4a09-8507-bfcbaa1eb75e')\"\n",
              "            title=\"Suggest charts\"\n",
              "            style=\"display:none;\">\n",
              "\n",
              "<svg xmlns=\"http://www.w3.org/2000/svg\" height=\"24px\"viewBox=\"0 0 24 24\"\n",
              "     width=\"24px\">\n",
              "    <g>\n",
              "        <path d=\"M19 3H5c-1.1 0-2 .9-2 2v14c0 1.1.9 2 2 2h14c1.1 0 2-.9 2-2V5c0-1.1-.9-2-2-2zM9 17H7v-7h2v7zm4 0h-2V7h2v10zm4 0h-2v-4h2v4z\"/>\n",
              "    </g>\n",
              "</svg>\n",
              "  </button>\n",
              "\n",
              "<style>\n",
              "  .colab-df-quickchart {\n",
              "      --bg-color: #E8F0FE;\n",
              "      --fill-color: #1967D2;\n",
              "      --hover-bg-color: #E2EBFA;\n",
              "      --hover-fill-color: #174EA6;\n",
              "      --disabled-fill-color: #AAA;\n",
              "      --disabled-bg-color: #DDD;\n",
              "  }\n",
              "\n",
              "  [theme=dark] .colab-df-quickchart {\n",
              "      --bg-color: #3B4455;\n",
              "      --fill-color: #D2E3FC;\n",
              "      --hover-bg-color: #434B5C;\n",
              "      --hover-fill-color: #FFFFFF;\n",
              "      --disabled-bg-color: #3B4455;\n",
              "      --disabled-fill-color: #666;\n",
              "  }\n",
              "\n",
              "  .colab-df-quickchart {\n",
              "    background-color: var(--bg-color);\n",
              "    border: none;\n",
              "    border-radius: 50%;\n",
              "    cursor: pointer;\n",
              "    display: none;\n",
              "    fill: var(--fill-color);\n",
              "    height: 32px;\n",
              "    padding: 0;\n",
              "    width: 32px;\n",
              "  }\n",
              "\n",
              "  .colab-df-quickchart:hover {\n",
              "    background-color: var(--hover-bg-color);\n",
              "    box-shadow: 0 1px 2px rgba(60, 64, 67, 0.3), 0 1px 3px 1px rgba(60, 64, 67, 0.15);\n",
              "    fill: var(--button-hover-fill-color);\n",
              "  }\n",
              "\n",
              "  .colab-df-quickchart-complete:disabled,\n",
              "  .colab-df-quickchart-complete:disabled:hover {\n",
              "    background-color: var(--disabled-bg-color);\n",
              "    fill: var(--disabled-fill-color);\n",
              "    box-shadow: none;\n",
              "  }\n",
              "\n",
              "  .colab-df-spinner {\n",
              "    border: 2px solid var(--fill-color);\n",
              "    border-color: transparent;\n",
              "    border-bottom-color: var(--fill-color);\n",
              "    animation:\n",
              "      spin 1s steps(1) infinite;\n",
              "  }\n",
              "\n",
              "  @keyframes spin {\n",
              "    0% {\n",
              "      border-color: transparent;\n",
              "      border-bottom-color: var(--fill-color);\n",
              "      border-left-color: var(--fill-color);\n",
              "    }\n",
              "    20% {\n",
              "      border-color: transparent;\n",
              "      border-left-color: var(--fill-color);\n",
              "      border-top-color: var(--fill-color);\n",
              "    }\n",
              "    30% {\n",
              "      border-color: transparent;\n",
              "      border-left-color: var(--fill-color);\n",
              "      border-top-color: var(--fill-color);\n",
              "      border-right-color: var(--fill-color);\n",
              "    }\n",
              "    40% {\n",
              "      border-color: transparent;\n",
              "      border-right-color: var(--fill-color);\n",
              "      border-top-color: var(--fill-color);\n",
              "    }\n",
              "    60% {\n",
              "      border-color: transparent;\n",
              "      border-right-color: var(--fill-color);\n",
              "    }\n",
              "    80% {\n",
              "      border-color: transparent;\n",
              "      border-right-color: var(--fill-color);\n",
              "      border-bottom-color: var(--fill-color);\n",
              "    }\n",
              "    90% {\n",
              "      border-color: transparent;\n",
              "      border-bottom-color: var(--fill-color);\n",
              "    }\n",
              "  }\n",
              "</style>\n",
              "\n",
              "  <script>\n",
              "    async function quickchart(key) {\n",
              "      const quickchartButtonEl =\n",
              "        document.querySelector('#' + key + ' button');\n",
              "      quickchartButtonEl.disabled = true;  // To prevent multiple clicks.\n",
              "      quickchartButtonEl.classList.add('colab-df-spinner');\n",
              "      try {\n",
              "        const charts = await google.colab.kernel.invokeFunction(\n",
              "            'suggestCharts', [key], {});\n",
              "      } catch (error) {\n",
              "        console.error('Error during call to suggestCharts:', error);\n",
              "      }\n",
              "      quickchartButtonEl.classList.remove('colab-df-spinner');\n",
              "      quickchartButtonEl.classList.add('colab-df-quickchart-complete');\n",
              "    }\n",
              "    (() => {\n",
              "      let quickchartButtonEl =\n",
              "        document.querySelector('#df-54a5eb30-f985-4a09-8507-bfcbaa1eb75e button');\n",
              "      quickchartButtonEl.style.display =\n",
              "        google.colab.kernel.accessAllowed ? 'block' : 'none';\n",
              "    })();\n",
              "  </script>\n",
              "</div>\n",
              "\n",
              "    </div>\n",
              "  </div>\n"
            ]
          },
          "metadata": {},
          "execution_count": 70
        }
      ],
      "source": [
        "df.head(4)"
      ]
    },
    {
      "cell_type": "code",
      "execution_count": 71,
      "metadata": {
        "colab": {
          "base_uri": "https://localhost:8080/"
        },
        "id": "uUqiBjTgr9AV",
        "outputId": "f516ec84-d0c3-4cb3-e5ed-c91784561f13"
      },
      "outputs": [
        {
          "output_type": "stream",
          "name": "stdout",
          "text": [
            "<class 'pandas.core.frame.DataFrame'>\n",
            "RangeIndex: 24905 entries, 0 to 24904\n",
            "Data columns (total 6 columns):\n",
            " #   Column        Non-Null Count  Dtype \n",
            "---  ------        --------------  ----- \n",
            " 0   Name          24905 non-null  object\n",
            " 1   English name  24905 non-null  object\n",
            " 2   Score         24905 non-null  object\n",
            " 3   Genres        24905 non-null  object\n",
            " 4   Synopsis      24905 non-null  object\n",
            " 5   Image URL     24905 non-null  object\n",
            "dtypes: object(6)\n",
            "memory usage: 1.1+ MB\n"
          ]
        }
      ],
      "source": [
        "df.info()"
      ]
    },
    {
      "cell_type": "code",
      "execution_count": 72,
      "metadata": {
        "colab": {
          "base_uri": "https://localhost:8080/"
        },
        "id": "xOoePCkDss_j",
        "outputId": "10ca39bc-ae90-4511-9ef0-28f9d41b4cce"
      },
      "outputs": [
        {
          "output_type": "execute_result",
          "data": {
            "text/plain": [
              "Name            0\n",
              "English name    0\n",
              "Score           0\n",
              "Genres          0\n",
              "Synopsis        0\n",
              "Image URL       0\n",
              "dtype: int64"
            ]
          },
          "metadata": {},
          "execution_count": 72
        }
      ],
      "source": [
        "df.isnull().sum()"
      ]
    },
    {
      "cell_type": "code",
      "source": [
        "df.duplicated().sum()"
      ],
      "metadata": {
        "colab": {
          "base_uri": "https://localhost:8080/"
        },
        "id": "hLkOZjthBj1s",
        "outputId": "83b9c600-2c4c-463e-9c77-efa5f941de91"
      },
      "execution_count": 73,
      "outputs": [
        {
          "output_type": "execute_result",
          "data": {
            "text/plain": [
              "0"
            ]
          },
          "metadata": {},
          "execution_count": 73
        }
      ]
    },
    {
      "cell_type": "code",
      "source": [
        "index = df[df['Score']=='UNKNOWN'].index\n",
        "df.drop(index,axis=0,inplace=True)"
      ],
      "metadata": {
        "id": "AyR3MnBoAYJ9"
      },
      "execution_count": 74,
      "outputs": []
    },
    {
      "cell_type": "code",
      "source": [
        "index = df[df['English name']=='UNKNOWN'].index\n",
        "df.drop(index,axis=0,inplace=True)"
      ],
      "metadata": {
        "id": "vSZYfgW0G1vn"
      },
      "execution_count": 88,
      "outputs": []
    },
    {
      "cell_type": "code",
      "source": [
        "df.shape"
      ],
      "metadata": {
        "colab": {
          "base_uri": "https://localhost:8080/"
        },
        "id": "mIe1L-42BMkb",
        "outputId": "2e9d4e01-c208-436a-8cf5-500214c2a8dd"
      },
      "execution_count": 89,
      "outputs": [
        {
          "output_type": "execute_result",
          "data": {
            "text/plain": [
              "(8046, 6)"
            ]
          },
          "metadata": {},
          "execution_count": 89
        }
      ]
    },
    {
      "cell_type": "code",
      "source": [
        "df=df[['Name','Score','Synopsis','Image URL']]"
      ],
      "metadata": {
        "id": "4tA2TTTABMW7"
      },
      "execution_count": 91,
      "outputs": []
    },
    {
      "cell_type": "code",
      "source": [
        "df"
      ],
      "metadata": {
        "colab": {
          "base_uri": "https://localhost:8080/",
          "height": 666
        },
        "id": "KY_L3UzCBMUx",
        "outputId": "5daae0f5-83d1-4c73-cde5-0d4fa40905a6"
      },
      "execution_count": 92,
      "outputs": [
        {
          "output_type": "execute_result",
          "data": {
            "text/plain": [
              "                                                    Name Score  \\\n",
              "0                                           Cowboy Bebop  8.75   \n",
              "1                        Cowboy Bebop: Tengoku no Tobira  8.38   \n",
              "2                                                 Trigun  8.22   \n",
              "3                                     Witch Hunter Robin  7.25   \n",
              "4                                         Bouken Ou Beet  6.94   \n",
              "...                                                  ...   ...   \n",
              "24579        Mashle: Mash Burnedead to Fushigi na Tegami  5.84   \n",
              "24590  Li Shi Zhentan Shiwusuo: A Day in Lungmen - Ho...  5.99   \n",
              "24635                                              Slash  6.45   \n",
              "24831  One Piece: Dai Gekisen Tokushuu! Hangeki Doume...  6.29   \n",
              "24856                                               Fins  6.45   \n",
              "\n",
              "                                                Synopsis  \\\n",
              "0      Crime is timeless. By the year 2071, humanity ...   \n",
              "1      Another day, another bounty—such is the life o...   \n",
              "2      Vash the Stampede is the man with a $$60,000,0...   \n",
              "3      Robin Sena is a powerful craft user drafted in...   \n",
              "4      It is the dark century and the people are suff...   \n",
              "...                                                  ...   \n",
              "24579         Recap of the first six episodes of Mashle.   \n",
              "24590  Infiltrating, disguising, and raiding. Tonight...   \n",
              "24635  Music video for the song Slash by yama.\\n\\nThe...   \n",
              "24831     This is the 8th recap special of the Wano arc.   \n",
              "24856  Music video for the song Fins by Tsunomaki Wat...   \n",
              "\n",
              "                                               Image URL  \n",
              "0      https://cdn.myanimelist.net/images/anime/4/196...  \n",
              "1      https://cdn.myanimelist.net/images/anime/1439/...  \n",
              "2      https://cdn.myanimelist.net/images/anime/7/203...  \n",
              "3      https://cdn.myanimelist.net/images/anime/10/19...  \n",
              "4      https://cdn.myanimelist.net/images/anime/7/215...  \n",
              "...                                                  ...  \n",
              "24579  https://cdn.myanimelist.net/images/anime/1097/...  \n",
              "24590  https://cdn.myanimelist.net/images/anime/1865/...  \n",
              "24635  https://cdn.myanimelist.net/images/anime/1290/...  \n",
              "24831  https://cdn.myanimelist.net/images/anime/1981/...  \n",
              "24856  https://cdn.myanimelist.net/images/anime/1747/...  \n",
              "\n",
              "[8046 rows x 4 columns]"
            ],
            "text/html": [
              "\n",
              "  <div id=\"df-0d88c0be-d484-4cfe-928c-ea67afae134e\" class=\"colab-df-container\">\n",
              "    <div>\n",
              "<style scoped>\n",
              "    .dataframe tbody tr th:only-of-type {\n",
              "        vertical-align: middle;\n",
              "    }\n",
              "\n",
              "    .dataframe tbody tr th {\n",
              "        vertical-align: top;\n",
              "    }\n",
              "\n",
              "    .dataframe thead th {\n",
              "        text-align: right;\n",
              "    }\n",
              "</style>\n",
              "<table border=\"1\" class=\"dataframe\">\n",
              "  <thead>\n",
              "    <tr style=\"text-align: right;\">\n",
              "      <th></th>\n",
              "      <th>Name</th>\n",
              "      <th>Score</th>\n",
              "      <th>Synopsis</th>\n",
              "      <th>Image URL</th>\n",
              "    </tr>\n",
              "  </thead>\n",
              "  <tbody>\n",
              "    <tr>\n",
              "      <th>0</th>\n",
              "      <td>Cowboy Bebop</td>\n",
              "      <td>8.75</td>\n",
              "      <td>Crime is timeless. By the year 2071, humanity ...</td>\n",
              "      <td>https://cdn.myanimelist.net/images/anime/4/196...</td>\n",
              "    </tr>\n",
              "    <tr>\n",
              "      <th>1</th>\n",
              "      <td>Cowboy Bebop: Tengoku no Tobira</td>\n",
              "      <td>8.38</td>\n",
              "      <td>Another day, another bounty—such is the life o...</td>\n",
              "      <td>https://cdn.myanimelist.net/images/anime/1439/...</td>\n",
              "    </tr>\n",
              "    <tr>\n",
              "      <th>2</th>\n",
              "      <td>Trigun</td>\n",
              "      <td>8.22</td>\n",
              "      <td>Vash the Stampede is the man with a $$60,000,0...</td>\n",
              "      <td>https://cdn.myanimelist.net/images/anime/7/203...</td>\n",
              "    </tr>\n",
              "    <tr>\n",
              "      <th>3</th>\n",
              "      <td>Witch Hunter Robin</td>\n",
              "      <td>7.25</td>\n",
              "      <td>Robin Sena is a powerful craft user drafted in...</td>\n",
              "      <td>https://cdn.myanimelist.net/images/anime/10/19...</td>\n",
              "    </tr>\n",
              "    <tr>\n",
              "      <th>4</th>\n",
              "      <td>Bouken Ou Beet</td>\n",
              "      <td>6.94</td>\n",
              "      <td>It is the dark century and the people are suff...</td>\n",
              "      <td>https://cdn.myanimelist.net/images/anime/7/215...</td>\n",
              "    </tr>\n",
              "    <tr>\n",
              "      <th>...</th>\n",
              "      <td>...</td>\n",
              "      <td>...</td>\n",
              "      <td>...</td>\n",
              "      <td>...</td>\n",
              "    </tr>\n",
              "    <tr>\n",
              "      <th>24579</th>\n",
              "      <td>Mashle: Mash Burnedead to Fushigi na Tegami</td>\n",
              "      <td>5.84</td>\n",
              "      <td>Recap of the first six episodes of Mashle.</td>\n",
              "      <td>https://cdn.myanimelist.net/images/anime/1097/...</td>\n",
              "    </tr>\n",
              "    <tr>\n",
              "      <th>24590</th>\n",
              "      <td>Li Shi Zhentan Shiwusuo: A Day in Lungmen - Ho...</td>\n",
              "      <td>5.99</td>\n",
              "      <td>Infiltrating, disguising, and raiding. Tonight...</td>\n",
              "      <td>https://cdn.myanimelist.net/images/anime/1865/...</td>\n",
              "    </tr>\n",
              "    <tr>\n",
              "      <th>24635</th>\n",
              "      <td>Slash</td>\n",
              "      <td>6.45</td>\n",
              "      <td>Music video for the song Slash by yama.\\n\\nThe...</td>\n",
              "      <td>https://cdn.myanimelist.net/images/anime/1290/...</td>\n",
              "    </tr>\n",
              "    <tr>\n",
              "      <th>24831</th>\n",
              "      <td>One Piece: Dai Gekisen Tokushuu! Hangeki Doume...</td>\n",
              "      <td>6.29</td>\n",
              "      <td>This is the 8th recap special of the Wano arc.</td>\n",
              "      <td>https://cdn.myanimelist.net/images/anime/1981/...</td>\n",
              "    </tr>\n",
              "    <tr>\n",
              "      <th>24856</th>\n",
              "      <td>Fins</td>\n",
              "      <td>6.45</td>\n",
              "      <td>Music video for the song Fins by Tsunomaki Wat...</td>\n",
              "      <td>https://cdn.myanimelist.net/images/anime/1747/...</td>\n",
              "    </tr>\n",
              "  </tbody>\n",
              "</table>\n",
              "<p>8046 rows × 4 columns</p>\n",
              "</div>\n",
              "    <div class=\"colab-df-buttons\">\n",
              "\n",
              "  <div class=\"colab-df-container\">\n",
              "    <button class=\"colab-df-convert\" onclick=\"convertToInteractive('df-0d88c0be-d484-4cfe-928c-ea67afae134e')\"\n",
              "            title=\"Convert this dataframe to an interactive table.\"\n",
              "            style=\"display:none;\">\n",
              "\n",
              "  <svg xmlns=\"http://www.w3.org/2000/svg\" height=\"24px\" viewBox=\"0 -960 960 960\">\n",
              "    <path d=\"M120-120v-720h720v720H120Zm60-500h600v-160H180v160Zm220 220h160v-160H400v160Zm0 220h160v-160H400v160ZM180-400h160v-160H180v160Zm440 0h160v-160H620v160ZM180-180h160v-160H180v160Zm440 0h160v-160H620v160Z\"/>\n",
              "  </svg>\n",
              "    </button>\n",
              "\n",
              "  <style>\n",
              "    .colab-df-container {\n",
              "      display:flex;\n",
              "      gap: 12px;\n",
              "    }\n",
              "\n",
              "    .colab-df-convert {\n",
              "      background-color: #E8F0FE;\n",
              "      border: none;\n",
              "      border-radius: 50%;\n",
              "      cursor: pointer;\n",
              "      display: none;\n",
              "      fill: #1967D2;\n",
              "      height: 32px;\n",
              "      padding: 0 0 0 0;\n",
              "      width: 32px;\n",
              "    }\n",
              "\n",
              "    .colab-df-convert:hover {\n",
              "      background-color: #E2EBFA;\n",
              "      box-shadow: 0px 1px 2px rgba(60, 64, 67, 0.3), 0px 1px 3px 1px rgba(60, 64, 67, 0.15);\n",
              "      fill: #174EA6;\n",
              "    }\n",
              "\n",
              "    .colab-df-buttons div {\n",
              "      margin-bottom: 4px;\n",
              "    }\n",
              "\n",
              "    [theme=dark] .colab-df-convert {\n",
              "      background-color: #3B4455;\n",
              "      fill: #D2E3FC;\n",
              "    }\n",
              "\n",
              "    [theme=dark] .colab-df-convert:hover {\n",
              "      background-color: #434B5C;\n",
              "      box-shadow: 0px 1px 3px 1px rgba(0, 0, 0, 0.15);\n",
              "      filter: drop-shadow(0px 1px 2px rgba(0, 0, 0, 0.3));\n",
              "      fill: #FFFFFF;\n",
              "    }\n",
              "  </style>\n",
              "\n",
              "    <script>\n",
              "      const buttonEl =\n",
              "        document.querySelector('#df-0d88c0be-d484-4cfe-928c-ea67afae134e button.colab-df-convert');\n",
              "      buttonEl.style.display =\n",
              "        google.colab.kernel.accessAllowed ? 'block' : 'none';\n",
              "\n",
              "      async function convertToInteractive(key) {\n",
              "        const element = document.querySelector('#df-0d88c0be-d484-4cfe-928c-ea67afae134e');\n",
              "        const dataTable =\n",
              "          await google.colab.kernel.invokeFunction('convertToInteractive',\n",
              "                                                    [key], {});\n",
              "        if (!dataTable) return;\n",
              "\n",
              "        const docLinkHtml = 'Like what you see? Visit the ' +\n",
              "          '<a target=\"_blank\" href=https://colab.research.google.com/notebooks/data_table.ipynb>data table notebook</a>'\n",
              "          + ' to learn more about interactive tables.';\n",
              "        element.innerHTML = '';\n",
              "        dataTable['output_type'] = 'display_data';\n",
              "        await google.colab.output.renderOutput(dataTable, element);\n",
              "        const docLink = document.createElement('div');\n",
              "        docLink.innerHTML = docLinkHtml;\n",
              "        element.appendChild(docLink);\n",
              "      }\n",
              "    </script>\n",
              "  </div>\n",
              "\n",
              "\n",
              "<div id=\"df-e4fadb9a-6cef-44f6-a381-f438ecdd49cc\">\n",
              "  <button class=\"colab-df-quickchart\" onclick=\"quickchart('df-e4fadb9a-6cef-44f6-a381-f438ecdd49cc')\"\n",
              "            title=\"Suggest charts\"\n",
              "            style=\"display:none;\">\n",
              "\n",
              "<svg xmlns=\"http://www.w3.org/2000/svg\" height=\"24px\"viewBox=\"0 0 24 24\"\n",
              "     width=\"24px\">\n",
              "    <g>\n",
              "        <path d=\"M19 3H5c-1.1 0-2 .9-2 2v14c0 1.1.9 2 2 2h14c1.1 0 2-.9 2-2V5c0-1.1-.9-2-2-2zM9 17H7v-7h2v7zm4 0h-2V7h2v10zm4 0h-2v-4h2v4z\"/>\n",
              "    </g>\n",
              "</svg>\n",
              "  </button>\n",
              "\n",
              "<style>\n",
              "  .colab-df-quickchart {\n",
              "      --bg-color: #E8F0FE;\n",
              "      --fill-color: #1967D2;\n",
              "      --hover-bg-color: #E2EBFA;\n",
              "      --hover-fill-color: #174EA6;\n",
              "      --disabled-fill-color: #AAA;\n",
              "      --disabled-bg-color: #DDD;\n",
              "  }\n",
              "\n",
              "  [theme=dark] .colab-df-quickchart {\n",
              "      --bg-color: #3B4455;\n",
              "      --fill-color: #D2E3FC;\n",
              "      --hover-bg-color: #434B5C;\n",
              "      --hover-fill-color: #FFFFFF;\n",
              "      --disabled-bg-color: #3B4455;\n",
              "      --disabled-fill-color: #666;\n",
              "  }\n",
              "\n",
              "  .colab-df-quickchart {\n",
              "    background-color: var(--bg-color);\n",
              "    border: none;\n",
              "    border-radius: 50%;\n",
              "    cursor: pointer;\n",
              "    display: none;\n",
              "    fill: var(--fill-color);\n",
              "    height: 32px;\n",
              "    padding: 0;\n",
              "    width: 32px;\n",
              "  }\n",
              "\n",
              "  .colab-df-quickchart:hover {\n",
              "    background-color: var(--hover-bg-color);\n",
              "    box-shadow: 0 1px 2px rgba(60, 64, 67, 0.3), 0 1px 3px 1px rgba(60, 64, 67, 0.15);\n",
              "    fill: var(--button-hover-fill-color);\n",
              "  }\n",
              "\n",
              "  .colab-df-quickchart-complete:disabled,\n",
              "  .colab-df-quickchart-complete:disabled:hover {\n",
              "    background-color: var(--disabled-bg-color);\n",
              "    fill: var(--disabled-fill-color);\n",
              "    box-shadow: none;\n",
              "  }\n",
              "\n",
              "  .colab-df-spinner {\n",
              "    border: 2px solid var(--fill-color);\n",
              "    border-color: transparent;\n",
              "    border-bottom-color: var(--fill-color);\n",
              "    animation:\n",
              "      spin 1s steps(1) infinite;\n",
              "  }\n",
              "\n",
              "  @keyframes spin {\n",
              "    0% {\n",
              "      border-color: transparent;\n",
              "      border-bottom-color: var(--fill-color);\n",
              "      border-left-color: var(--fill-color);\n",
              "    }\n",
              "    20% {\n",
              "      border-color: transparent;\n",
              "      border-left-color: var(--fill-color);\n",
              "      border-top-color: var(--fill-color);\n",
              "    }\n",
              "    30% {\n",
              "      border-color: transparent;\n",
              "      border-left-color: var(--fill-color);\n",
              "      border-top-color: var(--fill-color);\n",
              "      border-right-color: var(--fill-color);\n",
              "    }\n",
              "    40% {\n",
              "      border-color: transparent;\n",
              "      border-right-color: var(--fill-color);\n",
              "      border-top-color: var(--fill-color);\n",
              "    }\n",
              "    60% {\n",
              "      border-color: transparent;\n",
              "      border-right-color: var(--fill-color);\n",
              "    }\n",
              "    80% {\n",
              "      border-color: transparent;\n",
              "      border-right-color: var(--fill-color);\n",
              "      border-bottom-color: var(--fill-color);\n",
              "    }\n",
              "    90% {\n",
              "      border-color: transparent;\n",
              "      border-bottom-color: var(--fill-color);\n",
              "    }\n",
              "  }\n",
              "</style>\n",
              "\n",
              "  <script>\n",
              "    async function quickchart(key) {\n",
              "      const quickchartButtonEl =\n",
              "        document.querySelector('#' + key + ' button');\n",
              "      quickchartButtonEl.disabled = true;  // To prevent multiple clicks.\n",
              "      quickchartButtonEl.classList.add('colab-df-spinner');\n",
              "      try {\n",
              "        const charts = await google.colab.kernel.invokeFunction(\n",
              "            'suggestCharts', [key], {});\n",
              "      } catch (error) {\n",
              "        console.error('Error during call to suggestCharts:', error);\n",
              "      }\n",
              "      quickchartButtonEl.classList.remove('colab-df-spinner');\n",
              "      quickchartButtonEl.classList.add('colab-df-quickchart-complete');\n",
              "    }\n",
              "    (() => {\n",
              "      let quickchartButtonEl =\n",
              "        document.querySelector('#df-e4fadb9a-6cef-44f6-a381-f438ecdd49cc button');\n",
              "      quickchartButtonEl.style.display =\n",
              "        google.colab.kernel.accessAllowed ? 'block' : 'none';\n",
              "    })();\n",
              "  </script>\n",
              "</div>\n",
              "\n",
              "  <div id=\"id_b657d171-42c6-406a-8adc-a198459da32a\">\n",
              "    <style>\n",
              "      .colab-df-generate {\n",
              "        background-color: #E8F0FE;\n",
              "        border: none;\n",
              "        border-radius: 50%;\n",
              "        cursor: pointer;\n",
              "        display: none;\n",
              "        fill: #1967D2;\n",
              "        height: 32px;\n",
              "        padding: 0 0 0 0;\n",
              "        width: 32px;\n",
              "      }\n",
              "\n",
              "      .colab-df-generate:hover {\n",
              "        background-color: #E2EBFA;\n",
              "        box-shadow: 0px 1px 2px rgba(60, 64, 67, 0.3), 0px 1px 3px 1px rgba(60, 64, 67, 0.15);\n",
              "        fill: #174EA6;\n",
              "      }\n",
              "\n",
              "      [theme=dark] .colab-df-generate {\n",
              "        background-color: #3B4455;\n",
              "        fill: #D2E3FC;\n",
              "      }\n",
              "\n",
              "      [theme=dark] .colab-df-generate:hover {\n",
              "        background-color: #434B5C;\n",
              "        box-shadow: 0px 1px 3px 1px rgba(0, 0, 0, 0.15);\n",
              "        filter: drop-shadow(0px 1px 2px rgba(0, 0, 0, 0.3));\n",
              "        fill: #FFFFFF;\n",
              "      }\n",
              "    </style>\n",
              "    <button class=\"colab-df-generate\" onclick=\"generateWithVariable('df')\"\n",
              "            title=\"Generate code using this dataframe.\"\n",
              "            style=\"display:none;\">\n",
              "\n",
              "  <svg xmlns=\"http://www.w3.org/2000/svg\" height=\"24px\"viewBox=\"0 0 24 24\"\n",
              "       width=\"24px\">\n",
              "    <path d=\"M7,19H8.4L18.45,9,17,7.55,7,17.6ZM5,21V16.75L18.45,3.32a2,2,0,0,1,2.83,0l1.4,1.43a1.91,1.91,0,0,1,.58,1.4,1.91,1.91,0,0,1-.58,1.4L9.25,21ZM18.45,9,17,7.55Zm-12,3A5.31,5.31,0,0,0,4.9,8.1,5.31,5.31,0,0,0,1,6.5,5.31,5.31,0,0,0,4.9,4.9,5.31,5.31,0,0,0,6.5,1,5.31,5.31,0,0,0,8.1,4.9,5.31,5.31,0,0,0,12,6.5,5.46,5.46,0,0,0,6.5,12Z\"/>\n",
              "  </svg>\n",
              "    </button>\n",
              "    <script>\n",
              "      (() => {\n",
              "      const buttonEl =\n",
              "        document.querySelector('#id_b657d171-42c6-406a-8adc-a198459da32a button.colab-df-generate');\n",
              "      buttonEl.style.display =\n",
              "        google.colab.kernel.accessAllowed ? 'block' : 'none';\n",
              "\n",
              "      buttonEl.onclick = () => {\n",
              "        google.colab.notebook.generateWithVariable('df');\n",
              "      }\n",
              "      })();\n",
              "    </script>\n",
              "  </div>\n",
              "\n",
              "    </div>\n",
              "  </div>\n"
            ]
          },
          "metadata": {},
          "execution_count": 92
        }
      ]
    },
    {
      "cell_type": "code",
      "execution_count": 104,
      "metadata": {
        "id": "OppEyLJrzEEo",
        "colab": {
          "base_uri": "https://localhost:8080/"
        },
        "outputId": "a4aa1cbd-61b9-4ac8-e3b4-162c72c385cd"
      },
      "outputs": [
        {
          "output_type": "stream",
          "name": "stderr",
          "text": [
            "<ipython-input-104-7d772a560968>:1: SettingWithCopyWarning: \n",
            "A value is trying to be set on a copy of a slice from a DataFrame\n",
            "\n",
            "See the caveats in the documentation: https://pandas.pydata.org/pandas-docs/stable/user_guide/indexing.html#returning-a-view-versus-a-copy\n",
            "  df.rename(columns={'Name':'Title', 'rating':'Rating',\"Image URL\":'Poster',\"Synopsis\":\"Summary\"},inplace=True)\n"
          ]
        }
      ],
      "source": [
        "df.rename(columns={'Name':'Title', 'Score':'Rating',\"Image URL\":'Poster',\"Synopsis\":\"Summary\"},inplace=True)"
      ]
    },
    {
      "cell_type": "code",
      "execution_count": 105,
      "metadata": {
        "colab": {
          "base_uri": "https://localhost:8080/",
          "height": 666
        },
        "id": "bjOZqZY9uGRU",
        "outputId": "f8dcf3bf-d5d4-4393-aed2-e3042b332a7c"
      },
      "outputs": [
        {
          "output_type": "execute_result",
          "data": {
            "text/plain": [
              "                                                   Title Rating  \\\n",
              "0                                           Cowboy Bebop   8.75   \n",
              "1                        Cowboy Bebop: Tengoku no Tobira   8.38   \n",
              "2                                                 Trigun   8.22   \n",
              "3                                     Witch Hunter Robin   7.25   \n",
              "4                                         Bouken Ou Beet   6.94   \n",
              "...                                                  ...    ...   \n",
              "24579        Mashle: Mash Burnedead to Fushigi na Tegami   5.84   \n",
              "24590  Li Shi Zhentan Shiwusuo: A Day in Lungmen - Ho...   5.99   \n",
              "24635                                              Slash   6.45   \n",
              "24831  One Piece: Dai Gekisen Tokushuu! Hangeki Doume...   6.29   \n",
              "24856                                               Fins   6.45   \n",
              "\n",
              "                                                 Summary  \\\n",
              "0      Crime is timeless. By the year 2071, humanity ...   \n",
              "1      Another day, another bounty—such is the life o...   \n",
              "2      Vash the Stampede is the man with a $$60,000,0...   \n",
              "3      Robin Sena is a powerful craft user drafted in...   \n",
              "4      It is the dark century and the people are suff...   \n",
              "...                                                  ...   \n",
              "24579         Recap of the first six episodes of Mashle.   \n",
              "24590  Infiltrating, disguising, and raiding. Tonight...   \n",
              "24635  Music video for the song Slash by yama.\\n\\nThe...   \n",
              "24831     This is the 8th recap special of the Wano arc.   \n",
              "24856  Music video for the song Fins by Tsunomaki Wat...   \n",
              "\n",
              "                                                  Poster  \n",
              "0      https://cdn.myanimelist.net/images/anime/4/196...  \n",
              "1      https://cdn.myanimelist.net/images/anime/1439/...  \n",
              "2      https://cdn.myanimelist.net/images/anime/7/203...  \n",
              "3      https://cdn.myanimelist.net/images/anime/10/19...  \n",
              "4      https://cdn.myanimelist.net/images/anime/7/215...  \n",
              "...                                                  ...  \n",
              "24579  https://cdn.myanimelist.net/images/anime/1097/...  \n",
              "24590  https://cdn.myanimelist.net/images/anime/1865/...  \n",
              "24635  https://cdn.myanimelist.net/images/anime/1290/...  \n",
              "24831  https://cdn.myanimelist.net/images/anime/1981/...  \n",
              "24856  https://cdn.myanimelist.net/images/anime/1747/...  \n",
              "\n",
              "[8046 rows x 4 columns]"
            ],
            "text/html": [
              "\n",
              "  <div id=\"df-f6b88efd-2eff-4a6d-86e6-82bcfe917fc5\" class=\"colab-df-container\">\n",
              "    <div>\n",
              "<style scoped>\n",
              "    .dataframe tbody tr th:only-of-type {\n",
              "        vertical-align: middle;\n",
              "    }\n",
              "\n",
              "    .dataframe tbody tr th {\n",
              "        vertical-align: top;\n",
              "    }\n",
              "\n",
              "    .dataframe thead th {\n",
              "        text-align: right;\n",
              "    }\n",
              "</style>\n",
              "<table border=\"1\" class=\"dataframe\">\n",
              "  <thead>\n",
              "    <tr style=\"text-align: right;\">\n",
              "      <th></th>\n",
              "      <th>Title</th>\n",
              "      <th>Rating</th>\n",
              "      <th>Summary</th>\n",
              "      <th>Poster</th>\n",
              "    </tr>\n",
              "  </thead>\n",
              "  <tbody>\n",
              "    <tr>\n",
              "      <th>0</th>\n",
              "      <td>Cowboy Bebop</td>\n",
              "      <td>8.75</td>\n",
              "      <td>Crime is timeless. By the year 2071, humanity ...</td>\n",
              "      <td>https://cdn.myanimelist.net/images/anime/4/196...</td>\n",
              "    </tr>\n",
              "    <tr>\n",
              "      <th>1</th>\n",
              "      <td>Cowboy Bebop: Tengoku no Tobira</td>\n",
              "      <td>8.38</td>\n",
              "      <td>Another day, another bounty—such is the life o...</td>\n",
              "      <td>https://cdn.myanimelist.net/images/anime/1439/...</td>\n",
              "    </tr>\n",
              "    <tr>\n",
              "      <th>2</th>\n",
              "      <td>Trigun</td>\n",
              "      <td>8.22</td>\n",
              "      <td>Vash the Stampede is the man with a $$60,000,0...</td>\n",
              "      <td>https://cdn.myanimelist.net/images/anime/7/203...</td>\n",
              "    </tr>\n",
              "    <tr>\n",
              "      <th>3</th>\n",
              "      <td>Witch Hunter Robin</td>\n",
              "      <td>7.25</td>\n",
              "      <td>Robin Sena is a powerful craft user drafted in...</td>\n",
              "      <td>https://cdn.myanimelist.net/images/anime/10/19...</td>\n",
              "    </tr>\n",
              "    <tr>\n",
              "      <th>4</th>\n",
              "      <td>Bouken Ou Beet</td>\n",
              "      <td>6.94</td>\n",
              "      <td>It is the dark century and the people are suff...</td>\n",
              "      <td>https://cdn.myanimelist.net/images/anime/7/215...</td>\n",
              "    </tr>\n",
              "    <tr>\n",
              "      <th>...</th>\n",
              "      <td>...</td>\n",
              "      <td>...</td>\n",
              "      <td>...</td>\n",
              "      <td>...</td>\n",
              "    </tr>\n",
              "    <tr>\n",
              "      <th>24579</th>\n",
              "      <td>Mashle: Mash Burnedead to Fushigi na Tegami</td>\n",
              "      <td>5.84</td>\n",
              "      <td>Recap of the first six episodes of Mashle.</td>\n",
              "      <td>https://cdn.myanimelist.net/images/anime/1097/...</td>\n",
              "    </tr>\n",
              "    <tr>\n",
              "      <th>24590</th>\n",
              "      <td>Li Shi Zhentan Shiwusuo: A Day in Lungmen - Ho...</td>\n",
              "      <td>5.99</td>\n",
              "      <td>Infiltrating, disguising, and raiding. Tonight...</td>\n",
              "      <td>https://cdn.myanimelist.net/images/anime/1865/...</td>\n",
              "    </tr>\n",
              "    <tr>\n",
              "      <th>24635</th>\n",
              "      <td>Slash</td>\n",
              "      <td>6.45</td>\n",
              "      <td>Music video for the song Slash by yama.\\n\\nThe...</td>\n",
              "      <td>https://cdn.myanimelist.net/images/anime/1290/...</td>\n",
              "    </tr>\n",
              "    <tr>\n",
              "      <th>24831</th>\n",
              "      <td>One Piece: Dai Gekisen Tokushuu! Hangeki Doume...</td>\n",
              "      <td>6.29</td>\n",
              "      <td>This is the 8th recap special of the Wano arc.</td>\n",
              "      <td>https://cdn.myanimelist.net/images/anime/1981/...</td>\n",
              "    </tr>\n",
              "    <tr>\n",
              "      <th>24856</th>\n",
              "      <td>Fins</td>\n",
              "      <td>6.45</td>\n",
              "      <td>Music video for the song Fins by Tsunomaki Wat...</td>\n",
              "      <td>https://cdn.myanimelist.net/images/anime/1747/...</td>\n",
              "    </tr>\n",
              "  </tbody>\n",
              "</table>\n",
              "<p>8046 rows × 4 columns</p>\n",
              "</div>\n",
              "    <div class=\"colab-df-buttons\">\n",
              "\n",
              "  <div class=\"colab-df-container\">\n",
              "    <button class=\"colab-df-convert\" onclick=\"convertToInteractive('df-f6b88efd-2eff-4a6d-86e6-82bcfe917fc5')\"\n",
              "            title=\"Convert this dataframe to an interactive table.\"\n",
              "            style=\"display:none;\">\n",
              "\n",
              "  <svg xmlns=\"http://www.w3.org/2000/svg\" height=\"24px\" viewBox=\"0 -960 960 960\">\n",
              "    <path d=\"M120-120v-720h720v720H120Zm60-500h600v-160H180v160Zm220 220h160v-160H400v160Zm0 220h160v-160H400v160ZM180-400h160v-160H180v160Zm440 0h160v-160H620v160ZM180-180h160v-160H180v160Zm440 0h160v-160H620v160Z\"/>\n",
              "  </svg>\n",
              "    </button>\n",
              "\n",
              "  <style>\n",
              "    .colab-df-container {\n",
              "      display:flex;\n",
              "      gap: 12px;\n",
              "    }\n",
              "\n",
              "    .colab-df-convert {\n",
              "      background-color: #E8F0FE;\n",
              "      border: none;\n",
              "      border-radius: 50%;\n",
              "      cursor: pointer;\n",
              "      display: none;\n",
              "      fill: #1967D2;\n",
              "      height: 32px;\n",
              "      padding: 0 0 0 0;\n",
              "      width: 32px;\n",
              "    }\n",
              "\n",
              "    .colab-df-convert:hover {\n",
              "      background-color: #E2EBFA;\n",
              "      box-shadow: 0px 1px 2px rgba(60, 64, 67, 0.3), 0px 1px 3px 1px rgba(60, 64, 67, 0.15);\n",
              "      fill: #174EA6;\n",
              "    }\n",
              "\n",
              "    .colab-df-buttons div {\n",
              "      margin-bottom: 4px;\n",
              "    }\n",
              "\n",
              "    [theme=dark] .colab-df-convert {\n",
              "      background-color: #3B4455;\n",
              "      fill: #D2E3FC;\n",
              "    }\n",
              "\n",
              "    [theme=dark] .colab-df-convert:hover {\n",
              "      background-color: #434B5C;\n",
              "      box-shadow: 0px 1px 3px 1px rgba(0, 0, 0, 0.15);\n",
              "      filter: drop-shadow(0px 1px 2px rgba(0, 0, 0, 0.3));\n",
              "      fill: #FFFFFF;\n",
              "    }\n",
              "  </style>\n",
              "\n",
              "    <script>\n",
              "      const buttonEl =\n",
              "        document.querySelector('#df-f6b88efd-2eff-4a6d-86e6-82bcfe917fc5 button.colab-df-convert');\n",
              "      buttonEl.style.display =\n",
              "        google.colab.kernel.accessAllowed ? 'block' : 'none';\n",
              "\n",
              "      async function convertToInteractive(key) {\n",
              "        const element = document.querySelector('#df-f6b88efd-2eff-4a6d-86e6-82bcfe917fc5');\n",
              "        const dataTable =\n",
              "          await google.colab.kernel.invokeFunction('convertToInteractive',\n",
              "                                                    [key], {});\n",
              "        if (!dataTable) return;\n",
              "\n",
              "        const docLinkHtml = 'Like what you see? Visit the ' +\n",
              "          '<a target=\"_blank\" href=https://colab.research.google.com/notebooks/data_table.ipynb>data table notebook</a>'\n",
              "          + ' to learn more about interactive tables.';\n",
              "        element.innerHTML = '';\n",
              "        dataTable['output_type'] = 'display_data';\n",
              "        await google.colab.output.renderOutput(dataTable, element);\n",
              "        const docLink = document.createElement('div');\n",
              "        docLink.innerHTML = docLinkHtml;\n",
              "        element.appendChild(docLink);\n",
              "      }\n",
              "    </script>\n",
              "  </div>\n",
              "\n",
              "\n",
              "<div id=\"df-639bf208-d7f0-4f29-aaa4-68709fe00f4a\">\n",
              "  <button class=\"colab-df-quickchart\" onclick=\"quickchart('df-639bf208-d7f0-4f29-aaa4-68709fe00f4a')\"\n",
              "            title=\"Suggest charts\"\n",
              "            style=\"display:none;\">\n",
              "\n",
              "<svg xmlns=\"http://www.w3.org/2000/svg\" height=\"24px\"viewBox=\"0 0 24 24\"\n",
              "     width=\"24px\">\n",
              "    <g>\n",
              "        <path d=\"M19 3H5c-1.1 0-2 .9-2 2v14c0 1.1.9 2 2 2h14c1.1 0 2-.9 2-2V5c0-1.1-.9-2-2-2zM9 17H7v-7h2v7zm4 0h-2V7h2v10zm4 0h-2v-4h2v4z\"/>\n",
              "    </g>\n",
              "</svg>\n",
              "  </button>\n",
              "\n",
              "<style>\n",
              "  .colab-df-quickchart {\n",
              "      --bg-color: #E8F0FE;\n",
              "      --fill-color: #1967D2;\n",
              "      --hover-bg-color: #E2EBFA;\n",
              "      --hover-fill-color: #174EA6;\n",
              "      --disabled-fill-color: #AAA;\n",
              "      --disabled-bg-color: #DDD;\n",
              "  }\n",
              "\n",
              "  [theme=dark] .colab-df-quickchart {\n",
              "      --bg-color: #3B4455;\n",
              "      --fill-color: #D2E3FC;\n",
              "      --hover-bg-color: #434B5C;\n",
              "      --hover-fill-color: #FFFFFF;\n",
              "      --disabled-bg-color: #3B4455;\n",
              "      --disabled-fill-color: #666;\n",
              "  }\n",
              "\n",
              "  .colab-df-quickchart {\n",
              "    background-color: var(--bg-color);\n",
              "    border: none;\n",
              "    border-radius: 50%;\n",
              "    cursor: pointer;\n",
              "    display: none;\n",
              "    fill: var(--fill-color);\n",
              "    height: 32px;\n",
              "    padding: 0;\n",
              "    width: 32px;\n",
              "  }\n",
              "\n",
              "  .colab-df-quickchart:hover {\n",
              "    background-color: var(--hover-bg-color);\n",
              "    box-shadow: 0 1px 2px rgba(60, 64, 67, 0.3), 0 1px 3px 1px rgba(60, 64, 67, 0.15);\n",
              "    fill: var(--button-hover-fill-color);\n",
              "  }\n",
              "\n",
              "  .colab-df-quickchart-complete:disabled,\n",
              "  .colab-df-quickchart-complete:disabled:hover {\n",
              "    background-color: var(--disabled-bg-color);\n",
              "    fill: var(--disabled-fill-color);\n",
              "    box-shadow: none;\n",
              "  }\n",
              "\n",
              "  .colab-df-spinner {\n",
              "    border: 2px solid var(--fill-color);\n",
              "    border-color: transparent;\n",
              "    border-bottom-color: var(--fill-color);\n",
              "    animation:\n",
              "      spin 1s steps(1) infinite;\n",
              "  }\n",
              "\n",
              "  @keyframes spin {\n",
              "    0% {\n",
              "      border-color: transparent;\n",
              "      border-bottom-color: var(--fill-color);\n",
              "      border-left-color: var(--fill-color);\n",
              "    }\n",
              "    20% {\n",
              "      border-color: transparent;\n",
              "      border-left-color: var(--fill-color);\n",
              "      border-top-color: var(--fill-color);\n",
              "    }\n",
              "    30% {\n",
              "      border-color: transparent;\n",
              "      border-left-color: var(--fill-color);\n",
              "      border-top-color: var(--fill-color);\n",
              "      border-right-color: var(--fill-color);\n",
              "    }\n",
              "    40% {\n",
              "      border-color: transparent;\n",
              "      border-right-color: var(--fill-color);\n",
              "      border-top-color: var(--fill-color);\n",
              "    }\n",
              "    60% {\n",
              "      border-color: transparent;\n",
              "      border-right-color: var(--fill-color);\n",
              "    }\n",
              "    80% {\n",
              "      border-color: transparent;\n",
              "      border-right-color: var(--fill-color);\n",
              "      border-bottom-color: var(--fill-color);\n",
              "    }\n",
              "    90% {\n",
              "      border-color: transparent;\n",
              "      border-bottom-color: var(--fill-color);\n",
              "    }\n",
              "  }\n",
              "</style>\n",
              "\n",
              "  <script>\n",
              "    async function quickchart(key) {\n",
              "      const quickchartButtonEl =\n",
              "        document.querySelector('#' + key + ' button');\n",
              "      quickchartButtonEl.disabled = true;  // To prevent multiple clicks.\n",
              "      quickchartButtonEl.classList.add('colab-df-spinner');\n",
              "      try {\n",
              "        const charts = await google.colab.kernel.invokeFunction(\n",
              "            'suggestCharts', [key], {});\n",
              "      } catch (error) {\n",
              "        console.error('Error during call to suggestCharts:', error);\n",
              "      }\n",
              "      quickchartButtonEl.classList.remove('colab-df-spinner');\n",
              "      quickchartButtonEl.classList.add('colab-df-quickchart-complete');\n",
              "    }\n",
              "    (() => {\n",
              "      let quickchartButtonEl =\n",
              "        document.querySelector('#df-639bf208-d7f0-4f29-aaa4-68709fe00f4a button');\n",
              "      quickchartButtonEl.style.display =\n",
              "        google.colab.kernel.accessAllowed ? 'block' : 'none';\n",
              "    })();\n",
              "  </script>\n",
              "</div>\n",
              "\n",
              "  <div id=\"id_49ca420f-2da3-4e7e-9e99-d81d7dde5aee\">\n",
              "    <style>\n",
              "      .colab-df-generate {\n",
              "        background-color: #E8F0FE;\n",
              "        border: none;\n",
              "        border-radius: 50%;\n",
              "        cursor: pointer;\n",
              "        display: none;\n",
              "        fill: #1967D2;\n",
              "        height: 32px;\n",
              "        padding: 0 0 0 0;\n",
              "        width: 32px;\n",
              "      }\n",
              "\n",
              "      .colab-df-generate:hover {\n",
              "        background-color: #E2EBFA;\n",
              "        box-shadow: 0px 1px 2px rgba(60, 64, 67, 0.3), 0px 1px 3px 1px rgba(60, 64, 67, 0.15);\n",
              "        fill: #174EA6;\n",
              "      }\n",
              "\n",
              "      [theme=dark] .colab-df-generate {\n",
              "        background-color: #3B4455;\n",
              "        fill: #D2E3FC;\n",
              "      }\n",
              "\n",
              "      [theme=dark] .colab-df-generate:hover {\n",
              "        background-color: #434B5C;\n",
              "        box-shadow: 0px 1px 3px 1px rgba(0, 0, 0, 0.15);\n",
              "        filter: drop-shadow(0px 1px 2px rgba(0, 0, 0, 0.3));\n",
              "        fill: #FFFFFF;\n",
              "      }\n",
              "    </style>\n",
              "    <button class=\"colab-df-generate\" onclick=\"generateWithVariable('df')\"\n",
              "            title=\"Generate code using this dataframe.\"\n",
              "            style=\"display:none;\">\n",
              "\n",
              "  <svg xmlns=\"http://www.w3.org/2000/svg\" height=\"24px\"viewBox=\"0 0 24 24\"\n",
              "       width=\"24px\">\n",
              "    <path d=\"M7,19H8.4L18.45,9,17,7.55,7,17.6ZM5,21V16.75L18.45,3.32a2,2,0,0,1,2.83,0l1.4,1.43a1.91,1.91,0,0,1,.58,1.4,1.91,1.91,0,0,1-.58,1.4L9.25,21ZM18.45,9,17,7.55Zm-12,3A5.31,5.31,0,0,0,4.9,8.1,5.31,5.31,0,0,0,1,6.5,5.31,5.31,0,0,0,4.9,4.9,5.31,5.31,0,0,0,6.5,1,5.31,5.31,0,0,0,8.1,4.9,5.31,5.31,0,0,0,12,6.5,5.46,5.46,0,0,0,6.5,12Z\"/>\n",
              "  </svg>\n",
              "    </button>\n",
              "    <script>\n",
              "      (() => {\n",
              "      const buttonEl =\n",
              "        document.querySelector('#id_49ca420f-2da3-4e7e-9e99-d81d7dde5aee button.colab-df-generate');\n",
              "      buttonEl.style.display =\n",
              "        google.colab.kernel.accessAllowed ? 'block' : 'none';\n",
              "\n",
              "      buttonEl.onclick = () => {\n",
              "        google.colab.notebook.generateWithVariable('df');\n",
              "      }\n",
              "      })();\n",
              "    </script>\n",
              "  </div>\n",
              "\n",
              "    </div>\n",
              "  </div>\n"
            ]
          },
          "metadata": {},
          "execution_count": 105
        }
      ],
      "source": [
        "df"
      ]
    },
    {
      "cell_type": "markdown",
      "metadata": {
        "id": "27la8H5f6l3N"
      },
      "source": [
        "## Feature Extraction"
      ]
    },
    {
      "cell_type": "code",
      "execution_count": 106,
      "metadata": {
        "id": "4gV4Feg-6Fsm",
        "colab": {
          "base_uri": "https://localhost:8080/"
        },
        "outputId": "b12dc232-6cf0-45ed-dcb1-fc622fcdc09a"
      },
      "outputs": [
        {
          "output_type": "stream",
          "name": "stderr",
          "text": [
            "<ipython-input-106-146f1a7b296e>:2: SettingWithCopyWarning: \n",
            "A value is trying to be set on a copy of a slice from a DataFrame.\n",
            "Try using .loc[row_indexer,col_indexer] = value instead\n",
            "\n",
            "See the caveats in the documentation: https://pandas.pydata.org/pandas-docs/stable/user_guide/indexing.html#returning-a-view-versus-a-copy\n",
            "  df['Summary'] = df['Summary'].apply(lambda text: str.lower(text))\n"
          ]
        }
      ],
      "source": [
        "# lowercasing\n",
        "df['Summary'] = df['Summary'].apply(lambda text: str.lower(text))"
      ]
    },
    {
      "cell_type": "code",
      "execution_count": 108,
      "metadata": {
        "id": "ftixJOJA6YQC"
      },
      "outputs": [],
      "source": [
        "import nltk\n",
        "from nltk.stem import PorterStemmer"
      ]
    },
    {
      "cell_type": "code",
      "execution_count": 109,
      "metadata": {
        "id": "q7R4SkfQ8L73"
      },
      "outputs": [],
      "source": [
        "ps = PorterStemmer()"
      ]
    },
    {
      "cell_type": "code",
      "execution_count": 110,
      "metadata": {
        "id": "sDmVgGQ98N8I"
      },
      "outputs": [],
      "source": [
        "def stems(text):\n",
        "  T = [ps.stem(i) for i in text.split()]\n",
        "  return \" \".join(T)"
      ]
    },
    {
      "cell_type": "code",
      "execution_count": 111,
      "metadata": {
        "id": "DUIVVT8F8gzj",
        "colab": {
          "base_uri": "https://localhost:8080/"
        },
        "outputId": "f124d08e-019b-4761-d5b8-e3acc838d242"
      },
      "outputs": [
        {
          "output_type": "stream",
          "name": "stderr",
          "text": [
            "<ipython-input-111-03e590e8687f>:1: SettingWithCopyWarning: \n",
            "A value is trying to be set on a copy of a slice from a DataFrame.\n",
            "Try using .loc[row_indexer,col_indexer] = value instead\n",
            "\n",
            "See the caveats in the documentation: https://pandas.pydata.org/pandas-docs/stable/user_guide/indexing.html#returning-a-view-versus-a-copy\n",
            "  df['Summary'] = df['Summary'].apply(stems)\n"
          ]
        }
      ],
      "source": [
        "df['Summary'] = df['Summary'].apply(stems)"
      ]
    },
    {
      "cell_type": "code",
      "execution_count": 112,
      "metadata": {
        "colab": {
          "base_uri": "https://localhost:8080/",
          "height": 174
        },
        "id": "MWISRFzI8kQc",
        "outputId": "e09f5fa7-cebd-43fa-b1dd-4394e20be168"
      },
      "outputs": [
        {
          "output_type": "execute_result",
          "data": {
            "text/plain": [
              "\"crime is timeless. by the year 2071, human ha expand across the galaxy, fill the surfac of other planet with settlement like those on earth. these new societi are plagu by murder, drug use, and theft, and intergalact outlaw are hunt by a grow number of tough bounti hunters. spike spiegel and jet black pursu crimin throughout space to make a humbl living. beneath hi goofi and aloof demeanor, spike is haunt by the weight of hi violent past. meanwhile, jet manag hi own troubl memori while take care of spike and the bebop, their ship. the duo is join by the beauti con artist fay valentine, odd child edward wong hau pepelu tivruski iv, and ein, a bioengin welsh corgi. while develop bond and work to catch a color cast of criminals, the bebop crew' live are disrupt by a menac from spike' past. as a rival' maniac plot continu to unravel, spike must choos between life with hi newfound famili or reveng for hi old wounds.\""
            ],
            "application/vnd.google.colaboratory.intrinsic+json": {
              "type": "string"
            }
          },
          "metadata": {},
          "execution_count": 112
        }
      ],
      "source": [
        "df['Summary'][0]"
      ]
    },
    {
      "cell_type": "code",
      "execution_count": 113,
      "metadata": {
        "id": "a8at8weu839E"
      },
      "outputs": [],
      "source": [
        "# df.to_csv('preprocessed_anime.csv', index=False)\n",
        "\n",
        "import pandas as pd\n",
        "df=pd.read_csv('preprocessed_anime.csv')"
      ]
    },
    {
      "cell_type": "markdown",
      "metadata": {
        "id": "-q4_rUjOP6oV"
      },
      "source": [
        "### Bag of Words"
      ]
    },
    {
      "cell_type": "code",
      "execution_count": 114,
      "metadata": {
        "id": "vgCPv7kXvCSJ"
      },
      "outputs": [],
      "source": [
        "import string"
      ]
    },
    {
      "cell_type": "code",
      "execution_count": 116,
      "metadata": {
        "id": "6Wjzx76wxWPO"
      },
      "outputs": [],
      "source": [
        "# Apply the function to the 'tags' column\n",
        "def remove_punctuation(text):\n",
        "    return text.translate(str.maketrans('', '', string.punctuation))\n",
        "\n",
        "# Apply the function to the 'tags' column\n",
        "df['Summary'] = df['Summary'].apply(remove_punctuation)"
      ]
    },
    {
      "cell_type": "code",
      "execution_count": 117,
      "metadata": {
        "id": "73GEmM7N9IiZ"
      },
      "outputs": [],
      "source": [
        "from sklearn.feature_extraction.text import CountVectorizer\n",
        "cv = CountVectorizer(max_features=5000,stop_words='english')"
      ]
    },
    {
      "cell_type": "code",
      "execution_count": 118,
      "metadata": {
        "id": "tk7Ir8_o9rVJ"
      },
      "outputs": [],
      "source": [
        "vector = cv.fit_transform(df['Summary']).toarray()"
      ]
    },
    {
      "cell_type": "code",
      "execution_count": 119,
      "metadata": {
        "colab": {
          "base_uri": "https://localhost:8080/"
        },
        "id": "Jtoj8y-w92NW",
        "outputId": "6084b5a7-b50d-4928-8209-9ed34a9126a1"
      },
      "outputs": [
        {
          "output_type": "execute_result",
          "data": {
            "text/plain": [
              "(8046, 5000)"
            ]
          },
          "metadata": {},
          "execution_count": 119
        }
      ],
      "source": [
        "vector.shape"
      ]
    },
    {
      "cell_type": "code",
      "execution_count": 120,
      "metadata": {
        "id": "sTsoPqiui7A8"
      },
      "outputs": [],
      "source": [
        "from scipy.sparse import csr_matrix\n",
        "\n",
        "# Assuming vector is a sparse matrix\n",
        "sparse_vector = csr_matrix(vector)"
      ]
    },
    {
      "cell_type": "code",
      "execution_count": 121,
      "metadata": {
        "id": "AqnO5RJf97bk"
      },
      "outputs": [],
      "source": [
        "from sklearn.metrics.pairwise import cosine_similarity"
      ]
    },
    {
      "cell_type": "code",
      "execution_count": 122,
      "metadata": {
        "id": "MeYMz4lV-Dq6"
      },
      "outputs": [],
      "source": [
        "similarity = cosine_similarity(vector)"
      ]
    },
    {
      "cell_type": "code",
      "execution_count": 123,
      "metadata": {
        "colab": {
          "base_uri": "https://localhost:8080/"
        },
        "id": "d-v0pARoSjvU",
        "outputId": "49089203-8131-441a-9e06-08dcbc335a8b"
      },
      "outputs": [
        {
          "output_type": "execute_result",
          "data": {
            "text/plain": [
              "numpy.ndarray"
            ]
          },
          "metadata": {},
          "execution_count": 123
        }
      ],
      "source": [
        "type(similarity)"
      ]
    },
    {
      "cell_type": "code",
      "execution_count": 124,
      "metadata": {
        "colab": {
          "base_uri": "https://localhost:8080/"
        },
        "id": "IvX223m-TLEm",
        "outputId": "e46b416a-1363-44a2-f687-64d947d552bd"
      },
      "outputs": [
        {
          "output_type": "execute_result",
          "data": {
            "text/plain": [
              "dtype('float64')"
            ]
          },
          "metadata": {},
          "execution_count": 124
        }
      ],
      "source": [
        "similarity.dtype"
      ]
    },
    {
      "cell_type": "code",
      "execution_count": 125,
      "metadata": {
        "id": "ETQfnLBfTseY"
      },
      "outputs": [],
      "source": [
        "anime_similarity= similarity.astype('float32')"
      ]
    },
    {
      "cell_type": "code",
      "execution_count": 126,
      "metadata": {
        "colab": {
          "base_uri": "https://localhost:8080/"
        },
        "id": "XwHWVkNX-JlH",
        "outputId": "08681e98-ced1-453e-96ad-35e5d38e4d18"
      },
      "outputs": [
        {
          "output_type": "execute_result",
          "data": {
            "text/plain": [
              "(8046, 8046)"
            ]
          },
          "metadata": {},
          "execution_count": 126
        }
      ],
      "source": [
        "anime_similarity.shape"
      ]
    },
    {
      "cell_type": "code",
      "execution_count": 127,
      "metadata": {
        "colab": {
          "base_uri": "https://localhost:8080/"
        },
        "id": "pmcLWpTi1DVx",
        "outputId": "8f4deac1-d94c-435b-af3e-ed2213f5fd26"
      },
      "outputs": [
        {
          "output_type": "execute_result",
          "data": {
            "text/plain": [
              "array([1.        , 0.1465027 , 0.24581032, ..., 0.        , 0.        ,\n",
              "       0.        ], dtype=float32)"
            ]
          },
          "metadata": {},
          "execution_count": 127
        }
      ],
      "source": [
        "anime_similarity[0]"
      ]
    },
    {
      "cell_type": "code",
      "execution_count": 134,
      "metadata": {
        "id": "8gXWN_ox_QK9"
      },
      "outputs": [],
      "source": [
        "def recommend(movie):\n",
        "  index = df[df['Title']==movie].index[0]\n",
        "  distances = sorted(list(enumerate(anime_similarity[index])),reverse=True, key=lambda x:x[1])\n",
        "  for i in distances[1:6]:\n",
        "    print(df.iloc[i[0]].Title)\n"
      ]
    },
    {
      "cell_type": "code",
      "source": [
        "df['Title']"
      ],
      "metadata": {
        "colab": {
          "base_uri": "https://localhost:8080/"
        },
        "id": "wTD2oetaLOA3",
        "outputId": "95ff6a51-6612-46e8-dd9c-151e7879ac27"
      },
      "execution_count": 143,
      "outputs": [
        {
          "output_type": "execute_result",
          "data": {
            "text/plain": [
              "0                                            Cowboy Bebop\n",
              "1                         Cowboy Bebop: Tengoku no Tobira\n",
              "2                                                  Trigun\n",
              "3                                      Witch Hunter Robin\n",
              "4                                          Bouken Ou Beet\n",
              "                              ...                        \n",
              "8041          Mashle: Mash Burnedead to Fushigi na Tegami\n",
              "8042    Li Shi Zhentan Shiwusuo: A Day in Lungmen - Ho...\n",
              "8043                                                Slash\n",
              "8044    One Piece: Dai Gekisen Tokushuu! Hangeki Doume...\n",
              "8045                                                 Fins\n",
              "Name: Title, Length: 8046, dtype: object"
            ]
          },
          "metadata": {},
          "execution_count": 143
        }
      ]
    },
    {
      "cell_type": "code",
      "execution_count": 136,
      "metadata": {
        "colab": {
          "base_uri": "https://localhost:8080/"
        },
        "id": "P2XRxfdj_wni",
        "outputId": "7aa268ec-4e29-4482-a376-1ab8611b0af4"
      },
      "outputs": [
        {
          "output_type": "stream",
          "name": "stdout",
          "text": [
            "Black Lagoon\n",
            "Saikyou Onmyouji no Isekai Tenseiki\n",
            "Cike Wu Liuqi\n",
            "Araiguma Rascal\n",
            "Mushoku Tensei: Isekai Ittara Honki Dasu\n"
          ]
        }
      ],
      "source": [
        "recommend('Cowboy Bebop')"
      ]
    },
    {
      "cell_type": "code",
      "execution_count": 138,
      "metadata": {
        "colab": {
          "base_uri": "https://localhost:8080/"
        },
        "id": "2-VPaxk6yLNP",
        "outputId": "21ad29db-fdfc-42bc-a9f8-b827edc64e0c"
      },
      "outputs": [
        {
          "output_type": "stream",
          "name": "stdout",
          "text": [
            "Boruto: Naruto the Movie\n",
            "Boruto: Naruto Next Generations\n",
            "Naruto: Shippuuden\n",
            "Naruto: Shippuuden Movie 5 - Blood Prison\n",
            "Naruto: Shippuuden Movie 2 - Kizuna\n"
          ]
        }
      ],
      "source": [
        "recommend('Naruto')"
      ]
    },
    {
      "cell_type": "code",
      "execution_count": 139,
      "metadata": {
        "colab": {
          "base_uri": "https://localhost:8080/"
        },
        "id": "_0u3KmGiI0K2",
        "outputId": "ff8abe42-c474-40ad-8927-59d771110b16"
      },
      "outputs": [
        {
          "output_type": "stream",
          "name": "stdout",
          "text": [
            "One Piece: Episode of East Blue - Luffy to 4-nin no Nakama no Daibouken\n",
            "One Piece Film: Strong World\n",
            "One Piece: Oounabara ni Hirake! Dekkai Dekkai Chichi no Yume!\n",
            "Space Cobra\n",
            "Cike Wu Liuqi\n"
          ]
        }
      ],
      "source": [
        "recommend('One Piece')"
      ]
    },
    {
      "cell_type": "code",
      "execution_count": 140,
      "metadata": {
        "colab": {
          "base_uri": "https://localhost:8080/"
        },
        "id": "xLOzolO0yNw3",
        "outputId": "c48978a9-c016-49a0-b371-473b91b2cbc5"
      },
      "outputs": [
        {
          "output_type": "stream",
          "name": "stdout",
          "text": [
            "Death Note: Rewrite\n",
            "Kuang Shen Mo Zun\n",
            "Cike Wu Liuqi\n",
            "Mushoku Tensei: Isekai Ittara Honki Dasu\n",
            "Kaiketsu Zorori: Mahoutsukai no Deshi/Dai Kaizoku no Takara Sagashi\n"
          ]
        }
      ],
      "source": [
        "recommend('Death Note')"
      ]
    },
    {
      "cell_type": "code",
      "execution_count": 146,
      "metadata": {
        "id": "PC3rHPZb_y3a"
      },
      "outputs": [],
      "source": [
        "import pickle\n",
        "# pickle.dump(df,open('movie_list1.pkl','wb'))\n",
        "pickle.dump(anime_similarity,open('anime_similarity.pkl','wb'))"
      ]
    },
    {
      "cell_type": "code",
      "source": [],
      "metadata": {
        "id": "Wr1K6CSSMmSs"
      },
      "execution_count": null,
      "outputs": []
    },
    {
      "cell_type": "code",
      "source": [
        "print(\"j\")"
      ],
      "metadata": {
        "colab": {
          "base_uri": "https://localhost:8080/"
        },
        "id": "SxB9N6HqMmPR",
        "outputId": "8cf05ec1-4bca-4eb4-8c55-e3895c7b935f"
      },
      "execution_count": 178,
      "outputs": [
        {
          "output_type": "stream",
          "name": "stdout",
          "text": [
            "j\n"
          ]
        }
      ]
    },
    {
      "cell_type": "markdown",
      "source": [
        "### Tf-Idf"
      ],
      "metadata": {
        "id": "hBWIYSsDMngO"
      }
    },
    {
      "cell_type": "code",
      "source": [
        "import pandas as pd\n",
        "from sklearn.feature_extraction.text import TfidfVectorizer\n",
        "from sklearn.metrics.pairwise import linear_kernel\n",
        "\n",
        "# Initialize the TfidfVectorizer\n",
        "tfidf_vectorizer = TfidfVectorizer(stop_words='english',ngram_range=(1, 3))\n",
        "\n",
        "# Fit and transform the 'tags' column\n",
        "tfidf_matrix = tfidf_vectorizer.fit_transform(df['Summary'].fillna(''))\n",
        "\n",
        "# Compute the cosine similarity between movies\n",
        "cosine_similarity = linear_kernel(tfidf_matrix, tfidf_matrix)\n",
        "\n",
        "\n",
        "# Function to get movie recommendations based on TF-IDF\n",
        "def recommend_movies(movie_title, cosine_sim=cosine_similarity, df=df):\n",
        "    # Get the index of the movie\n",
        "    movie_index = df[df['Title'] == movie_title].index[0]\n",
        "\n",
        "    # Get the pairwise similarity scores with other movies\n",
        "    similarity_scores = list(enumerate(cosine_sim[movie_index]))\n",
        "\n",
        "    # Sort the movies based on similarity scores\n",
        "    similarity_scores = sorted(similarity_scores, key=lambda x: x[1], reverse=True)\n",
        "\n",
        "    # Get the top 5 recommended movies\n",
        "    recommended_movies = [(df.iloc[i[0]].Title) for i in similarity_scores[1:6]]\n",
        "\n",
        "    return recommended_movies\n"
      ],
      "metadata": {
        "id": "cbqQmnHZNimC"
      },
      "execution_count": 154,
      "outputs": []
    },
    {
      "cell_type": "code",
      "source": [
        "# Example: Get recommendations for a movie\n",
        "movie_title = 'Naruto'\n",
        "recommendations = recommend_movies(movie_title)\n",
        "print(f\"Top 5 recommended movies for '{movie_title}':\")\n",
        "for rec in recommendations:\n",
        "    print(rec)"
      ],
      "metadata": {
        "colab": {
          "base_uri": "https://localhost:8080/"
        },
        "id": "03rlS3KvOf-c",
        "outputId": "08d71769-95df-439b-eab8-5fc70b6073fe"
      },
      "execution_count": 155,
      "outputs": [
        {
          "output_type": "stream",
          "name": "stdout",
          "text": [
            "Top 5 recommended movies for 'Naruto':\n",
            "Naruto: Shippuuden\n",
            "Naruto: Shippuuden Movie 6 - Road to Ninja\n",
            "Boruto: Naruto Next Generations\n",
            "Naruto: Shippuuden Movie 4 - The Lost Tower\n",
            "Naruto: Shippuuden - Shippuu! \"Konoha Gakuen\" Den\n"
          ]
        }
      ]
    },
    {
      "cell_type": "code",
      "source": [
        "# Example: Get recommendations for a movie\n",
        "movie_title = 'Fruits Basket'\n",
        "recommendations = recommend_movies(movie_title)\n",
        "print(f\"Top 5 recommended movies for '{movie_title}':\")\n",
        "for rec in recommendations:\n",
        "    print(rec)"
      ],
      "metadata": {
        "colab": {
          "base_uri": "https://localhost:8080/"
        },
        "id": "BsxWb7k7Nk9_",
        "outputId": "c68b8e98-ec04-47d8-8171-0230a97c5068"
      },
      "execution_count": 163,
      "outputs": [
        {
          "output_type": "stream",
          "name": "stdout",
          "text": [
            "Top 5 recommended movies for 'Fruits Basket':\n",
            "Fruits Basket 1st Season\n",
            "Fruits Basket 2nd Season\n",
            "Yubisaki kara Honki no Netsujou: Osananajimi wa Shouboushi\n",
            "Kobayashi-san Chi no Maid Dragon\n",
            "Fruits Basket: The Final\n"
          ]
        }
      ]
    },
    {
      "cell_type": "markdown",
      "source": [
        "### KNN"
      ],
      "metadata": {
        "id": "S2zYlTIXM7YT"
      }
    },
    {
      "cell_type": "code",
      "execution_count": 164,
      "metadata": {
        "id": "nbVO2eSc2CUC"
      },
      "outputs": [],
      "source": [
        "import pandas as pd\n",
        "from sklearn.feature_extraction.text import TfidfVectorizer\n",
        "from sklearn.neighbors import NearestNeighbors\n",
        "\n",
        "# Initialize the TfidfVectorizer\n",
        "tfidf_vectorizer = TfidfVectorizer(stop_words='english', ngram_range=(1, 3))\n",
        "\n",
        "# Fit and transform the 'tags' column\n",
        "tfidf_matrix = tfidf_vectorizer.fit_transform(df['Summary'].fillna(''))\n",
        "\n",
        "# Initialize the NearestNeighbors model\n",
        "knn_model = NearestNeighbors(n_neighbors=6, algorithm='brute', metric='cosine')\n",
        "knn_model.fit(tfidf_matrix)\n",
        "\n",
        "# Function to get movie recommendations based on KNN\n",
        "def recommend_movies(movie_title, knn_model=knn_model, df=df, tfidf_vectorizer=tfidf_vectorizer):\n",
        "    # Transform the input movie's summary to TF-IDF vector\n",
        "    input_movie_tfidf = tfidf_vectorizer.transform([df.loc[df['Title'] == movie_title, 'Summary'].values[0]])\n",
        "\n",
        "    # Find the indices and distances of the nearest neighbors\n",
        "    _, indices = knn_model.kneighbors(input_movie_tfidf)\n",
        "\n",
        "    # Get the top 5 recommended movies\n",
        "    recommended_movies = [df.iloc[i]['Title'] for i in indices.flatten()[1:6]]\n",
        "\n",
        "    return recommended_movies\n"
      ]
    },
    {
      "cell_type": "code",
      "source": [
        "with open('knn_anime_recommender.pkl', 'wb') as file:\n",
        "    pickle.dump(knn_model, file)"
      ],
      "metadata": {
        "id": "mR5STQP-U6R6"
      },
      "execution_count": 177,
      "outputs": []
    },
    {
      "cell_type": "code",
      "source": [
        "# Example: Get recommendations for a movie\n",
        "movie_title = 'One Piece'\n",
        "recommendations = recommend_movies(movie_title)\n",
        "print(f\"Top 5 recommended movies for '{movie_title}':\")\n",
        "for rec in recommendations:\n",
        "    print(rec)"
      ],
      "metadata": {
        "colab": {
          "base_uri": "https://localhost:8080/"
        },
        "id": "ktKRXqetRODY",
        "outputId": "47e49fec-e84c-467b-b877-17ae63c958df"
      },
      "execution_count": 166,
      "outputs": [
        {
          "output_type": "stream",
          "name": "stdout",
          "text": [
            "Top 5 recommended movies for 'One Piece':\n",
            "One Piece: Episode of East Blue - Luffy to 4-nin no Nakama no Daibouken\n",
            "One Piece Film: Z\n",
            "One Piece Movie 14: Stampede\n",
            "One Piece Film: Strong World\n",
            "One Piece: Romance Dawn Story\n"
          ]
        }
      ]
    },
    {
      "cell_type": "code",
      "source": [
        "# Example: Get recommendations for a movie\n",
        "movie_title = 'Hunter x Hunter'\n",
        "recommendations = recommend_movies(movie_title)\n",
        "print(f\"Top 5 recommended movies for '{movie_title}':\")\n",
        "for rec in recommendations:\n",
        "    print(rec)"
      ],
      "metadata": {
        "colab": {
          "base_uri": "https://localhost:8080/"
        },
        "id": "-suKixbIRRcu",
        "outputId": "3eb127c1-019a-4b9d-ad91-f472a7fc8572"
      },
      "execution_count": 167,
      "outputs": [
        {
          "output_type": "stream",
          "name": "stdout",
          "text": [
            "Top 5 recommended movies for 'Hunter x Hunter':\n",
            "Hunter x Hunter (2011)\n",
            "Hunter x Hunter Movie 1: Phantom Rouge\n",
            "Hunter x Hunter Movie 2: The Last Mission\n",
            "Vampire Hunter D (2000)\n",
            "Hikari no Ou\n"
          ]
        }
      ]
    },
    {
      "cell_type": "code",
      "source": [],
      "metadata": {
        "id": "dKfMMU6XTaNR"
      },
      "execution_count": null,
      "outputs": []
    }
  ],
  "metadata": {
    "colab": {
      "provenance": []
    },
    "kernelspec": {
      "display_name": "Python 3",
      "name": "python3"
    },
    "language_info": {
      "codemirror_mode": {
        "name": "ipython",
        "version": 3
      },
      "file_extension": ".py",
      "mimetype": "text/x-python",
      "name": "python",
      "nbconvert_exporter": "python",
      "pygments_lexer": "ipython3",
      "version": "3.8.18"
    }
  },
  "nbformat": 4,
  "nbformat_minor": 0
}